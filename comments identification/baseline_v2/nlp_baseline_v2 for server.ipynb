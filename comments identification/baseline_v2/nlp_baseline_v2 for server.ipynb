{
 "cells": [
  {
   "cell_type": "markdown",
   "id": "68696f7d-99f7-4a1b-97b1-882d0c5565e9",
   "metadata": {
    "id": "68696f7d-99f7-4a1b-97b1-882d0c5565e9"
   },
   "source": [
    "# [모의 캐글 - 게임] 비매너 댓글 식별 \n",
    "\n",
    "- 자연어 multi label classification 과제\n",
    "- 작성자 : MNC Sukyung Kim (skkim@mnc.ai)\n",
    "\n",
    "참고 논문 : \n",
    "- [BERT: Pre-training of Deep Bidirectional Transformers for\n",
    "Language Understanding](https://arxiv.org/pdf/1810.04805.pdf)\n",
    "- [Attention Is All You Need](https://arxiv.org/pdf/1706.03762.pdf)"
   ]
  },
  {
   "cell_type": "markdown",
   "id": "0bfa42a1-848b-4d3b-b13e-b65cf0972404",
   "metadata": {
    "id": "0bfa42a1-848b-4d3b-b13e-b65cf0972404"
   },
   "source": [
    "# 1. 환경 설정 및 라이브러리 불러오기"
   ]
  },
  {
   "cell_type": "code",
   "execution_count": 1,
   "id": "ZpaHo4uSZzxb",
   "metadata": {
    "colab": {
     "base_uri": "https://localhost:8080/"
    },
    "executionInfo": {
     "elapsed": 18476,
     "status": "ok",
     "timestamp": 1646179473793,
     "user": {
      "displayName": "김대영",
      "photoUrl": "https://lh3.googleusercontent.com/a/default-user=s64",
      "userId": "13005697931416995907"
     },
     "user_tz": -540
    },
    "id": "ZpaHo4uSZzxb",
    "outputId": "685a6610-a591-459d-8d9f-b4a9ce32a40d"
   },
   "outputs": [
    {
     "name": "stdout",
     "output_type": "stream",
     "text": [
      "Mounted at /content/drive\n"
     ]
    }
   ],
   "source": [
    "# from google.colab import drive\n",
    "# drive.mount('/content/drive')"
   ]
  },
  {
   "cell_type": "code",
   "execution_count": 1,
   "id": "0EZR62eghhyx",
   "metadata": {
    "executionInfo": {
     "elapsed": 4,
     "status": "ok",
     "timestamp": 1646180178210,
     "user": {
      "displayName": "김대영",
      "photoUrl": "https://lh3.googleusercontent.com/a/default-user=s64",
      "userId": "13005697931416995907"
     },
     "user_tz": -540
    },
    "id": "0EZR62eghhyx"
   },
   "outputs": [],
   "source": [
    "PATH = '/USER/daeyeong/Project1/comments identification/baseline_v2/'"
   ]
  },
  {
   "cell_type": "code",
   "execution_count": 2,
   "id": "e6c0e90b-6f4c-45fd-b83c-140dcde11d2b",
   "metadata": {
    "colab": {
     "base_uri": "https://localhost:8080/"
    },
    "executionInfo": {
     "elapsed": 9456,
     "status": "ok",
     "timestamp": 1646180188875,
     "user": {
      "displayName": "김대영",
      "photoUrl": "https://lh3.googleusercontent.com/a/default-user=s64",
      "userId": "13005697931416995907"
     },
     "user_tz": -540
    },
    "id": "e6c0e90b-6f4c-45fd-b83c-140dcde11d2b",
    "outputId": "f2470d93-e8d3-4839-cee4-ee23157b7a2c",
    "tags": []
   },
   "outputs": [
    {
     "name": "stdout",
     "output_type": "stream",
     "text": [
      "Collecting attrdict\n",
      "  Downloading attrdict-2.0.1-py2.py3-none-any.whl (9.9 kB)\n",
      "Collecting fastprogress\n",
      "  Downloading fastprogress-1.0.2-py3-none-any.whl (12 kB)\n",
      "Requirement already satisfied: pandas in /opt/conda/lib/python3.8/site-packages (from -r /USER/daeyeong/Project1/comments identification/baseline_v2/requirements.txt (line 3)) (1.4.0)\n",
      "Requirement already satisfied: scikit-learn in /opt/conda/lib/python3.8/site-packages (from -r /USER/daeyeong/Project1/comments identification/baseline_v2/requirements.txt (line 4)) (1.0.2)\n",
      "Requirement already satisfied: matplotlib in /opt/conda/lib/python3.8/site-packages (from -r /USER/daeyeong/Project1/comments identification/baseline_v2/requirements.txt (line 5)) (3.5.1)\n",
      "Requirement already satisfied: transformers in /opt/conda/lib/python3.8/site-packages (from -r /USER/daeyeong/Project1/comments identification/baseline_v2/requirements.txt (line 6)) (4.16.2)\n",
      "Collecting ipywidgets\n",
      "  Downloading ipywidgets-7.6.5-py2.py3-none-any.whl (121 kB)\n",
      "\u001b[K     |████████████████████████████████| 121 kB 28.1 MB/s eta 0:00:01\n",
      "\u001b[?25hRequirement already satisfied: six in /opt/conda/lib/python3.8/site-packages (from attrdict->-r /USER/daeyeong/Project1/comments identification/baseline_v2/requirements.txt (line 1)) (1.15.0)\n",
      "Requirement already satisfied: numpy>=1.18.5; platform_machine != \"aarch64\" and platform_machine != \"arm64\" and python_version < \"3.10\" in /opt/conda/lib/python3.8/site-packages (from pandas->-r /USER/daeyeong/Project1/comments identification/baseline_v2/requirements.txt (line 3)) (1.19.2)\n",
      "Requirement already satisfied: python-dateutil>=2.8.1 in /opt/conda/lib/python3.8/site-packages (from pandas->-r /USER/daeyeong/Project1/comments identification/baseline_v2/requirements.txt (line 3)) (2.8.2)\n",
      "Requirement already satisfied: pytz>=2020.1 in /opt/conda/lib/python3.8/site-packages (from pandas->-r /USER/daeyeong/Project1/comments identification/baseline_v2/requirements.txt (line 3)) (2020.5)\n",
      "Requirement already satisfied: joblib>=0.11 in /opt/conda/lib/python3.8/site-packages (from scikit-learn->-r /USER/daeyeong/Project1/comments identification/baseline_v2/requirements.txt (line 4)) (1.1.0)\n",
      "Requirement already satisfied: threadpoolctl>=2.0.0 in /opt/conda/lib/python3.8/site-packages (from scikit-learn->-r /USER/daeyeong/Project1/comments identification/baseline_v2/requirements.txt (line 4)) (3.1.0)\n",
      "Requirement already satisfied: scipy>=1.1.0 in /opt/conda/lib/python3.8/site-packages (from scikit-learn->-r /USER/daeyeong/Project1/comments identification/baseline_v2/requirements.txt (line 4)) (1.8.0)\n",
      "Requirement already satisfied: pyparsing>=2.2.1 in /opt/conda/lib/python3.8/site-packages (from matplotlib->-r /USER/daeyeong/Project1/comments identification/baseline_v2/requirements.txt (line 5)) (2.4.7)\n",
      "Requirement already satisfied: kiwisolver>=1.0.1 in /opt/conda/lib/python3.8/site-packages (from matplotlib->-r /USER/daeyeong/Project1/comments identification/baseline_v2/requirements.txt (line 5)) (1.3.2)\n",
      "Requirement already satisfied: pillow>=6.2.0 in /opt/conda/lib/python3.8/site-packages (from matplotlib->-r /USER/daeyeong/Project1/comments identification/baseline_v2/requirements.txt (line 5)) (8.1.0)\n",
      "Requirement already satisfied: fonttools>=4.22.0 in /opt/conda/lib/python3.8/site-packages (from matplotlib->-r /USER/daeyeong/Project1/comments identification/baseline_v2/requirements.txt (line 5)) (4.29.1)\n",
      "Requirement already satisfied: cycler>=0.10 in /opt/conda/lib/python3.8/site-packages (from matplotlib->-r /USER/daeyeong/Project1/comments identification/baseline_v2/requirements.txt (line 5)) (0.11.0)\n",
      "Requirement already satisfied: packaging>=20.0 in /opt/conda/lib/python3.8/site-packages (from matplotlib->-r /USER/daeyeong/Project1/comments identification/baseline_v2/requirements.txt (line 5)) (21.0)\n",
      "Requirement already satisfied: regex!=2019.12.17 in /opt/conda/lib/python3.8/site-packages (from transformers->-r /USER/daeyeong/Project1/comments identification/baseline_v2/requirements.txt (line 6)) (2022.1.18)\n",
      "Requirement already satisfied: pyyaml>=5.1 in /opt/conda/lib/python3.8/site-packages (from transformers->-r /USER/daeyeong/Project1/comments identification/baseline_v2/requirements.txt (line 6)) (5.3.1)\n",
      "Requirement already satisfied: requests in /opt/conda/lib/python3.8/site-packages (from transformers->-r /USER/daeyeong/Project1/comments identification/baseline_v2/requirements.txt (line 6)) (2.24.0)\n",
      "Requirement already satisfied: tqdm>=4.27 in /opt/conda/lib/python3.8/site-packages (from transformers->-r /USER/daeyeong/Project1/comments identification/baseline_v2/requirements.txt (line 6)) (4.51.0)\n",
      "Requirement already satisfied: tokenizers!=0.11.3,>=0.10.1 in /opt/conda/lib/python3.8/site-packages (from transformers->-r /USER/daeyeong/Project1/comments identification/baseline_v2/requirements.txt (line 6)) (0.11.5)\n",
      "Requirement already satisfied: sacremoses in /opt/conda/lib/python3.8/site-packages (from transformers->-r /USER/daeyeong/Project1/comments identification/baseline_v2/requirements.txt (line 6)) (0.0.47)\n",
      "Requirement already satisfied: huggingface-hub<1.0,>=0.1.0 in /opt/conda/lib/python3.8/site-packages (from transformers->-r /USER/daeyeong/Project1/comments identification/baseline_v2/requirements.txt (line 6)) (0.4.0)\n",
      "Requirement already satisfied: filelock in /opt/conda/lib/python3.8/site-packages (from transformers->-r /USER/daeyeong/Project1/comments identification/baseline_v2/requirements.txt (line 6)) (3.0.12)\n",
      "Collecting widgetsnbextension~=3.5.0\n",
      "  Downloading widgetsnbextension-3.5.2-py2.py3-none-any.whl (1.6 MB)\n",
      "\u001b[K     |████████████████████████████████| 1.6 MB 39.6 MB/s eta 0:00:01\n",
      "\u001b[?25hRequirement already satisfied: ipython>=4.0.0; python_version >= \"3.3\" in /opt/conda/lib/python3.8/site-packages (from ipywidgets->-r /USER/daeyeong/Project1/comments identification/baseline_v2/requirements.txt (line 7)) (7.28.0)\n",
      "Requirement already satisfied: ipykernel>=4.5.1 in /opt/conda/lib/python3.8/site-packages (from ipywidgets->-r /USER/daeyeong/Project1/comments identification/baseline_v2/requirements.txt (line 7)) (6.4.1)\n",
      "Requirement already satisfied: ipython-genutils~=0.2.0 in /opt/conda/lib/python3.8/site-packages (from ipywidgets->-r /USER/daeyeong/Project1/comments identification/baseline_v2/requirements.txt (line 7)) (0.2.0)\n",
      "Collecting jupyterlab-widgets>=1.0.0; python_version >= \"3.6\"\n",
      "  Downloading jupyterlab_widgets-1.0.2-py3-none-any.whl (243 kB)\n",
      "\u001b[K     |████████████████████████████████| 243 kB 35.4 MB/s eta 0:00:01\n",
      "\u001b[?25hRequirement already satisfied: traitlets>=4.3.1 in /opt/conda/lib/python3.8/site-packages (from ipywidgets->-r /USER/daeyeong/Project1/comments identification/baseline_v2/requirements.txt (line 7)) (5.0.5)\n",
      "Requirement already satisfied: nbformat>=4.2.0 in /opt/conda/lib/python3.8/site-packages (from ipywidgets->-r /USER/daeyeong/Project1/comments identification/baseline_v2/requirements.txt (line 7)) (5.1.3)\n",
      "Requirement already satisfied: urllib3!=1.25.0,!=1.25.1,<1.26,>=1.21.1 in /opt/conda/lib/python3.8/site-packages (from requests->transformers->-r /USER/daeyeong/Project1/comments identification/baseline_v2/requirements.txt (line 6)) (1.25.11)\n",
      "Requirement already satisfied: chardet<4,>=3.0.2 in /opt/conda/lib/python3.8/site-packages (from requests->transformers->-r /USER/daeyeong/Project1/comments identification/baseline_v2/requirements.txt (line 6)) (3.0.4)\n",
      "Requirement already satisfied: certifi>=2017.4.17 in /opt/conda/lib/python3.8/site-packages (from requests->transformers->-r /USER/daeyeong/Project1/comments identification/baseline_v2/requirements.txt (line 6)) (2020.12.5)\n",
      "Requirement already satisfied: idna<3,>=2.5 in /opt/conda/lib/python3.8/site-packages (from requests->transformers->-r /USER/daeyeong/Project1/comments identification/baseline_v2/requirements.txt (line 6)) (2.10)\n",
      "Requirement already satisfied: click in /opt/conda/lib/python3.8/site-packages (from sacremoses->transformers->-r /USER/daeyeong/Project1/comments identification/baseline_v2/requirements.txt (line 6)) (8.0.4)\n",
      "Requirement already satisfied: typing-extensions>=3.7.4.3 in /opt/conda/lib/python3.8/site-packages (from huggingface-hub<1.0,>=0.1.0->transformers->-r /USER/daeyeong/Project1/comments identification/baseline_v2/requirements.txt (line 6)) (3.7.4.3)\n",
      "Requirement already satisfied: notebook>=4.4.1 in /opt/conda/lib/python3.8/site-packages (from widgetsnbextension~=3.5.0->ipywidgets->-r /USER/daeyeong/Project1/comments identification/baseline_v2/requirements.txt (line 7)) (6.4.4)\n",
      "Requirement already satisfied: backcall in /opt/conda/lib/python3.8/site-packages (from ipython>=4.0.0; python_version >= \"3.3\"->ipywidgets->-r /USER/daeyeong/Project1/comments identification/baseline_v2/requirements.txt (line 7)) (0.2.0)\n",
      "Requirement already satisfied: prompt-toolkit!=3.0.0,!=3.0.1,<3.1.0,>=2.0.0 in /opt/conda/lib/python3.8/site-packages (from ipython>=4.0.0; python_version >= \"3.3\"->ipywidgets->-r /USER/daeyeong/Project1/comments identification/baseline_v2/requirements.txt (line 7)) (3.0.8)\n",
      "Requirement already satisfied: pickleshare in /opt/conda/lib/python3.8/site-packages (from ipython>=4.0.0; python_version >= \"3.3\"->ipywidgets->-r /USER/daeyeong/Project1/comments identification/baseline_v2/requirements.txt (line 7)) (0.7.5)\n",
      "Requirement already satisfied: matplotlib-inline in /opt/conda/lib/python3.8/site-packages (from ipython>=4.0.0; python_version >= \"3.3\"->ipywidgets->-r /USER/daeyeong/Project1/comments identification/baseline_v2/requirements.txt (line 7)) (0.1.3)\n",
      "Requirement already satisfied: pygments in /opt/conda/lib/python3.8/site-packages (from ipython>=4.0.0; python_version >= \"3.3\"->ipywidgets->-r /USER/daeyeong/Project1/comments identification/baseline_v2/requirements.txt (line 7)) (2.7.4)\n",
      "Requirement already satisfied: decorator in /opt/conda/lib/python3.8/site-packages (from ipython>=4.0.0; python_version >= \"3.3\"->ipywidgets->-r /USER/daeyeong/Project1/comments identification/baseline_v2/requirements.txt (line 7)) (4.4.2)\n",
      "Requirement already satisfied: jedi>=0.16 in /opt/conda/lib/python3.8/site-packages (from ipython>=4.0.0; python_version >= \"3.3\"->ipywidgets->-r /USER/daeyeong/Project1/comments identification/baseline_v2/requirements.txt (line 7)) (0.17.2)\n",
      "Requirement already satisfied: pexpect>4.3; sys_platform != \"win32\" in /opt/conda/lib/python3.8/site-packages (from ipython>=4.0.0; python_version >= \"3.3\"->ipywidgets->-r /USER/daeyeong/Project1/comments identification/baseline_v2/requirements.txt (line 7)) (4.8.0)\n",
      "Requirement already satisfied: setuptools>=18.5 in /opt/conda/lib/python3.8/site-packages (from ipython>=4.0.0; python_version >= \"3.3\"->ipywidgets->-r /USER/daeyeong/Project1/comments identification/baseline_v2/requirements.txt (line 7)) (50.3.1.post20201107)\n",
      "Requirement already satisfied: debugpy<2.0,>=1.0.0 in /opt/conda/lib/python3.8/site-packages (from ipykernel>=4.5.1->ipywidgets->-r /USER/daeyeong/Project1/comments identification/baseline_v2/requirements.txt (line 7)) (1.4.3)\n",
      "Requirement already satisfied: tornado<7.0,>=4.2 in /opt/conda/lib/python3.8/site-packages (from ipykernel>=4.5.1->ipywidgets->-r /USER/daeyeong/Project1/comments identification/baseline_v2/requirements.txt (line 7)) (6.1)\n",
      "Requirement already satisfied: jupyter-client<8.0 in /opt/conda/lib/python3.8/site-packages (from ipykernel>=4.5.1->ipywidgets->-r /USER/daeyeong/Project1/comments identification/baseline_v2/requirements.txt (line 7)) (7.0.5)\n",
      "Requirement already satisfied: jupyter-core in /opt/conda/lib/python3.8/site-packages (from nbformat>=4.2.0->ipywidgets->-r /USER/daeyeong/Project1/comments identification/baseline_v2/requirements.txt (line 7)) (4.8.1)\n",
      "Requirement already satisfied: jsonschema!=2.5.0,>=2.4 in /opt/conda/lib/python3.8/site-packages (from nbformat>=4.2.0->ipywidgets->-r /USER/daeyeong/Project1/comments identification/baseline_v2/requirements.txt (line 7)) (4.0.0)\n",
      "Requirement already satisfied: pyzmq>=17 in /opt/conda/lib/python3.8/site-packages (from notebook>=4.4.1->widgetsnbextension~=3.5.0->ipywidgets->-r /USER/daeyeong/Project1/comments identification/baseline_v2/requirements.txt (line 7)) (22.3.0)\n",
      "Requirement already satisfied: nbconvert in /opt/conda/lib/python3.8/site-packages (from notebook>=4.4.1->widgetsnbextension~=3.5.0->ipywidgets->-r /USER/daeyeong/Project1/comments identification/baseline_v2/requirements.txt (line 7)) (6.2.0)\n",
      "Requirement already satisfied: prometheus-client in /opt/conda/lib/python3.8/site-packages (from notebook>=4.4.1->widgetsnbextension~=3.5.0->ipywidgets->-r /USER/daeyeong/Project1/comments identification/baseline_v2/requirements.txt (line 7)) (0.11.0)\n",
      "Requirement already satisfied: argon2-cffi in /opt/conda/lib/python3.8/site-packages (from notebook>=4.4.1->widgetsnbextension~=3.5.0->ipywidgets->-r /USER/daeyeong/Project1/comments identification/baseline_v2/requirements.txt (line 7)) (21.1.0)\n",
      "Requirement already satisfied: Send2Trash>=1.5.0 in /opt/conda/lib/python3.8/site-packages (from notebook>=4.4.1->widgetsnbextension~=3.5.0->ipywidgets->-r /USER/daeyeong/Project1/comments identification/baseline_v2/requirements.txt (line 7)) (1.8.0)\n",
      "Requirement already satisfied: terminado>=0.8.3 in /opt/conda/lib/python3.8/site-packages (from notebook>=4.4.1->widgetsnbextension~=3.5.0->ipywidgets->-r /USER/daeyeong/Project1/comments identification/baseline_v2/requirements.txt (line 7)) (0.12.1)\n",
      "Requirement already satisfied: jinja2 in /opt/conda/lib/python3.8/site-packages (from notebook>=4.4.1->widgetsnbextension~=3.5.0->ipywidgets->-r /USER/daeyeong/Project1/comments identification/baseline_v2/requirements.txt (line 7)) (2.11.2)\n",
      "Requirement already satisfied: wcwidth in /opt/conda/lib/python3.8/site-packages (from prompt-toolkit!=3.0.0,!=3.0.1,<3.1.0,>=2.0.0->ipython>=4.0.0; python_version >= \"3.3\"->ipywidgets->-r /USER/daeyeong/Project1/comments identification/baseline_v2/requirements.txt (line 7)) (0.2.5)\n",
      "Requirement already satisfied: parso<0.8.0,>=0.7.0 in /opt/conda/lib/python3.8/site-packages (from jedi>=0.16->ipython>=4.0.0; python_version >= \"3.3\"->ipywidgets->-r /USER/daeyeong/Project1/comments identification/baseline_v2/requirements.txt (line 7)) (0.7.0)\n",
      "Requirement already satisfied: ptyprocess>=0.5 in /opt/conda/lib/python3.8/site-packages (from pexpect>4.3; sys_platform != \"win32\"->ipython>=4.0.0; python_version >= \"3.3\"->ipywidgets->-r /USER/daeyeong/Project1/comments identification/baseline_v2/requirements.txt (line 7)) (0.7.0)\n",
      "Requirement already satisfied: nest-asyncio>=1.5 in /opt/conda/lib/python3.8/site-packages (from jupyter-client<8.0->ipykernel>=4.5.1->ipywidgets->-r /USER/daeyeong/Project1/comments identification/baseline_v2/requirements.txt (line 7)) (1.5.1)\n",
      "Requirement already satisfied: entrypoints in /opt/conda/lib/python3.8/site-packages (from jupyter-client<8.0->ipykernel>=4.5.1->ipywidgets->-r /USER/daeyeong/Project1/comments identification/baseline_v2/requirements.txt (line 7)) (0.3)\n",
      "Requirement already satisfied: attrs>=17.4.0 in /opt/conda/lib/python3.8/site-packages (from jsonschema!=2.5.0,>=2.4->nbformat>=4.2.0->ipywidgets->-r /USER/daeyeong/Project1/comments identification/baseline_v2/requirements.txt (line 7)) (21.2.0)\n",
      "Requirement already satisfied: pyrsistent!=0.17.0,!=0.17.1,!=0.17.2,>=0.14.0 in /opt/conda/lib/python3.8/site-packages (from jsonschema!=2.5.0,>=2.4->nbformat>=4.2.0->ipywidgets->-r /USER/daeyeong/Project1/comments identification/baseline_v2/requirements.txt (line 7)) (0.18.0)\n",
      "Requirement already satisfied: pandocfilters>=1.4.1 in /opt/conda/lib/python3.8/site-packages (from nbconvert->notebook>=4.4.1->widgetsnbextension~=3.5.0->ipywidgets->-r /USER/daeyeong/Project1/comments identification/baseline_v2/requirements.txt (line 7)) (1.5.0)\n",
      "Requirement already satisfied: defusedxml in /opt/conda/lib/python3.8/site-packages (from nbconvert->notebook>=4.4.1->widgetsnbextension~=3.5.0->ipywidgets->-r /USER/daeyeong/Project1/comments identification/baseline_v2/requirements.txt (line 7)) (0.7.1)\n",
      "Requirement already satisfied: nbclient<0.6.0,>=0.5.0 in /opt/conda/lib/python3.8/site-packages (from nbconvert->notebook>=4.4.1->widgetsnbextension~=3.5.0->ipywidgets->-r /USER/daeyeong/Project1/comments identification/baseline_v2/requirements.txt (line 7)) (0.5.4)\n",
      "Requirement already satisfied: jupyterlab-pygments in /opt/conda/lib/python3.8/site-packages (from nbconvert->notebook>=4.4.1->widgetsnbextension~=3.5.0->ipywidgets->-r /USER/daeyeong/Project1/comments identification/baseline_v2/requirements.txt (line 7)) (0.1.2)\n",
      "Requirement already satisfied: bleach in /opt/conda/lib/python3.8/site-packages (from nbconvert->notebook>=4.4.1->widgetsnbextension~=3.5.0->ipywidgets->-r /USER/daeyeong/Project1/comments identification/baseline_v2/requirements.txt (line 7)) (4.1.0)\n",
      "Requirement already satisfied: testpath in /opt/conda/lib/python3.8/site-packages (from nbconvert->notebook>=4.4.1->widgetsnbextension~=3.5.0->ipywidgets->-r /USER/daeyeong/Project1/comments identification/baseline_v2/requirements.txt (line 7)) (0.5.0)\n",
      "Requirement already satisfied: mistune<2,>=0.8.1 in /opt/conda/lib/python3.8/site-packages (from nbconvert->notebook>=4.4.1->widgetsnbextension~=3.5.0->ipywidgets->-r /USER/daeyeong/Project1/comments identification/baseline_v2/requirements.txt (line 7)) (0.8.4)\n",
      "Requirement already satisfied: cffi>=1.0.0 in /opt/conda/lib/python3.8/site-packages (from argon2-cffi->notebook>=4.4.1->widgetsnbextension~=3.5.0->ipywidgets->-r /USER/daeyeong/Project1/comments identification/baseline_v2/requirements.txt (line 7)) (1.14.3)\n",
      "Requirement already satisfied: MarkupSafe>=0.23 in /opt/conda/lib/python3.8/site-packages (from jinja2->notebook>=4.4.1->widgetsnbextension~=3.5.0->ipywidgets->-r /USER/daeyeong/Project1/comments identification/baseline_v2/requirements.txt (line 7)) (1.1.1)\n",
      "Requirement already satisfied: webencodings in /opt/conda/lib/python3.8/site-packages (from bleach->nbconvert->notebook>=4.4.1->widgetsnbextension~=3.5.0->ipywidgets->-r /USER/daeyeong/Project1/comments identification/baseline_v2/requirements.txt (line 7)) (0.5.1)\n",
      "Requirement already satisfied: pycparser in /opt/conda/lib/python3.8/site-packages (from cffi>=1.0.0->argon2-cffi->notebook>=4.4.1->widgetsnbextension~=3.5.0->ipywidgets->-r /USER/daeyeong/Project1/comments identification/baseline_v2/requirements.txt (line 7)) (2.20)\n",
      "Installing collected packages: attrdict, fastprogress, widgetsnbextension, jupyterlab-widgets, ipywidgets\n",
      "Successfully installed attrdict-2.0.1 fastprogress-1.0.2 ipywidgets-7.6.5 jupyterlab-widgets-1.0.2 widgetsnbextension-3.5.2\n"
     ]
    }
   ],
   "source": [
    "!pip install -r '/USER/daeyeong/Project1/comments identification/baseline_v2/requirements.txt'"
   ]
  },
  {
   "cell_type": "code",
   "execution_count": 3,
   "id": "ff15bef2-c669-4cb1-bf76-256154c4858b",
   "metadata": {
    "executionInfo": {
     "elapsed": 11592,
     "status": "ok",
     "timestamp": 1646180204396,
     "user": {
      "displayName": "김대영",
      "photoUrl": "https://lh3.googleusercontent.com/a/default-user=s64",
      "userId": "13005697931416995907"
     },
     "user_tz": -540
    },
    "id": "ff15bef2-c669-4cb1-bf76-256154c4858b"
   },
   "outputs": [],
   "source": [
    "import pandas as pd\n",
    "import os\n",
    "import json\n",
    "import numpy as np\n",
    "import shutil\n",
    "\n",
    "from sklearn.metrics import f1_score\n",
    "from datetime import datetime, timezone, timedelta\n",
    "import random\n",
    "from tqdm import tqdm\n",
    "\n",
    "\n",
    "from attrdict import AttrDict\n",
    "import matplotlib.pyplot as plt\n",
    "\n",
    "import torch\n",
    "import torch.nn as nn\n",
    "from torch.utils import *\n",
    "from torch.optim import Adam, AdamW\n",
    "\n",
    "from transformers import logging, get_linear_schedule_with_warmup\n",
    "\n",
    "\n",
    "from transformers import ( \n",
    "    BertConfig,\n",
    "    ElectraConfig\n",
    ")\n",
    "\n",
    "### v2 에서 라이브러리 추가됨\n",
    "# 실험에 사용하실 모델 라이브러리를 추가하시는 걸 잊지 마세요!\n",
    "\n",
    "from transformers import (\n",
    "    BertTokenizer,  \n",
    "    AutoTokenizer,\n",
    "    ElectraTokenizer,\n",
    "    AlbertTokenizer\n",
    ")\n",
    "\n",
    "from transformers import (\n",
    "    BertModel,\n",
    "    AutoModel, \n",
    "    ElectraForSequenceClassification,\n",
    "    BertForSequenceClassification,\n",
    "    AlbertForSequenceClassification\n",
    ")\n"
   ]
  },
  {
   "cell_type": "code",
   "execution_count": 4,
   "id": "5c95b317-b37f-4c59-8eaf-25ce048eb753",
   "metadata": {
    "colab": {
     "base_uri": "https://localhost:8080/"
    },
    "executionInfo": {
     "elapsed": 338,
     "status": "ok",
     "timestamp": 1646180209409,
     "user": {
      "displayName": "김대영",
      "photoUrl": "https://lh3.googleusercontent.com/a/default-user=s64",
      "userId": "13005697931416995907"
     },
     "user_tz": -540
    },
    "id": "5c95b317-b37f-4c59-8eaf-25ce048eb753",
    "outputId": "98633dd4-c1eb-45c4-9103-d4ce01115944"
   },
   "outputs": [
    {
     "name": "stdout",
     "output_type": "stream",
     "text": [
      "number of GPUs:  1\n",
      "Does GPU exist? :  True\n"
     ]
    }
   ],
   "source": [
    "# 사용할 GPU 지정\n",
    "print(\"number of GPUs: \", torch.cuda.device_count())\n",
    "os.environ[\"CUDA_VISIBLE_DEVICES\"] = \"0\"\n",
    "use_cuda = torch.cuda.is_available()\n",
    "print(\"Does GPU exist? : \", use_cuda)\n",
    "DEVICE = torch.device(\"cuda\" if use_cuda else \"cpu\")"
   ]
  },
  {
   "cell_type": "code",
   "execution_count": 5,
   "id": "3ffbcad1-d170-462f-807d-41760e65f4a0",
   "metadata": {
    "executionInfo": {
     "elapsed": 4,
     "status": "ok",
     "timestamp": 1646180210649,
     "user": {
      "displayName": "김대영",
      "photoUrl": "https://lh3.googleusercontent.com/a/default-user=s64",
      "userId": "13005697931416995907"
     },
     "user_tz": -540
    },
    "id": "3ffbcad1-d170-462f-807d-41760e65f4a0"
   },
   "outputs": [],
   "source": [
    "# True 일 때 코드를 실행하면 example 등을 보여줌\n",
    "DEBUG = True"
   ]
  },
  {
   "cell_type": "code",
   "execution_count": 6,
   "id": "a7484847-924d-4f99-8b41-190ae4f192e8",
   "metadata": {
    "colab": {
     "base_uri": "https://localhost:8080/"
    },
    "executionInfo": {
     "elapsed": 5,
     "status": "ok",
     "timestamp": 1646180211886,
     "user": {
      "displayName": "김대영",
      "photoUrl": "https://lh3.googleusercontent.com/a/default-user=s64",
      "userId": "13005697931416995907"
     },
     "user_tz": -540
    },
    "id": "a7484847-924d-4f99-8b41-190ae4f192e8",
    "outputId": "711ab884-64b2-4ba1-9193-a4c1b0ea5e1f"
   },
   "outputs": [
    {
     "name": "stdout",
     "output_type": "stream",
     "text": [
      "config file loaded.\n",
      "beomi/kcbert-base\n"
     ]
    }
   ],
   "source": [
    "# config 파일 불러오기\n",
    "config_path = os.path.join(PATH, 'config.json')\n",
    "\n",
    "def set_config(config_path):\n",
    "    if os.path.lexists(config_path):\n",
    "        with open(config_path) as f:\n",
    "            args = AttrDict(json.load(f))\n",
    "            print(\"config file loaded.\")\n",
    "            print(args.pretrained_model)\n",
    "    else:\n",
    "        assert False, 'config json file cannot be found.. please check the path again.'\n",
    "    \n",
    "    return args\n",
    "\n",
    "\n",
    "# 코드 중간중간에 끼워넣어 리셋 가능\n",
    "args = set_config(config_path)\n",
    "\n",
    "# 결과 저장 폴더 미리 생성\n",
    "os.makedirs(args.result_dir, exist_ok=True)\n",
    "os.makedirs(args.config_dir, exist_ok=True)"
   ]
  },
  {
   "cell_type": "markdown",
   "id": "7a04c99c-208b-46a1-82cd-a7c9c776c8ad",
   "metadata": {
    "id": "7a04c99c-208b-46a1-82cd-a7c9c776c8ad"
   },
   "source": [
    "# 2. EDA 및 데이터 전처리"
   ]
  },
  {
   "cell_type": "code",
   "execution_count": 7,
   "id": "87df6631-40e2-4c33-bacc-6548f9459d05",
   "metadata": {
    "colab": {
     "base_uri": "https://localhost:8080/"
    },
    "executionInfo": {
     "elapsed": 286,
     "status": "ok",
     "timestamp": 1646180214806,
     "user": {
      "displayName": "김대영",
      "photoUrl": "https://lh3.googleusercontent.com/a/default-user=s64",
      "userId": "13005697931416995907"
     },
     "user_tz": -540
    },
    "id": "87df6631-40e2-4c33-bacc-6548f9459d05",
    "outputId": "04a74978-dc74-491b-f1e4-f642e49bea97"
   },
   "outputs": [
    {
     "name": "stdout",
     "output_type": "stream",
     "text": [
      "train 데이터 경로가 올바른가요? :  True\n"
     ]
    }
   ],
   "source": [
    "# data 경로 설정  \n",
    "train_path = os.path.join(args.data_dir,'back taranslation train.csv')\n",
    "\n",
    "print(\"train 데이터 경로가 올바른가요? : \", os.path.lexists(train_path))\n"
   ]
  },
  {
   "cell_type": "markdown",
   "id": "c3123598-d707-467a-a380-99644a9a3637",
   "metadata": {
    "id": "c3123598-d707-467a-a380-99644a9a3637"
   },
   "source": [
    "### 2-1. Train 데이터 확인"
   ]
  },
  {
   "cell_type": "code",
   "execution_count": 8,
   "id": "x9wo70lxJpD8",
   "metadata": {
    "colab": {
     "base_uri": "https://localhost:8080/",
     "height": 50
    },
    "executionInfo": {
     "elapsed": 765,
     "status": "ok",
     "timestamp": 1646180218140,
     "user": {
      "displayName": "김대영",
      "photoUrl": "https://lh3.googleusercontent.com/a/default-user=s64",
      "userId": "13005697931416995907"
     },
     "user_tz": -540
    },
    "id": "x9wo70lxJpD8",
    "outputId": "1a668913-ba1e-41ff-8328-130d5de82e5e"
   },
   "outputs": [
    {
     "data": {
      "text/html": [
       "<div>\n",
       "<style scoped>\n",
       "    .dataframe tbody tr th:only-of-type {\n",
       "        vertical-align: middle;\n",
       "    }\n",
       "\n",
       "    .dataframe tbody tr th {\n",
       "        vertical-align: top;\n",
       "    }\n",
       "\n",
       "    .dataframe thead th {\n",
       "        text-align: right;\n",
       "    }\n",
       "</style>\n",
       "<table border=\"1\" class=\"dataframe\">\n",
       "  <thead>\n",
       "    <tr style=\"text-align: right;\">\n",
       "      <th></th>\n",
       "      <th>title</th>\n",
       "      <th>comment</th>\n",
       "      <th>bias</th>\n",
       "      <th>hate</th>\n",
       "      <th>pororo title</th>\n",
       "      <th>pororo comment</th>\n",
       "      <th>papago title</th>\n",
       "      <th>papago comment</th>\n",
       "      <th>google title</th>\n",
       "      <th>google comment</th>\n",
       "    </tr>\n",
       "  </thead>\n",
       "  <tbody>\n",
       "  </tbody>\n",
       "</table>\n",
       "</div>"
      ],
      "text/plain": [
       "Empty DataFrame\n",
       "Columns: [title, comment, bias, hate, pororo title, pororo comment, papago title, papago comment, google title, google comment]\n",
       "Index: []"
      ]
     },
     "execution_count": 8,
     "metadata": {},
     "output_type": "execute_result"
    }
   ],
   "source": [
    "train_df = pd.read_csv(train_path, encoding = 'UTF-8-SIG')\n",
    "train_df = train_df.fillna(\"\")\n",
    "train_df.loc[train_df['google title'].isnull() == True]"
   ]
  },
  {
   "cell_type": "code",
   "execution_count": 9,
   "id": "d3d5cb19-0e61-4358-9a9b-c690cbe8c6cd",
   "metadata": {
    "colab": {
     "base_uri": "https://localhost:8080/",
     "height": 493
    },
    "executionInfo": {
     "elapsed": 7,
     "status": "ok",
     "timestamp": 1646180221011,
     "user": {
      "displayName": "김대영",
      "photoUrl": "https://lh3.googleusercontent.com/a/default-user=s64",
      "userId": "13005697931416995907"
     },
     "user_tz": -540
    },
    "id": "d3d5cb19-0e61-4358-9a9b-c690cbe8c6cd",
    "outputId": "62b7132d-f28d-40ea-b40a-c812c743f2fa"
   },
   "outputs": [
    {
     "data": {
      "text/html": [
       "<div>\n",
       "<style scoped>\n",
       "    .dataframe tbody tr th:only-of-type {\n",
       "        vertical-align: middle;\n",
       "    }\n",
       "\n",
       "    .dataframe tbody tr th {\n",
       "        vertical-align: top;\n",
       "    }\n",
       "\n",
       "    .dataframe thead th {\n",
       "        text-align: right;\n",
       "    }\n",
       "</style>\n",
       "<table border=\"1\" class=\"dataframe\">\n",
       "  <thead>\n",
       "    <tr style=\"text-align: right;\">\n",
       "      <th></th>\n",
       "      <th>title</th>\n",
       "      <th>comment</th>\n",
       "      <th>bias</th>\n",
       "      <th>hate</th>\n",
       "      <th>pororo title</th>\n",
       "      <th>pororo comment</th>\n",
       "      <th>papago title</th>\n",
       "      <th>papago comment</th>\n",
       "      <th>google title</th>\n",
       "      <th>google comment</th>\n",
       "    </tr>\n",
       "  </thead>\n",
       "  <tbody>\n",
       "    <tr>\n",
       "      <th>0</th>\n",
       "      <td>미스터 션샤인 변요한 김태리와 같은 양복 입고 학당 방문 이유는</td>\n",
       "      <td>김태리 정말 연기잘해 진짜</td>\n",
       "      <td>none</td>\n",
       "      <td>none</td>\n",
       "      <td>선샤인 씨가 변요한 김태리와 같은 정장을 입고 학교를 방문한 이유는 그 때문이다.</td>\n",
       "      <td>김태리는 실제 연기에 정말 능숙하다.</td>\n",
       "      <td>제가 선샤인 변요한 김태리와 같은 옷을 입은 이유는...</td>\n",
       "      <td>Kim Tae Ri는 연기를 정말 잘해요.</td>\n",
       "      <td>미스터 션샤인 변요한, 김태리와 같은 양복을 입고 학교를 찾은 이유</td>\n",
       "      <td>김태리는 연기를 정말 잘한다.</td>\n",
       "    </tr>\n",
       "    <tr>\n",
       "      <th>1</th>\n",
       "      <td>극사실주의 현실 가장 보통의 연애 김래원X공효진 16년만의 랑데부</td>\n",
       "      <td>공효진 발연기나이질생각이읍던데 왜계속주연일까</td>\n",
       "      <td>none</td>\n",
       "      <td>hate</td>\n",
       "      <td>16년 만의 로맨틱한 현실, 김래원 X공효진</td>\n",
       "      <td>공효진은 연기 나이가 들 것 같았는데 왜 계속 뛰는 거야?</td>\n",
       "      <td>극사실주의. 가장 흔한 관계. 김래원X공효진 씨. 16년 후 랑데부.</td>\n",
       "      <td>공효진이 연기를 못 해서 질까 봐... 왜 자꾸 주인공으로 나오는 거죠?</td>\n",
       "      <td>극사실주의 현실 가장 평범한 로맨스 김래원X공효진, 16년 만의 만남</td>\n",
       "      <td>공효진 연기 늙어가는데 내가 계속 주연을 맡는 이유는?</td>\n",
       "    </tr>\n",
       "    <tr>\n",
       "      <th>2</th>\n",
       "      <td>손연재 리듬체조 학원 선생님 하고 싶은 일 해서 행복하다.</td>\n",
       "      <td>누구처럼 돈만 밝히는 저급인생은 살아가지마시길~~ 행복은 머니순이 아니니깐 작은거에...</td>\n",
       "      <td>others</td>\n",
       "      <td>hate</td>\n",
       "      <td>리듬체조연구소 손연재가 하고 싶은 일을 하면서 기쁘다.</td>\n",
       "      <td>다른 사람처럼 돈만 드러내는 저급한 삶에서 살지 말고, 행복은 통화질서가 아니기 때...</td>\n",
       "      <td>리듬체조 학원 선생님인 손연재 선생님으로서 하고 싶은 일을 할 수 있어 기쁘다.</td>\n",
       "      <td>남들처럼 돈만 밝히는 천한 생활을 하지 마세요. 행복은 우편환의 문제가 아니니 작은...</td>\n",
       "      <td>손연재 리듬체조학원 선생님 하고 싶은 일을 해서 행복합니다.</td>\n",
       "      <td>남들처럼 돈만 공개하는 하찮은 삶을 살지 마세요~~ 행복은 돈순이 아니니 작은것에 ...</td>\n",
       "    </tr>\n",
       "    <tr>\n",
       "      <th>3</th>\n",
       "      <td>김해숙 허스토리 촬영 후 우울증 얻었다.</td>\n",
       "      <td>일본 축구 져라</td>\n",
       "      <td>none</td>\n",
       "      <td>none</td>\n",
       "      <td>김해숙의 이야기를 촬영한 뒤 우울했다.</td>\n",
       "      <td>일본의 축구를 제거해라</td>\n",
       "      <td>저는 김해숙 작가의 허스토리 촬영 후 우울증이 생겼습니다.</td>\n",
       "      <td>일본 축구를 지자!</td>\n",
       "      <td>김해숙은 영화 '그녀의 이야기' 촬영 후 우울증에 걸렸다.</td>\n",
       "      <td>일본 축구를 잃다</td>\n",
       "    </tr>\n",
       "    <tr>\n",
       "      <th>4</th>\n",
       "      <td>임현주 아나운서 노브라 챌린지 방송 덕에 낸 용기 자연스런 논의의 창 됐으면</td>\n",
       "      <td>난 절대로 임현주 욕하는인간이랑은 안논다 @.@</td>\n",
       "      <td>none</td>\n",
       "      <td>none</td>\n",
       "      <td>임현주 아나운서의 노브라 챌린지 방송이 만든 자연스러운 토론이라면</td>\n",
       "      <td>임현주에게 맹세하는 사람과는 절대 놀지 않는다. @</td>\n",
       "      <td>임현주 아나운서의 NOBRA CHANGE 덕분에 자연스러운 논의가 됐으면 좋겠다.</td>\n",
       "      <td>임현주 욕하는 사람하고는 절대 안 놀아.@</td>\n",
       "      <td>임현주 아나운서 노브라 챌린지 방송으로 자연스러운 토론의 장이 되었으면 합니다</td>\n",
       "      <td>임현주 욕하는 사람이랑 절대 안놀아요 @.@</td>\n",
       "    </tr>\n",
       "  </tbody>\n",
       "</table>\n",
       "</div>"
      ],
      "text/plain": [
       "                                        title  \\\n",
       "0         미스터 션샤인 변요한 김태리와 같은 양복 입고 학당 방문 이유는   \n",
       "1        극사실주의 현실 가장 보통의 연애 김래원X공효진 16년만의 랑데부   \n",
       "2            손연재 리듬체조 학원 선생님 하고 싶은 일 해서 행복하다.   \n",
       "3                      김해숙 허스토리 촬영 후 우울증 얻었다.   \n",
       "4  임현주 아나운서 노브라 챌린지 방송 덕에 낸 용기 자연스런 논의의 창 됐으면   \n",
       "\n",
       "                                             comment    bias  hate  \\\n",
       "0                                     김태리 정말 연기잘해 진짜    none  none   \n",
       "1                           공효진 발연기나이질생각이읍던데 왜계속주연일까    none  hate   \n",
       "2  누구처럼 돈만 밝히는 저급인생은 살아가지마시길~~ 행복은 머니순이 아니니깐 작은거에...  others  hate   \n",
       "3                                           일본 축구 져라    none  none   \n",
       "4                         난 절대로 임현주 욕하는인간이랑은 안논다 @.@    none  none   \n",
       "\n",
       "                                    pororo title  \\\n",
       "0  선샤인 씨가 변요한 김태리와 같은 정장을 입고 학교를 방문한 이유는 그 때문이다.   \n",
       "1                       16년 만의 로맨틱한 현실, 김래원 X공효진   \n",
       "2                 리듬체조연구소 손연재가 하고 싶은 일을 하면서 기쁘다.   \n",
       "3                          김해숙의 이야기를 촬영한 뒤 우울했다.   \n",
       "4           임현주 아나운서의 노브라 챌린지 방송이 만든 자연스러운 토론이라면   \n",
       "\n",
       "                                      pororo comment  \\\n",
       "0                               김태리는 실제 연기에 정말 능숙하다.   \n",
       "1                   공효진은 연기 나이가 들 것 같았는데 왜 계속 뛰는 거야?   \n",
       "2  다른 사람처럼 돈만 드러내는 저급한 삶에서 살지 말고, 행복은 통화질서가 아니기 때...   \n",
       "3                                       일본의 축구를 제거해라   \n",
       "4                       임현주에게 맹세하는 사람과는 절대 놀지 않는다. @   \n",
       "\n",
       "                                    papago title  \\\n",
       "0                제가 선샤인 변요한 김태리와 같은 옷을 입은 이유는...   \n",
       "1         극사실주의. 가장 흔한 관계. 김래원X공효진 씨. 16년 후 랑데부.   \n",
       "2   리듬체조 학원 선생님인 손연재 선생님으로서 하고 싶은 일을 할 수 있어 기쁘다.   \n",
       "3               저는 김해숙 작가의 허스토리 촬영 후 우울증이 생겼습니다.   \n",
       "4  임현주 아나운서의 NOBRA CHANGE 덕분에 자연스러운 논의가 됐으면 좋겠다.   \n",
       "\n",
       "                                      papago comment  \\\n",
       "0                            Kim Tae Ri는 연기를 정말 잘해요.   \n",
       "1           공효진이 연기를 못 해서 질까 봐... 왜 자꾸 주인공으로 나오는 거죠?   \n",
       "2  남들처럼 돈만 밝히는 천한 생활을 하지 마세요. 행복은 우편환의 문제가 아니니 작은...   \n",
       "3                                         일본 축구를 지자!   \n",
       "4                            임현주 욕하는 사람하고는 절대 안 놀아.@   \n",
       "\n",
       "                                  google title  \\\n",
       "0        미스터 션샤인 변요한, 김태리와 같은 양복을 입고 학교를 찾은 이유   \n",
       "1       극사실주의 현실 가장 평범한 로맨스 김래원X공효진, 16년 만의 만남   \n",
       "2            손연재 리듬체조학원 선생님 하고 싶은 일을 해서 행복합니다.   \n",
       "3             김해숙은 영화 '그녀의 이야기' 촬영 후 우울증에 걸렸다.   \n",
       "4  임현주 아나운서 노브라 챌린지 방송으로 자연스러운 토론의 장이 되었으면 합니다   \n",
       "\n",
       "                                      google comment  \n",
       "0                                   김태리는 연기를 정말 잘한다.  \n",
       "1                     공효진 연기 늙어가는데 내가 계속 주연을 맡는 이유는?  \n",
       "2  남들처럼 돈만 공개하는 하찮은 삶을 살지 마세요~~ 행복은 돈순이 아니니 작은것에 ...  \n",
       "3                                          일본 축구를 잃다  \n",
       "4                           임현주 욕하는 사람이랑 절대 안놀아요 @.@  "
      ]
     },
     "execution_count": 9,
     "metadata": {},
     "output_type": "execute_result"
    }
   ],
   "source": [
    "train_df.head()"
   ]
  },
  {
   "cell_type": "code",
   "execution_count": 10,
   "id": "dce65d19-028f-4dc6-96e2-a9ac0949b5df",
   "metadata": {
    "colab": {
     "base_uri": "https://localhost:8080/"
    },
    "executionInfo": {
     "elapsed": 307,
     "status": "ok",
     "timestamp": 1646180223183,
     "user": {
      "displayName": "김대영",
      "photoUrl": "https://lh3.googleusercontent.com/a/default-user=s64",
      "userId": "13005697931416995907"
     },
     "user_tz": -540
    },
    "id": "dce65d19-028f-4dc6-96e2-a9ac0949b5df",
    "outputId": "91bc7e3e-8440-44c4-d1c0-e5192a8835b7"
   },
   "outputs": [
    {
     "data": {
      "text/plain": [
       "45"
      ]
     },
     "execution_count": 10,
     "metadata": {},
     "output_type": "execute_result"
    }
   ],
   "source": [
    "### v2 에서 추가됨\n",
    "\n",
    "# title 중 가장 긴 문자열 길이\n",
    "max_len_title = np.max(train_df['title'].str.len())\n",
    "max_len_title"
   ]
  },
  {
   "cell_type": "code",
   "execution_count": 11,
   "id": "3b449c22-6103-4cb9-9900-a2c3f7a7a109",
   "metadata": {
    "colab": {
     "base_uri": "https://localhost:8080/"
    },
    "executionInfo": {
     "elapsed": 6,
     "status": "ok",
     "timestamp": 1646180224981,
     "user": {
      "displayName": "김대영",
      "photoUrl": "https://lh3.googleusercontent.com/a/default-user=s64",
      "userId": "13005697931416995907"
     },
     "user_tz": -540
    },
    "id": "3b449c22-6103-4cb9-9900-a2c3f7a7a109",
    "outputId": "0f8fd3cd-2af8-4654-e575-fed61d55fad6"
   },
   "outputs": [
    {
     "data": {
      "text/plain": [
       "137"
      ]
     },
     "execution_count": 11,
     "metadata": {},
     "output_type": "execute_result"
    }
   ],
   "source": [
    "# comment 중 가장 긴 문자열 길이\n",
    "max_len_comment=np.max(train_df['comment'].str.len())\n",
    "max_len_comment"
   ]
  },
  {
   "cell_type": "code",
   "execution_count": 12,
   "id": "56f674ee-0184-4635-b353-d9975649fb4f",
   "metadata": {
    "colab": {
     "base_uri": "https://localhost:8080/"
    },
    "executionInfo": {
     "elapsed": 5,
     "status": "ok",
     "timestamp": 1646180225989,
     "user": {
      "displayName": "김대영",
      "photoUrl": "https://lh3.googleusercontent.com/a/default-user=s64",
      "userId": "13005697931416995907"
     },
     "user_tz": -540
    },
    "id": "56f674ee-0184-4635-b353-d9975649fb4f",
    "outputId": "942f662f-623b-4acd-88cf-83697627d00b"
   },
   "outputs": [
    {
     "data": {
      "text/plain": [
       "149     강혁민한테 뭐라 할 필요는 없는데 ㅋㅋ 왜 과거에 친하지 않은 동료가 있었는ㄷㅔ 그...\n",
       "1437    그냥 좀 착하게 살면 안되겠냐? 여기다가 설정이네 어쩌네 썰전 펼치면서 애 하나 잡...\n",
       "2024    전진 씨, 붐 씨에게 사과하세요. 댁이 붐 사칭하며 나이트클럽에서 놀고 싸인해주며 ...\n",
       "3031    팩트 = 전처 언니라는 사람이 인터넷에 폭로글 쓴 후, 몇 시간 뒤 자진삭제. 여전...\n",
       "3068    솔까 마닷 욕 하는 인간들 치고 돈 안 떼인 인간 없지 싶다 안그러고는 불구대천 원...\n",
       "5834    쓰레기에 대해 그만 쓰고 장자연 사건에 대해 써주세요. 더 의미 있고 도 큰 사건일...\n",
       "5979    안재현 망 할 놈 얼마나 개망나니 같이 행동했으면 구혜선이 한를 품를까. 구혜선 인...\n",
       "6070    니놈이 실력이 있냐 외모가 출중하냐 호감형이길 하냐 키라도 크냐 천운으로 이름 좀 ...\n",
       "7276    음주운전 또 면죄부? 미친 방송국 놈들. 호란이야 아쉬웠겠지만 시청자는 아쉽지 않은...\n",
       "Name: comment, dtype: object"
      ]
     },
     "execution_count": 12,
     "metadata": {},
     "output_type": "execute_result"
    }
   ],
   "source": [
    "# 길이가 128이 넘는 코멘트 확인\n",
    "train_df['comment'][train_df['comment'].str.len()>128]"
   ]
  },
  {
   "cell_type": "code",
   "execution_count": 13,
   "id": "f10dee23-db6d-4fce-8b06-054c3457adaf",
   "metadata": {
    "colab": {
     "base_uri": "https://localhost:8080/"
    },
    "executionInfo": {
     "elapsed": 3,
     "status": "ok",
     "timestamp": 1646180227401,
     "user": {
      "displayName": "김대영",
      "photoUrl": "https://lh3.googleusercontent.com/a/default-user=s64",
      "userId": "13005697931416995907"
     },
     "user_tz": -540
    },
    "id": "f10dee23-db6d-4fce-8b06-054c3457adaf",
    "outputId": "0abd522b-35f9-40a6-eb10-7286c4cc0b03"
   },
   "outputs": [
    {
     "data": {
      "text/plain": [
       "8367"
      ]
     },
     "execution_count": 13,
     "metadata": {},
     "output_type": "execute_result"
    }
   ],
   "source": [
    "len(train_df)"
   ]
  },
  {
   "cell_type": "code",
   "execution_count": 14,
   "id": "5ecb32ed-e7f9-4640-89c2-87005a9aed31",
   "metadata": {
    "colab": {
     "base_uri": "https://localhost:8080/"
    },
    "executionInfo": {
     "elapsed": 4,
     "status": "ok",
     "timestamp": 1646180228773,
     "user": {
      "displayName": "김대영",
      "photoUrl": "https://lh3.googleusercontent.com/a/default-user=s64",
      "userId": "13005697931416995907"
     },
     "user_tz": -540
    },
    "id": "5ecb32ed-e7f9-4640-89c2-87005a9aed31",
    "outputId": "0c20705b-2543-4fed-9a44-1c44fbef067d"
   },
   "outputs": [
    {
     "name": "stdout",
     "output_type": "stream",
     "text": [
      "bias classes:  ['none' 'others' 'gender']\n",
      "hate classes:  ['none' 'hate']\n"
     ]
    }
   ],
   "source": [
    "print(\"bias classes: \", train_df.bias.unique())\n",
    "print(\"hate classes: \", train_df.hate.unique())"
   ]
  },
  {
   "cell_type": "code",
   "execution_count": 15,
   "id": "faecbd1a-82ee-40ed-b81a-2984674b669f",
   "metadata": {
    "colab": {
     "base_uri": "https://localhost:8080/",
     "height": 206
    },
    "executionInfo": {
     "elapsed": 5,
     "status": "ok",
     "timestamp": 1646180230379,
     "user": {
      "displayName": "김대영",
      "photoUrl": "https://lh3.googleusercontent.com/a/default-user=s64",
      "userId": "13005697931416995907"
     },
     "user_tz": -540
    },
    "id": "faecbd1a-82ee-40ed-b81a-2984674b669f",
    "outputId": "a2aced9c-ea8b-4bbc-f47a-bc0de1edcf77"
   },
   "outputs": [
    {
     "data": {
      "text/html": [
       "<div>\n",
       "<style scoped>\n",
       "    .dataframe tbody tr th:only-of-type {\n",
       "        vertical-align: middle;\n",
       "    }\n",
       "\n",
       "    .dataframe tbody tr th {\n",
       "        vertical-align: top;\n",
       "    }\n",
       "\n",
       "    .dataframe thead th {\n",
       "        text-align: right;\n",
       "    }\n",
       "</style>\n",
       "<table border=\"1\" class=\"dataframe\">\n",
       "  <thead>\n",
       "    <tr style=\"text-align: right;\">\n",
       "      <th>hate</th>\n",
       "      <th>hate</th>\n",
       "      <th>none</th>\n",
       "      <th>All</th>\n",
       "    </tr>\n",
       "    <tr>\n",
       "      <th>bias</th>\n",
       "      <th></th>\n",
       "      <th></th>\n",
       "      <th></th>\n",
       "    </tr>\n",
       "  </thead>\n",
       "  <tbody>\n",
       "    <tr>\n",
       "      <th>gender</th>\n",
       "      <td>1216</td>\n",
       "      <td>83</td>\n",
       "      <td>1299</td>\n",
       "    </tr>\n",
       "    <tr>\n",
       "      <th>none</th>\n",
       "      <td>2068</td>\n",
       "      <td>3422</td>\n",
       "      <td>5490</td>\n",
       "    </tr>\n",
       "    <tr>\n",
       "      <th>others</th>\n",
       "      <td>1437</td>\n",
       "      <td>141</td>\n",
       "      <td>1578</td>\n",
       "    </tr>\n",
       "    <tr>\n",
       "      <th>All</th>\n",
       "      <td>4721</td>\n",
       "      <td>3646</td>\n",
       "      <td>8367</td>\n",
       "    </tr>\n",
       "  </tbody>\n",
       "</table>\n",
       "</div>"
      ],
      "text/plain": [
       "hate    hate  none   All\n",
       "bias                    \n",
       "gender  1216    83  1299\n",
       "none    2068  3422  5490\n",
       "others  1437   141  1578\n",
       "All     4721  3646  8367"
      ]
     },
     "execution_count": 15,
     "metadata": {},
     "output_type": "execute_result"
    }
   ],
   "source": [
    "pd.crosstab(train_df.bias, train_df.hate, margins=True)"
   ]
  },
  {
   "cell_type": "markdown",
   "id": "40d3802b-a501-4adc-9f9a-6968df7684d3",
   "metadata": {
    "id": "40d3802b-a501-4adc-9f9a-6968df7684d3"
   },
   "source": [
    "### 2-2. Test 데이터 확인"
   ]
  },
  {
   "cell_type": "code",
   "execution_count": 16,
   "id": "86211318-bfaa-47c7-9653-63a13905dc51",
   "metadata": {
    "colab": {
     "base_uri": "https://localhost:8080/"
    },
    "executionInfo": {
     "elapsed": 304,
     "status": "ok",
     "timestamp": 1646180232925,
     "user": {
      "displayName": "김대영",
      "photoUrl": "https://lh3.googleusercontent.com/a/default-user=s64",
      "userId": "13005697931416995907"
     },
     "user_tz": -540
    },
    "id": "86211318-bfaa-47c7-9653-63a13905dc51",
    "outputId": "c7d711fb-860c-4cb6-d238-96d58d4176af"
   },
   "outputs": [
    {
     "name": "stdout",
     "output_type": "stream",
     "text": [
      "test 데이터 경로가 올바른가요? :  True\n"
     ]
    }
   ],
   "source": [
    "test_path = os.path.join(args.data_dir,'back taranslation test.csv')\n",
    "print(\"test 데이터 경로가 올바른가요? : \", os.path.lexists(test_path))"
   ]
  },
  {
   "cell_type": "code",
   "execution_count": 17,
   "id": "a713f829-09c9-468a-8266-4bd555e29906",
   "metadata": {
    "colab": {
     "base_uri": "https://localhost:8080/",
     "height": 206
    },
    "executionInfo": {
     "elapsed": 330,
     "status": "ok",
     "timestamp": 1646180234717,
     "user": {
      "displayName": "김대영",
      "photoUrl": "https://lh3.googleusercontent.com/a/default-user=s64",
      "userId": "13005697931416995907"
     },
     "user_tz": -540
    },
    "id": "a713f829-09c9-468a-8266-4bd555e29906",
    "outputId": "d9e7f10a-8407-4da3-a05f-49fc5c531c3f"
   },
   "outputs": [
    {
     "data": {
      "text/html": [
       "<div>\n",
       "<style scoped>\n",
       "    .dataframe tbody tr th:only-of-type {\n",
       "        vertical-align: middle;\n",
       "    }\n",
       "\n",
       "    .dataframe tbody tr th {\n",
       "        vertical-align: top;\n",
       "    }\n",
       "\n",
       "    .dataframe thead th {\n",
       "        text-align: right;\n",
       "    }\n",
       "</style>\n",
       "<table border=\"1\" class=\"dataframe\">\n",
       "  <thead>\n",
       "    <tr style=\"text-align: right;\">\n",
       "      <th></th>\n",
       "      <th>ID</th>\n",
       "      <th>title</th>\n",
       "      <th>comment</th>\n",
       "    </tr>\n",
       "  </thead>\n",
       "  <tbody>\n",
       "    <tr>\n",
       "      <th>0</th>\n",
       "      <td>0</td>\n",
       "      <td>류현경 박성훈 공개연애 4년차 애정전선 이상무 의지 많이 된다.</td>\n",
       "      <td>둘다 넘 좋다~행복하세요</td>\n",
       "    </tr>\n",
       "    <tr>\n",
       "      <th>1</th>\n",
       "      <td>1</td>\n",
       "      <td>현금 유도 1인 1라면 골목식당 백종원 초심 잃은 도시락집에 경악</td>\n",
       "      <td>근데 만원이하는 현금결제만 하라고 써놓은집 우리나라에 엄청 많은데</td>\n",
       "    </tr>\n",
       "    <tr>\n",
       "      <th>2</th>\n",
       "      <td>2</td>\n",
       "      <td>입대 D 11 서은광의 슬픈 멜로디 비투비 눈물의 첫 체조경기장</td>\n",
       "      <td>누군데 얘네?</td>\n",
       "    </tr>\n",
       "    <tr>\n",
       "      <th>3</th>\n",
       "      <td>3</td>\n",
       "      <td>아이콘택트 리쌍 길 3년 전 결혼설 부인한 이유 공개 결혼 출산 숨겼다.</td>\n",
       "      <td>쑈 하지마라 짜식아!음주 1번은 실수, 2번은 고의, 3번은 인간쓰레기다.슬금슬금 ...</td>\n",
       "    </tr>\n",
       "    <tr>\n",
       "      <th>4</th>\n",
       "      <td>4</td>\n",
       "      <td>구하라 안검하수 반박 해프닝 당당하다 vs 그렇게까지 설전</td>\n",
       "      <td>안검하수 가지고 있는 분께 희망을 주고 싶은건가요? 수술하면 이렇게 자연스러워진다고...</td>\n",
       "    </tr>\n",
       "  </tbody>\n",
       "</table>\n",
       "</div>"
      ],
      "text/plain": [
       "   ID                                     title  \\\n",
       "0   0       류현경 박성훈 공개연애 4년차 애정전선 이상무 의지 많이 된다.   \n",
       "1   1      현금 유도 1인 1라면 골목식당 백종원 초심 잃은 도시락집에 경악   \n",
       "2   2       입대 D 11 서은광의 슬픈 멜로디 비투비 눈물의 첫 체조경기장   \n",
       "3   3  아이콘택트 리쌍 길 3년 전 결혼설 부인한 이유 공개 결혼 출산 숨겼다.   \n",
       "4   4          구하라 안검하수 반박 해프닝 당당하다 vs 그렇게까지 설전   \n",
       "\n",
       "                                             comment  \n",
       "0                                      둘다 넘 좋다~행복하세요  \n",
       "1               근데 만원이하는 현금결제만 하라고 써놓은집 우리나라에 엄청 많은데  \n",
       "2                                            누군데 얘네?  \n",
       "3  쑈 하지마라 짜식아!음주 1번은 실수, 2번은 고의, 3번은 인간쓰레기다.슬금슬금 ...  \n",
       "4  안검하수 가지고 있는 분께 희망을 주고 싶은건가요? 수술하면 이렇게 자연스러워진다고...  "
      ]
     },
     "execution_count": 17,
     "metadata": {},
     "output_type": "execute_result"
    }
   ],
   "source": [
    "test_df = pd.read_csv(test_path)\n",
    "test_df.head()"
   ]
  },
  {
   "cell_type": "code",
   "execution_count": 18,
   "id": "6ad5fbb7-acb5-47cb-b0f3-b220bf78ab67",
   "metadata": {
    "colab": {
     "base_uri": "https://localhost:8080/"
    },
    "executionInfo": {
     "elapsed": 281,
     "status": "ok",
     "timestamp": 1646180239516,
     "user": {
      "displayName": "김대영",
      "photoUrl": "https://lh3.googleusercontent.com/a/default-user=s64",
      "userId": "13005697931416995907"
     },
     "user_tz": -540
    },
    "id": "6ad5fbb7-acb5-47cb-b0f3-b220bf78ab67",
    "outputId": "31bc0fb9-8aaf-48ae-c233-0123abab55dc"
   },
   "outputs": [
    {
     "data": {
      "text/plain": [
       "511"
      ]
     },
     "execution_count": 18,
     "metadata": {},
     "output_type": "execute_result"
    }
   ],
   "source": [
    "len(test_df)"
   ]
  },
  {
   "cell_type": "markdown",
   "id": "44bb5aa8-6284-4066-a69d-a1539c5287a5",
   "metadata": {
    "id": "44bb5aa8-6284-4066-a69d-a1539c5287a5"
   },
   "source": [
    "### 2-3. 데이터 전처리 (Label Encoding)\n",
    "bias, hate 라벨들의 class를 정수로 변경하여 라벨 인코딩을 하기 위한 딕셔너리입니다."
   ]
  },
  {
   "cell_type": "markdown",
   "id": "11018420-84da-40ac-b892-4e47f20dd83f",
   "metadata": {
    "id": "11018420-84da-40ac-b892-4e47f20dd83f"
   },
   "source": [
    "- bias, hate 컬럼을 합쳐서 하나의 라벨로 만들기 "
   ]
  },
  {
   "cell_type": "code",
   "execution_count": 19,
   "id": "38c61bc4-da4a-4fc3-9cff-62079051ed82",
   "metadata": {
    "colab": {
     "base_uri": "https://localhost:8080/"
    },
    "executionInfo": {
     "elapsed": 5,
     "status": "ok",
     "timestamp": 1646180242239,
     "user": {
      "displayName": "김대영",
      "photoUrl": "https://lh3.googleusercontent.com/a/default-user=s64",
      "userId": "13005697931416995907"
     },
     "user_tz": -540
    },
    "id": "38c61bc4-da4a-4fc3-9cff-62079051ed82",
    "outputId": "9021f8b1-26a7-444a-877d-7ba54d831461"
   },
   "outputs": [
    {
     "name": "stdout",
     "output_type": "stream",
     "text": [
      "[['none' 'none']\n",
      " ['none' 'hate']\n",
      " ['others' 'none']\n",
      " ['others' 'hate']\n",
      " ['gender' 'none']\n",
      " ['gender' 'hate']]\n"
     ]
    }
   ],
   "source": [
    "# 두 라벨의 가능한 모든 조합 만들기\n",
    "combinations = np.array(np.meshgrid(train_df.bias.unique(), train_df.hate.unique())).T.reshape(-1,2)\n",
    "\n",
    "if DEBUG==True:\n",
    "    print(combinations)"
   ]
  },
  {
   "cell_type": "code",
   "execution_count": 20,
   "id": "3c1f00cb-8009-460f-8903-ca876d647ff5",
   "metadata": {
    "colab": {
     "base_uri": "https://localhost:8080/"
    },
    "executionInfo": {
     "elapsed": 4,
     "status": "ok",
     "timestamp": 1646180243585,
     "user": {
      "displayName": "김대영",
      "photoUrl": "https://lh3.googleusercontent.com/a/default-user=s64",
      "userId": "13005697931416995907"
     },
     "user_tz": -540
    },
    "id": "3c1f00cb-8009-460f-8903-ca876d647ff5",
    "outputId": "23d4f159-f5f6-4e94-8653-fc44215fb523"
   },
   "outputs": [
    {
     "name": "stdout",
     "output_type": "stream",
     "text": [
      "[array(['none', 'none'], dtype=object), array(['none', 'hate'], dtype=object), array(['others', 'hate'], dtype=object), array(['none', 'none'], dtype=object), array(['none', 'none'], dtype=object)]\n"
     ]
    }
   ],
   "source": [
    "# bias, hate 컬럼을 합친 것\n",
    "bias_hate = list(np.array([train_df['bias'].values, train_df['hate'].values]).T.reshape(-1,2))\n",
    "\n",
    "if DEBUG==True:\n",
    "    print(bias_hate[:5])\n"
   ]
  },
  {
   "cell_type": "code",
   "execution_count": 21,
   "id": "26376de0-2a54-44c2-a8af-f20025b9798b",
   "metadata": {
    "colab": {
     "base_uri": "https://localhost:8080/",
     "height": 528
    },
    "executionInfo": {
     "elapsed": 578,
     "status": "ok",
     "timestamp": 1646180245392,
     "user": {
      "displayName": "김대영",
      "photoUrl": "https://lh3.googleusercontent.com/a/default-user=s64",
      "userId": "13005697931416995907"
     },
     "user_tz": -540
    },
    "id": "26376de0-2a54-44c2-a8af-f20025b9798b",
    "outputId": "4c416efc-2f0d-46b5-9917-8bbd321eef1c"
   },
   "outputs": [
    {
     "data": {
      "text/html": [
       "<div>\n",
       "<style scoped>\n",
       "    .dataframe tbody tr th:only-of-type {\n",
       "        vertical-align: middle;\n",
       "    }\n",
       "\n",
       "    .dataframe tbody tr th {\n",
       "        vertical-align: top;\n",
       "    }\n",
       "\n",
       "    .dataframe thead th {\n",
       "        text-align: right;\n",
       "    }\n",
       "</style>\n",
       "<table border=\"1\" class=\"dataframe\">\n",
       "  <thead>\n",
       "    <tr style=\"text-align: right;\">\n",
       "      <th></th>\n",
       "      <th>title</th>\n",
       "      <th>comment</th>\n",
       "      <th>bias</th>\n",
       "      <th>hate</th>\n",
       "      <th>pororo title</th>\n",
       "      <th>pororo comment</th>\n",
       "      <th>papago title</th>\n",
       "      <th>papago comment</th>\n",
       "      <th>google title</th>\n",
       "      <th>google comment</th>\n",
       "      <th>label</th>\n",
       "    </tr>\n",
       "  </thead>\n",
       "  <tbody>\n",
       "    <tr>\n",
       "      <th>0</th>\n",
       "      <td>미스터 션샤인 변요한 김태리와 같은 양복 입고 학당 방문 이유는</td>\n",
       "      <td>김태리 정말 연기잘해 진짜</td>\n",
       "      <td>none</td>\n",
       "      <td>none</td>\n",
       "      <td>선샤인 씨가 변요한 김태리와 같은 정장을 입고 학교를 방문한 이유는 그 때문이다.</td>\n",
       "      <td>김태리는 실제 연기에 정말 능숙하다.</td>\n",
       "      <td>제가 선샤인 변요한 김태리와 같은 옷을 입은 이유는...</td>\n",
       "      <td>Kim Tae Ri는 연기를 정말 잘해요.</td>\n",
       "      <td>미스터 션샤인 변요한, 김태리와 같은 양복을 입고 학교를 찾은 이유</td>\n",
       "      <td>김태리는 연기를 정말 잘한다.</td>\n",
       "      <td>0</td>\n",
       "    </tr>\n",
       "    <tr>\n",
       "      <th>1</th>\n",
       "      <td>극사실주의 현실 가장 보통의 연애 김래원X공효진 16년만의 랑데부</td>\n",
       "      <td>공효진 발연기나이질생각이읍던데 왜계속주연일까</td>\n",
       "      <td>none</td>\n",
       "      <td>hate</td>\n",
       "      <td>16년 만의 로맨틱한 현실, 김래원 X공효진</td>\n",
       "      <td>공효진은 연기 나이가 들 것 같았는데 왜 계속 뛰는 거야?</td>\n",
       "      <td>극사실주의. 가장 흔한 관계. 김래원X공효진 씨. 16년 후 랑데부.</td>\n",
       "      <td>공효진이 연기를 못 해서 질까 봐... 왜 자꾸 주인공으로 나오는 거죠?</td>\n",
       "      <td>극사실주의 현실 가장 평범한 로맨스 김래원X공효진, 16년 만의 만남</td>\n",
       "      <td>공효진 연기 늙어가는데 내가 계속 주연을 맡는 이유는?</td>\n",
       "      <td>1</td>\n",
       "    </tr>\n",
       "    <tr>\n",
       "      <th>2</th>\n",
       "      <td>손연재 리듬체조 학원 선생님 하고 싶은 일 해서 행복하다.</td>\n",
       "      <td>누구처럼 돈만 밝히는 저급인생은 살아가지마시길~~ 행복은 머니순이 아니니깐 작은거에...</td>\n",
       "      <td>others</td>\n",
       "      <td>hate</td>\n",
       "      <td>리듬체조연구소 손연재가 하고 싶은 일을 하면서 기쁘다.</td>\n",
       "      <td>다른 사람처럼 돈만 드러내는 저급한 삶에서 살지 말고, 행복은 통화질서가 아니기 때...</td>\n",
       "      <td>리듬체조 학원 선생님인 손연재 선생님으로서 하고 싶은 일을 할 수 있어 기쁘다.</td>\n",
       "      <td>남들처럼 돈만 밝히는 천한 생활을 하지 마세요. 행복은 우편환의 문제가 아니니 작은...</td>\n",
       "      <td>손연재 리듬체조학원 선생님 하고 싶은 일을 해서 행복합니다.</td>\n",
       "      <td>남들처럼 돈만 공개하는 하찮은 삶을 살지 마세요~~ 행복은 돈순이 아니니 작은것에 ...</td>\n",
       "      <td>3</td>\n",
       "    </tr>\n",
       "    <tr>\n",
       "      <th>3</th>\n",
       "      <td>김해숙 허스토리 촬영 후 우울증 얻었다.</td>\n",
       "      <td>일본 축구 져라</td>\n",
       "      <td>none</td>\n",
       "      <td>none</td>\n",
       "      <td>김해숙의 이야기를 촬영한 뒤 우울했다.</td>\n",
       "      <td>일본의 축구를 제거해라</td>\n",
       "      <td>저는 김해숙 작가의 허스토리 촬영 후 우울증이 생겼습니다.</td>\n",
       "      <td>일본 축구를 지자!</td>\n",
       "      <td>김해숙은 영화 '그녀의 이야기' 촬영 후 우울증에 걸렸다.</td>\n",
       "      <td>일본 축구를 잃다</td>\n",
       "      <td>0</td>\n",
       "    </tr>\n",
       "    <tr>\n",
       "      <th>4</th>\n",
       "      <td>임현주 아나운서 노브라 챌린지 방송 덕에 낸 용기 자연스런 논의의 창 됐으면</td>\n",
       "      <td>난 절대로 임현주 욕하는인간이랑은 안논다 @.@</td>\n",
       "      <td>none</td>\n",
       "      <td>none</td>\n",
       "      <td>임현주 아나운서의 노브라 챌린지 방송이 만든 자연스러운 토론이라면</td>\n",
       "      <td>임현주에게 맹세하는 사람과는 절대 놀지 않는다. @</td>\n",
       "      <td>임현주 아나운서의 NOBRA CHANGE 덕분에 자연스러운 논의가 됐으면 좋겠다.</td>\n",
       "      <td>임현주 욕하는 사람하고는 절대 안 놀아.@</td>\n",
       "      <td>임현주 아나운서 노브라 챌린지 방송으로 자연스러운 토론의 장이 되었으면 합니다</td>\n",
       "      <td>임현주 욕하는 사람이랑 절대 안놀아요 @.@</td>\n",
       "      <td>0</td>\n",
       "    </tr>\n",
       "  </tbody>\n",
       "</table>\n",
       "</div>"
      ],
      "text/plain": [
       "                                        title  \\\n",
       "0         미스터 션샤인 변요한 김태리와 같은 양복 입고 학당 방문 이유는   \n",
       "1        극사실주의 현실 가장 보통의 연애 김래원X공효진 16년만의 랑데부   \n",
       "2            손연재 리듬체조 학원 선생님 하고 싶은 일 해서 행복하다.   \n",
       "3                      김해숙 허스토리 촬영 후 우울증 얻었다.   \n",
       "4  임현주 아나운서 노브라 챌린지 방송 덕에 낸 용기 자연스런 논의의 창 됐으면   \n",
       "\n",
       "                                             comment    bias  hate  \\\n",
       "0                                     김태리 정말 연기잘해 진짜    none  none   \n",
       "1                           공효진 발연기나이질생각이읍던데 왜계속주연일까    none  hate   \n",
       "2  누구처럼 돈만 밝히는 저급인생은 살아가지마시길~~ 행복은 머니순이 아니니깐 작은거에...  others  hate   \n",
       "3                                           일본 축구 져라    none  none   \n",
       "4                         난 절대로 임현주 욕하는인간이랑은 안논다 @.@    none  none   \n",
       "\n",
       "                                    pororo title  \\\n",
       "0  선샤인 씨가 변요한 김태리와 같은 정장을 입고 학교를 방문한 이유는 그 때문이다.   \n",
       "1                       16년 만의 로맨틱한 현실, 김래원 X공효진   \n",
       "2                 리듬체조연구소 손연재가 하고 싶은 일을 하면서 기쁘다.   \n",
       "3                          김해숙의 이야기를 촬영한 뒤 우울했다.   \n",
       "4           임현주 아나운서의 노브라 챌린지 방송이 만든 자연스러운 토론이라면   \n",
       "\n",
       "                                      pororo comment  \\\n",
       "0                               김태리는 실제 연기에 정말 능숙하다.   \n",
       "1                   공효진은 연기 나이가 들 것 같았는데 왜 계속 뛰는 거야?   \n",
       "2  다른 사람처럼 돈만 드러내는 저급한 삶에서 살지 말고, 행복은 통화질서가 아니기 때...   \n",
       "3                                       일본의 축구를 제거해라   \n",
       "4                       임현주에게 맹세하는 사람과는 절대 놀지 않는다. @   \n",
       "\n",
       "                                    papago title  \\\n",
       "0                제가 선샤인 변요한 김태리와 같은 옷을 입은 이유는...   \n",
       "1         극사실주의. 가장 흔한 관계. 김래원X공효진 씨. 16년 후 랑데부.   \n",
       "2   리듬체조 학원 선생님인 손연재 선생님으로서 하고 싶은 일을 할 수 있어 기쁘다.   \n",
       "3               저는 김해숙 작가의 허스토리 촬영 후 우울증이 생겼습니다.   \n",
       "4  임현주 아나운서의 NOBRA CHANGE 덕분에 자연스러운 논의가 됐으면 좋겠다.   \n",
       "\n",
       "                                      papago comment  \\\n",
       "0                            Kim Tae Ri는 연기를 정말 잘해요.   \n",
       "1           공효진이 연기를 못 해서 질까 봐... 왜 자꾸 주인공으로 나오는 거죠?   \n",
       "2  남들처럼 돈만 밝히는 천한 생활을 하지 마세요. 행복은 우편환의 문제가 아니니 작은...   \n",
       "3                                         일본 축구를 지자!   \n",
       "4                            임현주 욕하는 사람하고는 절대 안 놀아.@   \n",
       "\n",
       "                                  google title  \\\n",
       "0        미스터 션샤인 변요한, 김태리와 같은 양복을 입고 학교를 찾은 이유   \n",
       "1       극사실주의 현실 가장 평범한 로맨스 김래원X공효진, 16년 만의 만남   \n",
       "2            손연재 리듬체조학원 선생님 하고 싶은 일을 해서 행복합니다.   \n",
       "3             김해숙은 영화 '그녀의 이야기' 촬영 후 우울증에 걸렸다.   \n",
       "4  임현주 아나운서 노브라 챌린지 방송으로 자연스러운 토론의 장이 되었으면 합니다   \n",
       "\n",
       "                                      google comment  label  \n",
       "0                                   김태리는 연기를 정말 잘한다.      0  \n",
       "1                     공효진 연기 늙어가는데 내가 계속 주연을 맡는 이유는?      1  \n",
       "2  남들처럼 돈만 공개하는 하찮은 삶을 살지 마세요~~ 행복은 돈순이 아니니 작은것에 ...      3  \n",
       "3                                          일본 축구를 잃다      0  \n",
       "4                           임현주 욕하는 사람이랑 절대 안놀아요 @.@      0  "
      ]
     },
     "execution_count": 21,
     "metadata": {},
     "output_type": "execute_result"
    }
   ],
   "source": [
    "labels = []\n",
    "for i, arr in enumerate(bias_hate):\n",
    "    for idx, elem in enumerate(combinations):\n",
    "        if np.array_equal(elem, arr):\n",
    "            labels.append(idx)\n",
    "\n",
    "train_df['label'] = labels\n",
    "train_df.head()"
   ]
  },
  {
   "cell_type": "markdown",
   "id": "add80824-55c5-4ca3-9858-5aeee3ede98d",
   "metadata": {
    "id": "add80824-55c5-4ca3-9858-5aeee3ede98d"
   },
   "source": [
    "## 3. Dataset 로드"
   ]
  },
  {
   "cell_type": "markdown",
   "id": "e9956c57-af6a-4330-a531-a338be9da9c4",
   "metadata": {
    "id": "e9956c57-af6a-4330-a531-a338be9da9c4",
    "tags": []
   },
   "source": [
    "### 3-0. Pre-trained tokenizer 탐색"
   ]
  },
  {
   "cell_type": "code",
   "execution_count": 22,
   "id": "bd6f75f4-cdf7-4998-8b78-3aa716b7045b",
   "metadata": {
    "executionInfo": {
     "elapsed": 307,
     "status": "ok",
     "timestamp": 1646180248173,
     "user": {
      "displayName": "김대영",
      "photoUrl": "https://lh3.googleusercontent.com/a/default-user=s64",
      "userId": "13005697931416995907"
     },
     "user_tz": -540
    },
    "id": "bd6f75f4-cdf7-4998-8b78-3aa716b7045b"
   },
   "outputs": [],
   "source": [
    "# config.json 에서 지정 이름별로 가져올 라이브러리 지정\n",
    "\n",
    "TOKENIZER_CLASSES = {\n",
    "    \"BertTokenizer\": BertTokenizer,\n",
    "    \"AutoTokenizer\": AutoTokenizer,\n",
    "    \"ElectraTokenizer\": ElectraTokenizer,\n",
    "    \"AlbertTokenizer\": AlbertTokenizer\n",
    "}\n"
   ]
  },
  {
   "cell_type": "markdown",
   "id": "9a285fec-0b39-4dce-8dc0-6faa6b027c34",
   "metadata": {
    "id": "9a285fec-0b39-4dce-8dc0-6faa6b027c34",
    "tags": []
   },
   "source": [
    "- Tokenizer 사용 예시"
   ]
  },
  {
   "cell_type": "code",
   "execution_count": 23,
   "id": "7d0f1e57-caf8-4d67-a2a9-61284a793f77",
   "metadata": {
    "colab": {
     "base_uri": "https://localhost:8080/",
     "height": 151,
     "referenced_widgets": [
      "5776e6ee0faa49b8b92a4e2ded121a1b",
      "3b11a62f300d43f7ae5a22d0dd6df6ae",
      "910f6d73e3284878a151771f4b115e05",
      "bc8ed497da2c44d6925ced91b58df7fd",
      "5c064f74bae740d3b24065e84febaf59",
      "4654cc91b5d142cd91762e5ad6f31226",
      "33b6610c35bc45f1b987b5a5151efdbc",
      "8ce780bd3eb04834b24d0260346d9a91",
      "d220070612934911953fa5524f710f8a",
      "2e18a4fde90140a193ea573e022e73ce",
      "79e537633ce44eabb7e235e9c73eb3bc",
      "4c7e2040895c4b78bfe77e7722bbf83d",
      "bdd42b07f9a34526aafd40481e400ec3",
      "d7942514f0c44819b66a3c067d873657",
      "32a2fe444e314b2faf78025e63b58943",
      "09f3dd6e10c342a0857e58d9e4cc759c",
      "d3ef943b78d34384b6a16dc280a4ab8d",
      "9be65a8217414d368c5202d14cccda02",
      "fd4eff1558b24173970b963d59d20cfe",
      "934f893245df438da3230b8c15d1c9d5",
      "f9a8946305e24a6995ffb5cba191b744",
      "855df198e751496c923247e904fc1e21",
      "ec7fbdf4b0e74b2cadc268714da2eda1",
      "518c7d13a4044ab3a6b7f289b0cd73c1",
      "bc6766fc45a24d0f864468d50c1ddba1",
      "ee25ead2249842458946f6b55eb62c11",
      "c214bc911e4d4809a8c18308943cf806",
      "6c6449e0f6914953b9dc45d08f42be95",
      "e10c8bccdff7447095af8194fbca9289",
      "5c8b1b9f44d44bd2af41430239a431f6",
      "d1ede88780d74657ba1b3a4904990507",
      "b446584afdec4fb0a240b42cf1ebb36e",
      "3df7a932a6324d8bb46cec8178da78ca"
     ]
    },
    "executionInfo": {
     "elapsed": 3411,
     "status": "ok",
     "timestamp": 1646180253414,
     "user": {
      "displayName": "김대영",
      "photoUrl": "https://lh3.googleusercontent.com/a/default-user=s64",
      "userId": "13005697931416995907"
     },
     "user_tz": -540
    },
    "id": "7d0f1e57-caf8-4d67-a2a9-61284a793f77",
    "outputId": "6c1e4b17-7940-4654-8eb3-071312189b1f"
   },
   "outputs": [
    {
     "data": {
      "application/vnd.jupyter.widget-view+json": {
       "model_id": "25284dfd385e44b7be96ef6a18ebd88b",
       "version_major": 2,
       "version_minor": 0
      },
      "text/plain": [
       "HBox(children=(HTML(value='Downloading'), FloatProgress(value=0.0, max=49.0), HTML(value='')))"
      ]
     },
     "metadata": {},
     "output_type": "display_data"
    },
    {
     "name": "stdout",
     "output_type": "stream",
     "text": [
      "\n"
     ]
    },
    {
     "data": {
      "application/vnd.jupyter.widget-view+json": {
       "model_id": "294f370bc79642a7acbfe1fa093e1c1d",
       "version_major": 2,
       "version_minor": 0
      },
      "text/plain": [
       "HBox(children=(HTML(value='Downloading'), FloatProgress(value=0.0, max=249928.0), HTML(value='')))"
      ]
     },
     "metadata": {},
     "output_type": "display_data"
    },
    {
     "name": "stdout",
     "output_type": "stream",
     "text": [
      "\n"
     ]
    },
    {
     "data": {
      "application/vnd.jupyter.widget-view+json": {
       "model_id": "9038f02fda8e4474bd10e1c9c4b1df2d",
       "version_major": 2,
       "version_minor": 0
      },
      "text/plain": [
       "HBox(children=(HTML(value='Downloading'), FloatProgress(value=0.0, max=619.0), HTML(value='')))"
      ]
     },
     "metadata": {},
     "output_type": "display_data"
    },
    {
     "name": "stdout",
     "output_type": "stream",
     "text": [
      "\n",
      "PreTrainedTokenizer(name_or_path='beomi/kcbert-base', vocab_size=30000, model_max_len=300, is_fast=False, padding_side='right', truncation_side='right', special_tokens={'unk_token': '[UNK]', 'sep_token': '[SEP]', 'pad_token': '[PAD]', 'cls_token': '[CLS]', 'mask_token': '[MASK]'})\n"
     ]
    }
   ],
   "source": [
    "TOKENIZER = TOKENIZER_CLASSES[args.tokenizer_class].from_pretrained(args.pretrained_model)\n",
    "if DEBUG==True:\n",
    "    print(TOKENIZER)"
   ]
  },
  {
   "cell_type": "code",
   "execution_count": 24,
   "id": "1e8cdb8e-41a8-4d51-8aa0-f305782416ef",
   "metadata": {
    "colab": {
     "base_uri": "https://localhost:8080/"
    },
    "executionInfo": {
     "elapsed": 296,
     "status": "ok",
     "timestamp": 1646180256259,
     "user": {
      "displayName": "김대영",
      "photoUrl": "https://lh3.googleusercontent.com/a/default-user=s64",
      "userId": "13005697931416995907"
     },
     "user_tz": -540
    },
    "id": "1e8cdb8e-41a8-4d51-8aa0-f305782416ef",
    "outputId": "92ee1fd5-2c82-4559-f38b-787d25a407d9"
   },
   "outputs": [
    {
     "name": "stdout",
     "output_type": "stream",
     "text": [
      "{'input_ids': [2, 26176, 1879, 5250, 4118, 1557, 4040, 4047, 26217, 4038, 4196, 8066, 2219, 4232, 12841, 3353, 4081, 12669, 10461, 3, 26217, 4038, 8050, 11219, 26745, 7992, 3], 'token_type_ids': [0, 0, 0, 0, 0, 0, 0, 0, 0, 0, 0, 0, 0, 0, 0, 0, 0, 0, 0, 0, 1, 1, 1, 1, 1, 1, 1], 'attention_mask': [1, 1, 1, 1, 1, 1, 1, 1, 1, 1, 1, 1, 1, 1, 1, 1, 1, 1, 1, 1, 1, 1, 1, 1, 1, 1, 1]}\n"
     ]
    }
   ],
   "source": [
    "if DEBUG == True:\n",
    "    example = train_df['title'][0]\n",
    "    comment_ex = train_df['comment'][0]\n",
    "    print(TOKENIZER(example, comment_ex))"
   ]
  },
  {
   "cell_type": "code",
   "execution_count": 25,
   "id": "f174365c-90da-4c32-b6b4-5d66525a0687",
   "metadata": {
    "colab": {
     "base_uri": "https://localhost:8080/"
    },
    "executionInfo": {
     "elapsed": 293,
     "status": "ok",
     "timestamp": 1646180258484,
     "user": {
      "displayName": "김대영",
      "photoUrl": "https://lh3.googleusercontent.com/a/default-user=s64",
      "userId": "13005697931416995907"
     },
     "user_tz": -540
    },
    "id": "f174365c-90da-4c32-b6b4-5d66525a0687",
    "outputId": "e408e0f0-4a3a-49aa-9042-14c7b6b20e64",
    "tags": []
   },
   "outputs": [
    {
     "name": "stdout",
     "output_type": "stream",
     "text": [
      "[2, 26176, 1879, 5250, 4118, 1557, 4040, 4047, 26217, 4038, 4196, 8066, 2219, 4232, 12841, 3353, 4081, 12669, 10461, 3] \n",
      "\n",
      "['미스터', '션', '##샤', '##인', '변', '##요', '##한', '김태', '##리', '##와', '같은', '양', '##복', '입고', '학', '##당', '방문', '이유는'] \n",
      "\n",
      "[26176, 1879, 5250, 4118, 1557, 4040, 4047, 26217, 4038, 4196, 8066, 2219, 4232, 12841, 3353, 4081, 12669, 10461]\n"
     ]
    }
   ],
   "source": [
    "if DEBUG==True:\n",
    "    print(TOKENIZER.encode(example),\"\\n\")\n",
    "    \n",
    "    # 토큰으로 나누기\n",
    "    print(TOKENIZER.tokenize(example),\"\\n\")\n",
    "    \n",
    "    # 토큰 id로 매핑하기\n",
    "    print(TOKENIZER.convert_tokens_to_ids(TOKENIZER.tokenize(example)))\n"
   ]
  },
  {
   "cell_type": "markdown",
   "id": "cbf1708e-aedb-402f-a9c3-20ebdbe537eb",
   "metadata": {
    "id": "cbf1708e-aedb-402f-a9c3-20ebdbe537eb"
   },
   "source": [
    "### 3-1. Dataset 만드는 함수 정의"
   ]
  },
  {
   "cell_type": "code",
   "execution_count": 26,
   "id": "85e6f065-671c-435c-8e73-8cad3c1496a3",
   "metadata": {
    "colab": {
     "base_uri": "https://localhost:8080/"
    },
    "executionInfo": {
     "elapsed": 337,
     "status": "ok",
     "timestamp": 1646180282310,
     "user": {
      "displayName": "김대영",
      "photoUrl": "https://lh3.googleusercontent.com/a/default-user=s64",
      "userId": "13005697931416995907"
     },
     "user_tz": -540
    },
    "id": "85e6f065-671c-435c-8e73-8cad3c1496a3",
    "outputId": "556c84d7-b714-41c2-e601-e5f6f9ad58d6"
   },
   "outputs": [
    {
     "name": "stdout",
     "output_type": "stream",
     "text": [
      "train dataset loaded.\n"
     ]
    }
   ],
   "source": [
    "class CustomDataset(torch.utils.data.Dataset):\n",
    "\n",
    "    def __init__(self, df, tokenizer, max_len, mode = 'train'):\n",
    "\n",
    "        self.data = df\n",
    "        self.tokenizer = tokenizer\n",
    "        self.max_len = max_len\n",
    "        self.mode = mode\n",
    "        \n",
    "        if self.mode!='test':\n",
    "            try: \n",
    "                self.labels = df['label'].tolist()\n",
    "            except:\n",
    "                assert False, 'CustomDataset Error : \\'label\\' column does not exist in the dataframe'\n",
    "     \n",
    "    def __len__(self):\n",
    "        return len(self.data)\n",
    "                \n",
    "\n",
    "    def __getitem__(self, idx):\n",
    "        \"\"\"\n",
    "        전체 데이터에서 특정 인덱스 (idx)에 해당하는 기사제목과 댓글 내용을 \n",
    "        토크나이즈한 data('input_ids', 'attention_mask','token_type_ids')의 딕셔너리 형태로 불러옴\n",
    "        \"\"\"\n",
    "        title = self.data.title.iloc[idx]\n",
    "        comment = self.data.comment.iloc[idx]\n",
    "        \n",
    "        tokenized_text = self.tokenizer(title, comment,\n",
    "                             padding= 'max_length',\n",
    "                             max_length=self.max_len,\n",
    "                             truncation=True,\n",
    "                             return_token_type_ids=True,\n",
    "                             return_attention_mask=True,\n",
    "                             return_tensors = \"pt\")\n",
    "        \n",
    "        data = {'input_ids': tokenized_text['input_ids'].clone().detach().long(),\n",
    "               'attention_mask': tokenized_text['attention_mask'].clone().detach().long(),\n",
    "               'token_type_ids': tokenized_text['token_type_ids'].clone().detach().long(),\n",
    "               }\n",
    "        \n",
    "        if self.mode != 'test':\n",
    "            label = self.data.label.iloc[idx]\n",
    "            return data, label\n",
    "        else:\n",
    "            return data\n",
    "        \n",
    "\n",
    "    \n",
    "train_dataset = CustomDataset(train_df, TOKENIZER, args.max_seq_len, mode ='train')\n",
    "print(\"train dataset loaded.\")"
   ]
  },
  {
   "cell_type": "code",
   "execution_count": 27,
   "id": "7d27241c-4c3b-498e-9456-871dc3cc2e61",
   "metadata": {
    "colab": {
     "base_uri": "https://localhost:8080/"
    },
    "executionInfo": {
     "elapsed": 3,
     "status": "ok",
     "timestamp": 1646180284802,
     "user": {
      "displayName": "김대영",
      "photoUrl": "https://lh3.googleusercontent.com/a/default-user=s64",
      "userId": "13005697931416995907"
     },
     "user_tz": -540
    },
    "id": "7d27241c-4c3b-498e-9456-871dc3cc2e61",
    "outputId": "7f82e184-d23a-4b67-de46-f6a572545958"
   },
   "outputs": [
    {
     "name": "stdout",
     "output_type": "stream",
     "text": [
      "dataset sample : \n",
      "({'input_ids': tensor([[    2, 26176,  1879,  5250,  4118,  1557,  4040,  4047, 26217,  4038,\n",
      "          4196,  8066,  2219,  4232, 12841,  3353,  4081, 12669, 10461,     3,\n",
      "         26217,  4038,  8050, 11219, 26745,  7992,     3,     0,     0,     0,\n",
      "             0,     0,     0,     0,     0,     0,     0,     0,     0,     0,\n",
      "             0,     0,     0,     0,     0,     0,     0,     0,     0,     0,\n",
      "             0,     0,     0,     0,     0,     0,     0,     0,     0,     0,\n",
      "             0,     0,     0,     0,     0,     0,     0,     0,     0,     0,\n",
      "             0,     0,     0,     0,     0,     0,     0,     0,     0,     0,\n",
      "             0,     0,     0,     0,     0,     0,     0,     0,     0,     0,\n",
      "             0,     0,     0,     0,     0,     0,     0,     0,     0,     0,\n",
      "             0,     0,     0,     0,     0,     0,     0,     0,     0,     0,\n",
      "             0,     0,     0,     0,     0,     0,     0,     0,     0,     0,\n",
      "             0,     0,     0,     0,     0,     0,     0,     0]]), 'attention_mask': tensor([[1, 1, 1, 1, 1, 1, 1, 1, 1, 1, 1, 1, 1, 1, 1, 1, 1, 1, 1, 1, 1, 1, 1, 1,\n",
      "         1, 1, 1, 0, 0, 0, 0, 0, 0, 0, 0, 0, 0, 0, 0, 0, 0, 0, 0, 0, 0, 0, 0, 0,\n",
      "         0, 0, 0, 0, 0, 0, 0, 0, 0, 0, 0, 0, 0, 0, 0, 0, 0, 0, 0, 0, 0, 0, 0, 0,\n",
      "         0, 0, 0, 0, 0, 0, 0, 0, 0, 0, 0, 0, 0, 0, 0, 0, 0, 0, 0, 0, 0, 0, 0, 0,\n",
      "         0, 0, 0, 0, 0, 0, 0, 0, 0, 0, 0, 0, 0, 0, 0, 0, 0, 0, 0, 0, 0, 0, 0, 0,\n",
      "         0, 0, 0, 0, 0, 0, 0, 0]]), 'token_type_ids': tensor([[0, 0, 0, 0, 0, 0, 0, 0, 0, 0, 0, 0, 0, 0, 0, 0, 0, 0, 0, 0, 1, 1, 1, 1,\n",
      "         1, 1, 1, 0, 0, 0, 0, 0, 0, 0, 0, 0, 0, 0, 0, 0, 0, 0, 0, 0, 0, 0, 0, 0,\n",
      "         0, 0, 0, 0, 0, 0, 0, 0, 0, 0, 0, 0, 0, 0, 0, 0, 0, 0, 0, 0, 0, 0, 0, 0,\n",
      "         0, 0, 0, 0, 0, 0, 0, 0, 0, 0, 0, 0, 0, 0, 0, 0, 0, 0, 0, 0, 0, 0, 0, 0,\n",
      "         0, 0, 0, 0, 0, 0, 0, 0, 0, 0, 0, 0, 0, 0, 0, 0, 0, 0, 0, 0, 0, 0, 0, 0,\n",
      "         0, 0, 0, 0, 0, 0, 0, 0]])}, 0)\n"
     ]
    }
   ],
   "source": [
    "if DEBUG ==True :\n",
    "    print(\"dataset sample : \")\n",
    "    print(train_dataset[0])"
   ]
  },
  {
   "cell_type": "code",
   "execution_count": 29,
   "id": "bbadd376-0df2-455c-89f1-9236ba9d32a0",
   "metadata": {
    "executionInfo": {
     "elapsed": 2,
     "status": "ok",
     "timestamp": 1646180286384,
     "user": {
      "displayName": "김대영",
      "photoUrl": "https://lh3.googleusercontent.com/a/default-user=s64",
      "userId": "13005697931416995907"
     },
     "user_tz": -540
    },
    "id": "bbadd376-0df2-455c-89f1-9236ba9d32a0"
   },
   "outputs": [],
   "source": [
    "# encoded_plus = tokenizer.encode_plus(\n",
    "#                     sentence,                      # Sentence to encode.\n",
    "#                     add_special_tokens = True, # Add '[CLS]' and '[SEP]'\n",
    "#                     max_length = 128,           # Pad & truncate all sentences.\n",
    "#                     pad_to_max_length = True,\n",
    "#                     return_attention_mask = True,   # Construct attention masks.\n",
    "#                     return_tensors = 'pt',     # Return pytorch tensors.\n",
    "#                )"
   ]
  },
  {
   "cell_type": "markdown",
   "id": "e92d12dd-7a1e-423f-8b3d-00bae3c17375",
   "metadata": {
    "id": "e92d12dd-7a1e-423f-8b3d-00bae3c17375"
   },
   "source": [
    "### 3-2. Train, Validation set 나누기"
   ]
  },
  {
   "cell_type": "code",
   "execution_count": 28,
   "id": "jUBegRUs31f8",
   "metadata": {
    "executionInfo": {
     "elapsed": 3,
     "status": "ok",
     "timestamp": 1646180287766,
     "user": {
      "displayName": "김대영",
      "photoUrl": "https://lh3.googleusercontent.com/a/default-user=s64",
      "userId": "13005697931416995907"
     },
     "user_tz": -540
    },
    "id": "jUBegRUs31f8"
   },
   "outputs": [],
   "source": [
    "from sklearn.model_selection import train_test_split\n",
    "                                                         \n",
    "train_data, val_data = train_test_split(train_df, test_size=0.1, random_state=args.seed)"
   ]
  },
  {
   "cell_type": "markdown",
   "id": "8z1CX2Xx3iVy",
   "metadata": {
    "id": "8z1CX2Xx3iVy"
   },
   "source": [
    "### 추가 어규멘 테이션된 데이터 트레인에 추가"
   ]
  },
  {
   "cell_type": "code",
   "execution_count": 29,
   "id": "TRX0TWJ08Nun",
   "metadata": {
    "colab": {
     "base_uri": "https://localhost:8080/",
     "height": 1000
    },
    "executionInfo": {
     "elapsed": 16,
     "status": "ok",
     "timestamp": 1646180289341,
     "user": {
      "displayName": "김대영",
      "photoUrl": "https://lh3.googleusercontent.com/a/default-user=s64",
      "userId": "13005697931416995907"
     },
     "user_tz": -540
    },
    "id": "TRX0TWJ08Nun",
    "outputId": "9de18667-ea44-4e8b-d7f4-c9081f36d686"
   },
   "outputs": [
    {
     "data": {
      "text/html": [
       "<div>\n",
       "<style scoped>\n",
       "    .dataframe tbody tr th:only-of-type {\n",
       "        vertical-align: middle;\n",
       "    }\n",
       "\n",
       "    .dataframe tbody tr th {\n",
       "        vertical-align: top;\n",
       "    }\n",
       "\n",
       "    .dataframe thead th {\n",
       "        text-align: right;\n",
       "    }\n",
       "</style>\n",
       "<table border=\"1\" class=\"dataframe\">\n",
       "  <thead>\n",
       "    <tr style=\"text-align: right;\">\n",
       "      <th></th>\n",
       "      <th>title</th>\n",
       "      <th>comment</th>\n",
       "      <th>bias</th>\n",
       "      <th>hate</th>\n",
       "      <th>pororo title</th>\n",
       "      <th>pororo comment</th>\n",
       "      <th>papago title</th>\n",
       "      <th>papago comment</th>\n",
       "      <th>google title</th>\n",
       "      <th>google comment</th>\n",
       "      <th>label</th>\n",
       "    </tr>\n",
       "  </thead>\n",
       "  <tbody>\n",
       "    <tr>\n",
       "      <th>7086</th>\n",
       "      <td>박민영 드레스 하이힐 꽃다발 전력질주 김비서가 왜 그럴까</td>\n",
       "      <td>정말 현대의학의 힘은 대단하다는걸 느끼게해줌..</td>\n",
       "      <td>none</td>\n",
       "      <td>none</td>\n",
       "      <td>박민영의 드레스 하이힐 화단인 김 비서관이 어떻게 된 겁니까?</td>\n",
       "      <td>현대 의학을 정말 잘 느끼게 한다</td>\n",
       "      <td>박민영 원피스 하이힐 꽃다발 달리기 김비서. 뭐가 잘못됐나요?</td>\n",
       "      <td>현대 의학의 힘이 놀랍다는 것을 느끼게 합니다.</td>\n",
       "      <td>박민영 드레스 하이힐 부케 스프린트 김비서가 왜 그럴까?</td>\n",
       "      <td>현대의학의 힘이 대단하다는 것을 실감하게 됩니다.</td>\n",
       "      <td>0</td>\n",
       "    </tr>\n",
       "    <tr>\n",
       "      <th>5945</th>\n",
       "      <td>신동미 악성종양 고백 응원에 두렵고 떨렸다 정성 가득한 말에 힘 얻어</td>\n",
       "      <td>신동미 전부터 연기 잘한다고 생각했는데 왜그레 풍상씨에서 호소력 있는 연기 정말 좋...</td>\n",
       "      <td>none</td>\n",
       "      <td>none</td>\n",
       "      <td>신동미의 악성 종양 고백은 겁먹고 떨리며 본격적인 말로 힘을 얻었다.</td>\n",
       "      <td>신동미 앞에서 연기를 잘하는 줄 알았는데 더 좋고 좋은 사람이라고 생각했는데, 남편...</td>\n",
       "      <td>신동미의 악성종양 고백에 무섭고 긴장됐다. 나는 그녀의 진심 어린 말에 힘이 났다.</td>\n",
       "      <td>신동미가 예전부터 연기를 잘한다고 생각했는데 호소력 있는 연기가 정말 좋았고, 동상...</td>\n",
       "      <td>신동미의 악성종양 고백을 지지하는 모습이 두렵고 떨렸다.</td>\n",
       "      <td>예전에는 신동미가 연기를 잘한다고 생각했는데 왜거풍상에서 매력적인 연기가 너무 좋아...</td>\n",
       "      <td>0</td>\n",
       "    </tr>\n",
       "    <tr>\n",
       "      <th>1483</th>\n",
       "      <td>킬빌 산이 I 몰카 문구 논란 직접 입장 밝힐까</td>\n",
       "      <td>산이는 피해자 아닌가??누가 엿먹으라고 띄운것 같은데매갈???</td>\n",
       "      <td>gender</td>\n",
       "      <td>hate</td>\n",
       "      <td>숨겨진 카메라 문구에 대한 논란에 대해 킬빌 산이 직접 이야기할 것인가?</td>\n",
       "      <td>산이는 피해자인가요? 누가 한번 둘러보라고 한 것 같니?</td>\n",
       "      <td>윌. Killville은 나는 몰래 카메라에 대한 그의 입장을 밝혀야?</td>\n",
       "      <td>산도 피해자 아니야?누가 올려서 네가 망치라고 한 것 같아. 메이갈?</td>\n",
       "      <td>킬빌산이 '나 몰래카메라' 논란 속 입장 밝힐까?</td>\n",
       "      <td>산이가 피해자 아님?? 누가 날 엿먹이려고 올린거같은데??</td>\n",
       "      <td>5</td>\n",
       "    </tr>\n",
       "    <tr>\n",
       "      <th>3773</th>\n",
       "      <td>크레용팝 금미 2월 23일 결혼 예비신랑은 동갑내기 사업가</td>\n",
       "      <td>와 이쁘다 가을스튜디오네</td>\n",
       "      <td>none</td>\n",
       "      <td>none</td>\n",
       "      <td>지난 2월 23일 크레용 팝거무미의 결혼식은 같은 나이의 사업가다.</td>\n",
       "      <td>나는 아주 귀엽고 가을 스튜디오가 너무 귀엽다</td>\n",
       "      <td>크레용팝금미. 2월 23일 예비 신부는 동갑내기 사업가입니다.</td>\n",
       "      <td>와, 예쁘다. 가을 스튜디오입니다.</td>\n",
       "      <td>크레용팝 금미는 오는 2월 23일 결혼식을 올린다. 신랑은 동갑내기 사업가다.</td>\n",
       "      <td>와~ 예쁜 가을 스튜디오네요.</td>\n",
       "      <td>0</td>\n",
       "    </tr>\n",
       "    <tr>\n",
       "      <th>8103</th>\n",
       "      <td>마이크로닷 산체스 부모 오늘 귀국 공항서 체포될듯</td>\n",
       "      <td>그래 죗값 치루면된다. 그리고 다시 방송에서 보자!</td>\n",
       "      <td>none</td>\n",
       "      <td>none</td>\n",
       "      <td>마이크로닷 산체스의 부모들이 오늘 공항에서 체포된다.</td>\n",
       "      <td>그래, 우리는 그것을 지불해야 할 것이다 그리고 다시 방송에서 보자!</td>\n",
       "      <td>마이크로닷 산체스의 부모가 공항에서 체포될 예정이다.</td>\n",
       "      <td>네, 당신은 그 범죄에 대한 대가를 치를 수 있습니다. 그리고 방송에서 또 만나요.</td>\n",
       "      <td>Microdot Sanchez의 부모는 오늘 집으로 돌아가는 공항에서 체포될 가능성...</td>\n",
       "      <td>네, 대가를 치러야 합니다. 그리고 방송에서 다시 만나요!</td>\n",
       "      <td>0</td>\n",
       "    </tr>\n",
       "    <tr>\n",
       "      <th>...</th>\n",
       "      <td>...</td>\n",
       "      <td>...</td>\n",
       "      <td>...</td>\n",
       "      <td>...</td>\n",
       "      <td>...</td>\n",
       "      <td>...</td>\n",
       "      <td>...</td>\n",
       "      <td>...</td>\n",
       "      <td>...</td>\n",
       "      <td>...</td>\n",
       "      <td>...</td>\n",
       "    </tr>\n",
       "    <tr>\n",
       "      <th>5734</th>\n",
       "      <td>한예슬 측 지방종 수술 중 의료사고 당해 현재 치료중</td>\n",
       "      <td>이런글에 악플좀 달지마라. 진짜 얼마나 속상하겠냐. 악플달꺼면 글쓰지마..저런 실력...</td>\n",
       "      <td>none</td>\n",
       "      <td>none</td>\n",
       "      <td>한예슬의 지역 종양은 의료사고를 당했으며 현재 치료 중이다.</td>\n",
       "      <td>이 일에 나쁜 발언을 하지 마라 당신이 얼마나 화가 났나요? 악플을 쓰지 마세요. ...</td>\n",
       "      <td>한예슬은 지방종 수술 중 의료사고가 나 현재 치료를 받고 있다.</td>\n",
       "      <td>이런 댓글에 악플 달지 마세요. 그가 얼마나 화가 났을지 상상해 보세요. 악플을 남...</td>\n",
       "      <td>한예슬은 지방종 수술 중 의료사고를 당해 현재 치료를 받고 있다.</td>\n",
       "      <td>이 게시물에 나쁜 댓글을 달지 마십시오. 정말 얼마나 속상합니까? 악성댓글 싫으시면...</td>\n",
       "      <td>0</td>\n",
       "    </tr>\n",
       "    <tr>\n",
       "      <th>5191</th>\n",
       "      <td>방탄소년단 측 정국 열애설 사실 아냐 허위 사실에 법적 대응할 것</td>\n",
       "      <td>지인들 다 있는 자리에서 포옹한번 한거가지고 연애를 한다 어쩐다...게다가 cctv...</td>\n",
       "      <td>none</td>\n",
       "      <td>none</td>\n",
       "      <td>방탄소년단 간 정치적 관계설이 아닌 허위사실에 대한 법적 대응</td>\n",
       "      <td>나는 모든 지인들을 한 번 사랑하고 있다 그 외에도 CCTV를 파헤쳐 나갈 거야</td>\n",
       "      <td>방탄소년단의 열애설은 사실이 아닙니다. 잘못된 정보에 대한 법적 조치.</td>\n",
       "      <td>모든 사람들을 위해 이 방에서 연주를 하는 포옹이 무슨 소용인가...게다가, CCT...</td>\n",
       "      <td>방탄소년단 정국 열애설 사실무근, 허위사실에 대해 법적 대응</td>\n",
       "      <td>지인들이 다 있는 곳에서 한 번의 포옹으로 사랑에 빠지고...</td>\n",
       "      <td>0</td>\n",
       "    </tr>\n",
       "    <tr>\n",
       "      <th>5390</th>\n",
       "      <td>이승기X심은경 궁합 1만 돌파 로맨스 잔혹사 끊었다.</td>\n",
       "      <td>마지막에 이승기 죽습니다</td>\n",
       "      <td>none</td>\n",
       "      <td>none</td>\n",
       "      <td>심은경 이승기가 총 1만 명의 로맨스 잔혹한 역사를 끊었다.</td>\n",
       "      <td>결국 이승기가 죽는다.</td>\n",
       "      <td>이승기X심이 1만 궁합이 넘는 만행을 깼다.</td>\n",
       "      <td>이승기는 마지막에 죽을 거야.</td>\n",
       "      <td>이승기X심은경의 궁합이 100만 로맨스 잔혹성을 돌파했다.</td>\n",
       "      <td>이승기는 결국 죽는다.</td>\n",
       "      <td>0</td>\n",
       "    </tr>\n",
       "    <tr>\n",
       "      <th>860</th>\n",
       "      <td>9kg 인증 몸무게 공개 실검 1위 찍은 녀연예인</td>\n",
       "      <td>166에 57.4 다이어트 필요없지만건강위해더뺄거야다들 더마르게봄</td>\n",
       "      <td>none</td>\n",
       "      <td>none</td>\n",
       "      <td>무게 9㎏으로 대중 1위를 차지한 여성 연예인</td>\n",
       "      <td>66-57.4 다이어트는 필요 없지만 건강을 위해서는 더 나아질 것이다</td>\n",
       "      <td>누가 1일부터 실시간 검색 순위에 9kg 무게를 차지했다 그 여성 연예인.</td>\n",
       "      <td>166과 57.4 다이어트는 필요 없지만, 건강을 위해 살을 뺄 거예요. 다들 내가...</td>\n",
       "      <td>90kg 인증체중 공개검사에서 1위를 차지한 연예인들</td>\n",
       "      <td>166 to 57.4 다이어트는 필요없지만 건강을 위해 더 빼겠습니다. 다들 날씬해...</td>\n",
       "      <td>0</td>\n",
       "    </tr>\n",
       "    <tr>\n",
       "      <th>7270</th>\n",
       "      <td>재밌는 사진 연인 NO 이엘X김재욱 열애설로 번진 사진유출 해프닝</td>\n",
       "      <td>좀 부추기는 거 같네....젊은 애들이 연애하는데 안돼?</td>\n",
       "      <td>none</td>\n",
       "      <td>none</td>\n",
       "      <td>NO EELX 김재욱의 로맨틱한 관계설로 확산된 사진 유출</td>\n",
       "      <td>좀 동기부여가 된 것 같아요. 젊은이들이 사랑에 빠지는 것은 가능하지 않나요?</td>\n",
       "      <td>재미있는 사진 애호가는 NO EL X 김재욱. 열애설을 통해 퍼진 사진 유출.</td>\n",
       "      <td>내가 널 격려하는 것 같아.어린애들은 연애를 못해?</td>\n",
       "      <td>웃긴 사진광 노엘X김재욱 열애설로 번지는 사진 유출</td>\n",
       "      <td>좀 훈훈한 것 같아요....젊은이들이 데이트 하면 되지 않나요?</td>\n",
       "      <td>0</td>\n",
       "    </tr>\n",
       "  </tbody>\n",
       "</table>\n",
       "<p>7530 rows × 11 columns</p>\n",
       "</div>"
      ],
      "text/plain": [
       "                                       title  \\\n",
       "7086         박민영 드레스 하이힐 꽃다발 전력질주 김비서가 왜 그럴까   \n",
       "5945  신동미 악성종양 고백 응원에 두렵고 떨렸다 정성 가득한 말에 힘 얻어   \n",
       "1483              킬빌 산이 I 몰카 문구 논란 직접 입장 밝힐까   \n",
       "3773        크레용팝 금미 2월 23일 결혼 예비신랑은 동갑내기 사업가   \n",
       "8103             마이크로닷 산체스 부모 오늘 귀국 공항서 체포될듯   \n",
       "...                                      ...   \n",
       "5734           한예슬 측 지방종 수술 중 의료사고 당해 현재 치료중   \n",
       "5191    방탄소년단 측 정국 열애설 사실 아냐 허위 사실에 법적 대응할 것   \n",
       "5390           이승기X심은경 궁합 1만 돌파 로맨스 잔혹사 끊었다.   \n",
       "860              9kg 인증 몸무게 공개 실검 1위 찍은 녀연예인   \n",
       "7270    재밌는 사진 연인 NO 이엘X김재욱 열애설로 번진 사진유출 해프닝   \n",
       "\n",
       "                                                comment    bias  hate  \\\n",
       "7086                         정말 현대의학의 힘은 대단하다는걸 느끼게해줌..    none  none   \n",
       "5945  신동미 전부터 연기 잘한다고 생각했는데 왜그레 풍상씨에서 호소력 있는 연기 정말 좋...    none  none   \n",
       "1483                 산이는 피해자 아닌가??누가 엿먹으라고 띄운것 같은데매갈???  gender  hate   \n",
       "3773                                      와 이쁘다 가을스튜디오네    none  none   \n",
       "8103                       그래 죗값 치루면된다. 그리고 다시 방송에서 보자!    none  none   \n",
       "...                                                 ...     ...   ...   \n",
       "5734  이런글에 악플좀 달지마라. 진짜 얼마나 속상하겠냐. 악플달꺼면 글쓰지마..저런 실력...    none  none   \n",
       "5191  지인들 다 있는 자리에서 포옹한번 한거가지고 연애를 한다 어쩐다...게다가 cctv...    none  none   \n",
       "5390                                      마지막에 이승기 죽습니다    none  none   \n",
       "860                166에 57.4 다이어트 필요없지만건강위해더뺄거야다들 더마르게봄    none  none   \n",
       "7270                    좀 부추기는 거 같네....젊은 애들이 연애하는데 안돼?    none  none   \n",
       "\n",
       "                                  pororo title  \\\n",
       "7086        박민영의 드레스 하이힐 화단인 김 비서관이 어떻게 된 겁니까?   \n",
       "5945    신동미의 악성 종양 고백은 겁먹고 떨리며 본격적인 말로 힘을 얻었다.   \n",
       "1483  숨겨진 카메라 문구에 대한 논란에 대해 킬빌 산이 직접 이야기할 것인가?   \n",
       "3773     지난 2월 23일 크레용 팝거무미의 결혼식은 같은 나이의 사업가다.   \n",
       "8103             마이크로닷 산체스의 부모들이 오늘 공항에서 체포된다.   \n",
       "...                                        ...   \n",
       "5734         한예슬의 지역 종양은 의료사고를 당했으며 현재 치료 중이다.   \n",
       "5191        방탄소년단 간 정치적 관계설이 아닌 허위사실에 대한 법적 대응   \n",
       "5390         심은경 이승기가 총 1만 명의 로맨스 잔혹한 역사를 끊었다.   \n",
       "860                  무게 9㎏으로 대중 1위를 차지한 여성 연예인   \n",
       "7270          NO EELX 김재욱의 로맨틱한 관계설로 확산된 사진 유출   \n",
       "\n",
       "                                         pororo comment  \\\n",
       "7086                                 현대 의학을 정말 잘 느끼게 한다   \n",
       "5945  신동미 앞에서 연기를 잘하는 줄 알았는데 더 좋고 좋은 사람이라고 생각했는데, 남편...   \n",
       "1483                    산이는 피해자인가요? 누가 한번 둘러보라고 한 것 같니?   \n",
       "3773                          나는 아주 귀엽고 가을 스튜디오가 너무 귀엽다   \n",
       "8103             그래, 우리는 그것을 지불해야 할 것이다 그리고 다시 방송에서 보자!   \n",
       "...                                                 ...   \n",
       "5734  이 일에 나쁜 발언을 하지 마라 당신이 얼마나 화가 났나요? 악플을 쓰지 마세요. ...   \n",
       "5191       나는 모든 지인들을 한 번 사랑하고 있다 그 외에도 CCTV를 파헤쳐 나갈 거야   \n",
       "5390                                       결국 이승기가 죽는다.   \n",
       "860             66-57.4 다이어트는 필요 없지만 건강을 위해서는 더 나아질 것이다   \n",
       "7270        좀 동기부여가 된 것 같아요. 젊은이들이 사랑에 빠지는 것은 가능하지 않나요?   \n",
       "\n",
       "                                        papago title  \\\n",
       "7086              박민영 원피스 하이힐 꽃다발 달리기 김비서. 뭐가 잘못됐나요?   \n",
       "5945  신동미의 악성종양 고백에 무섭고 긴장됐다. 나는 그녀의 진심 어린 말에 힘이 났다.   \n",
       "1483         윌. Killville은 나는 몰래 카메라에 대한 그의 입장을 밝혀야?   \n",
       "3773              크레용팝금미. 2월 23일 예비 신부는 동갑내기 사업가입니다.   \n",
       "8103                   마이크로닷 산체스의 부모가 공항에서 체포될 예정이다.   \n",
       "...                                              ...   \n",
       "5734             한예슬은 지방종 수술 중 의료사고가 나 현재 치료를 받고 있다.   \n",
       "5191         방탄소년단의 열애설은 사실이 아닙니다. 잘못된 정보에 대한 법적 조치.   \n",
       "5390                        이승기X심이 1만 궁합이 넘는 만행을 깼다.   \n",
       "860        누가 1일부터 실시간 검색 순위에 9kg 무게를 차지했다 그 여성 연예인.   \n",
       "7270     재미있는 사진 애호가는 NO EL X 김재욱. 열애설을 통해 퍼진 사진 유출.   \n",
       "\n",
       "                                         papago comment  \\\n",
       "7086                         현대 의학의 힘이 놀랍다는 것을 느끼게 합니다.   \n",
       "5945  신동미가 예전부터 연기를 잘한다고 생각했는데 호소력 있는 연기가 정말 좋았고, 동상...   \n",
       "1483             산도 피해자 아니야?누가 올려서 네가 망치라고 한 것 같아. 메이갈?   \n",
       "3773                                와, 예쁘다. 가을 스튜디오입니다.   \n",
       "8103     네, 당신은 그 범죄에 대한 대가를 치를 수 있습니다. 그리고 방송에서 또 만나요.   \n",
       "...                                                 ...   \n",
       "5734  이런 댓글에 악플 달지 마세요. 그가 얼마나 화가 났을지 상상해 보세요. 악플을 남...   \n",
       "5191  모든 사람들을 위해 이 방에서 연주를 하는 포옹이 무슨 소용인가...게다가, CCT...   \n",
       "5390                                   이승기는 마지막에 죽을 거야.   \n",
       "860   166과 57.4 다이어트는 필요 없지만, 건강을 위해 살을 뺄 거예요. 다들 내가...   \n",
       "7270                       내가 널 격려하는 것 같아.어린애들은 연애를 못해?   \n",
       "\n",
       "                                           google title  \\\n",
       "7086                    박민영 드레스 하이힐 부케 스프린트 김비서가 왜 그럴까?   \n",
       "5945                    신동미의 악성종양 고백을 지지하는 모습이 두렵고 떨렸다.   \n",
       "1483                        킬빌산이 '나 몰래카메라' 논란 속 입장 밝힐까?   \n",
       "3773        크레용팝 금미는 오는 2월 23일 결혼식을 올린다. 신랑은 동갑내기 사업가다.   \n",
       "8103  Microdot Sanchez의 부모는 오늘 집으로 돌아가는 공항에서 체포될 가능성...   \n",
       "...                                                 ...   \n",
       "5734               한예슬은 지방종 수술 중 의료사고를 당해 현재 치료를 받고 있다.   \n",
       "5191                  방탄소년단 정국 열애설 사실무근, 허위사실에 대해 법적 대응   \n",
       "5390                   이승기X심은경의 궁합이 100만 로맨스 잔혹성을 돌파했다.   \n",
       "860                       90kg 인증체중 공개검사에서 1위를 차지한 연예인들   \n",
       "7270                       웃긴 사진광 노엘X김재욱 열애설로 번지는 사진 유출   \n",
       "\n",
       "                                         google comment  label  \n",
       "7086                        현대의학의 힘이 대단하다는 것을 실감하게 됩니다.      0  \n",
       "5945  예전에는 신동미가 연기를 잘한다고 생각했는데 왜거풍상에서 매력적인 연기가 너무 좋아...      0  \n",
       "1483                   산이가 피해자 아님?? 누가 날 엿먹이려고 올린거같은데??      5  \n",
       "3773                                   와~ 예쁜 가을 스튜디오네요.      0  \n",
       "8103                   네, 대가를 치러야 합니다. 그리고 방송에서 다시 만나요!      0  \n",
       "...                                                 ...    ...  \n",
       "5734  이 게시물에 나쁜 댓글을 달지 마십시오. 정말 얼마나 속상합니까? 악성댓글 싫으시면...      0  \n",
       "5191                 지인들이 다 있는 곳에서 한 번의 포옹으로 사랑에 빠지고...      0  \n",
       "5390                                       이승기는 결국 죽는다.      0  \n",
       "860   166 to 57.4 다이어트는 필요없지만 건강을 위해 더 빼겠습니다. 다들 날씬해...      0  \n",
       "7270                좀 훈훈한 것 같아요....젊은이들이 데이트 하면 되지 않나요?      0  \n",
       "\n",
       "[7530 rows x 11 columns]"
      ]
     },
     "execution_count": 29,
     "metadata": {},
     "output_type": "execute_result"
    }
   ],
   "source": [
    "train_data"
   ]
  },
  {
   "cell_type": "code",
   "execution_count": 30,
   "id": "NxFssMbW4Jid",
   "metadata": {
    "colab": {
     "base_uri": "https://localhost:8080/",
     "height": 423
    },
    "executionInfo": {
     "elapsed": 318,
     "status": "ok",
     "timestamp": 1646180293644,
     "user": {
      "displayName": "김대영",
      "photoUrl": "https://lh3.googleusercontent.com/a/default-user=s64",
      "userId": "13005697931416995907"
     },
     "user_tz": -540
    },
    "id": "NxFssMbW4Jid",
    "outputId": "6c6327a4-9ef9-4a44-bff3-ec35b4b76585"
   },
   "outputs": [
    {
     "data": {
      "text/html": [
       "<div>\n",
       "<style scoped>\n",
       "    .dataframe tbody tr th:only-of-type {\n",
       "        vertical-align: middle;\n",
       "    }\n",
       "\n",
       "    .dataframe tbody tr th {\n",
       "        vertical-align: top;\n",
       "    }\n",
       "\n",
       "    .dataframe thead th {\n",
       "        text-align: right;\n",
       "    }\n",
       "</style>\n",
       "<table border=\"1\" class=\"dataframe\">\n",
       "  <thead>\n",
       "    <tr style=\"text-align: right;\">\n",
       "      <th></th>\n",
       "      <th>title</th>\n",
       "      <th>comment</th>\n",
       "      <th>bias</th>\n",
       "      <th>hate</th>\n",
       "      <th>label</th>\n",
       "    </tr>\n",
       "  </thead>\n",
       "  <tbody>\n",
       "    <tr>\n",
       "      <th>7086</th>\n",
       "      <td>박민영 드레스 하이힐 부케 스프린트 김비서가 왜 그럴까?</td>\n",
       "      <td>현대의학의 힘이 대단하다는 것을 실감하게 됩니다.</td>\n",
       "      <td>none</td>\n",
       "      <td>none</td>\n",
       "      <td>0</td>\n",
       "    </tr>\n",
       "    <tr>\n",
       "      <th>5945</th>\n",
       "      <td>신동미의 악성종양 고백을 지지하는 모습이 두렵고 떨렸다.</td>\n",
       "      <td>예전에는 신동미가 연기를 잘한다고 생각했는데 왜거풍상에서 매력적인 연기가 너무 좋아...</td>\n",
       "      <td>none</td>\n",
       "      <td>none</td>\n",
       "      <td>0</td>\n",
       "    </tr>\n",
       "    <tr>\n",
       "      <th>1483</th>\n",
       "      <td>킬빌산이 '나 몰래카메라' 논란 속 입장 밝힐까?</td>\n",
       "      <td>산이가 피해자 아님?? 누가 날 엿먹이려고 올린거같은데??</td>\n",
       "      <td>gender</td>\n",
       "      <td>hate</td>\n",
       "      <td>5</td>\n",
       "    </tr>\n",
       "    <tr>\n",
       "      <th>3773</th>\n",
       "      <td>크레용팝 금미는 오는 2월 23일 결혼식을 올린다. 신랑은 동갑내기 사업가다.</td>\n",
       "      <td>와~ 예쁜 가을 스튜디오네요.</td>\n",
       "      <td>none</td>\n",
       "      <td>none</td>\n",
       "      <td>0</td>\n",
       "    </tr>\n",
       "    <tr>\n",
       "      <th>8103</th>\n",
       "      <td>Microdot Sanchez의 부모는 오늘 집으로 돌아가는 공항에서 체포될 가능성...</td>\n",
       "      <td>네, 대가를 치러야 합니다. 그리고 방송에서 다시 만나요!</td>\n",
       "      <td>none</td>\n",
       "      <td>none</td>\n",
       "      <td>0</td>\n",
       "    </tr>\n",
       "    <tr>\n",
       "      <th>...</th>\n",
       "      <td>...</td>\n",
       "      <td>...</td>\n",
       "      <td>...</td>\n",
       "      <td>...</td>\n",
       "      <td>...</td>\n",
       "    </tr>\n",
       "    <tr>\n",
       "      <th>5734</th>\n",
       "      <td>한예슬은 지방종 수술 중 의료사고를 당해 현재 치료를 받고 있다.</td>\n",
       "      <td>이 게시물에 나쁜 댓글을 달지 마십시오. 정말 얼마나 속상합니까? 악성댓글 싫으시면...</td>\n",
       "      <td>none</td>\n",
       "      <td>none</td>\n",
       "      <td>0</td>\n",
       "    </tr>\n",
       "    <tr>\n",
       "      <th>5191</th>\n",
       "      <td>방탄소년단 정국 열애설 사실무근, 허위사실에 대해 법적 대응</td>\n",
       "      <td>지인들이 다 있는 곳에서 한 번의 포옹으로 사랑에 빠지고...</td>\n",
       "      <td>none</td>\n",
       "      <td>none</td>\n",
       "      <td>0</td>\n",
       "    </tr>\n",
       "    <tr>\n",
       "      <th>5390</th>\n",
       "      <td>이승기X심은경의 궁합이 100만 로맨스 잔혹성을 돌파했다.</td>\n",
       "      <td>이승기는 결국 죽는다.</td>\n",
       "      <td>none</td>\n",
       "      <td>none</td>\n",
       "      <td>0</td>\n",
       "    </tr>\n",
       "    <tr>\n",
       "      <th>860</th>\n",
       "      <td>90kg 인증체중 공개검사에서 1위를 차지한 연예인들</td>\n",
       "      <td>166 to 57.4 다이어트는 필요없지만 건강을 위해 더 빼겠습니다. 다들 날씬해...</td>\n",
       "      <td>none</td>\n",
       "      <td>none</td>\n",
       "      <td>0</td>\n",
       "    </tr>\n",
       "    <tr>\n",
       "      <th>7270</th>\n",
       "      <td>웃긴 사진광 노엘X김재욱 열애설로 번지는 사진 유출</td>\n",
       "      <td>좀 훈훈한 것 같아요....젊은이들이 데이트 하면 되지 않나요?</td>\n",
       "      <td>none</td>\n",
       "      <td>none</td>\n",
       "      <td>0</td>\n",
       "    </tr>\n",
       "  </tbody>\n",
       "</table>\n",
       "<p>7530 rows × 5 columns</p>\n",
       "</div>"
      ],
      "text/plain": [
       "                                                  title  \\\n",
       "7086                    박민영 드레스 하이힐 부케 스프린트 김비서가 왜 그럴까?   \n",
       "5945                    신동미의 악성종양 고백을 지지하는 모습이 두렵고 떨렸다.   \n",
       "1483                        킬빌산이 '나 몰래카메라' 논란 속 입장 밝힐까?   \n",
       "3773        크레용팝 금미는 오는 2월 23일 결혼식을 올린다. 신랑은 동갑내기 사업가다.   \n",
       "8103  Microdot Sanchez의 부모는 오늘 집으로 돌아가는 공항에서 체포될 가능성...   \n",
       "...                                                 ...   \n",
       "5734               한예슬은 지방종 수술 중 의료사고를 당해 현재 치료를 받고 있다.   \n",
       "5191                  방탄소년단 정국 열애설 사실무근, 허위사실에 대해 법적 대응   \n",
       "5390                   이승기X심은경의 궁합이 100만 로맨스 잔혹성을 돌파했다.   \n",
       "860                       90kg 인증체중 공개검사에서 1위를 차지한 연예인들   \n",
       "7270                       웃긴 사진광 노엘X김재욱 열애설로 번지는 사진 유출   \n",
       "\n",
       "                                                comment    bias  hate  label  \n",
       "7086                        현대의학의 힘이 대단하다는 것을 실감하게 됩니다.    none  none      0  \n",
       "5945  예전에는 신동미가 연기를 잘한다고 생각했는데 왜거풍상에서 매력적인 연기가 너무 좋아...    none  none      0  \n",
       "1483                   산이가 피해자 아님?? 누가 날 엿먹이려고 올린거같은데??  gender  hate      5  \n",
       "3773                                   와~ 예쁜 가을 스튜디오네요.    none  none      0  \n",
       "8103                   네, 대가를 치러야 합니다. 그리고 방송에서 다시 만나요!    none  none      0  \n",
       "...                                                 ...     ...   ...    ...  \n",
       "5734  이 게시물에 나쁜 댓글을 달지 마십시오. 정말 얼마나 속상합니까? 악성댓글 싫으시면...    none  none      0  \n",
       "5191                 지인들이 다 있는 곳에서 한 번의 포옹으로 사랑에 빠지고...    none  none      0  \n",
       "5390                                       이승기는 결국 죽는다.    none  none      0  \n",
       "860   166 to 57.4 다이어트는 필요없지만 건강을 위해 더 빼겠습니다. 다들 날씬해...    none  none      0  \n",
       "7270                좀 훈훈한 것 같아요....젊은이들이 데이트 하면 되지 않나요?    none  none      0  \n",
       "\n",
       "[7530 rows x 5 columns]"
      ]
     },
     "execution_count": 30,
     "metadata": {},
     "output_type": "execute_result"
    }
   ],
   "source": [
    "pororo = pd.concat([train_data.iloc[:,4:6], train_data.iloc[:,2:4], train_data.iloc[:,-1]], axis=1)\n",
    "papago = pd.concat([train_data.iloc[:,6:8], train_data.iloc[:,2:4], train_data.iloc[:,-1]], axis=1)\n",
    "google = pd.concat([train_data.iloc[:,8:10], train_data.iloc[:,2:4], train_data.iloc[:,-1]], axis=1)\n",
    "\n",
    "pororo = pororo.rename(columns = {'pororo title': 'title', 'pororo comment': 'comment'})\n",
    "papago = papago.rename(columns = {'papago title': 'title', 'papago comment': 'comment'})\n",
    "google = google.rename(columns = {'google title': 'title', 'google comment': 'comment'})\n",
    "\n",
    "google"
   ]
  },
  {
   "cell_type": "code",
   "execution_count": 31,
   "id": "AElw_DEJ34AD",
   "metadata": {
    "colab": {
     "base_uri": "https://localhost:8080/",
     "height": 423
    },
    "executionInfo": {
     "elapsed": 5,
     "status": "ok",
     "timestamp": 1646180295135,
     "user": {
      "displayName": "김대영",
      "photoUrl": "https://lh3.googleusercontent.com/a/default-user=s64",
      "userId": "13005697931416995907"
     },
     "user_tz": -540
    },
    "id": "AElw_DEJ34AD",
    "outputId": "efd95672-dacb-488d-e998-7dc79d951271"
   },
   "outputs": [
    {
     "data": {
      "text/html": [
       "<div>\n",
       "<style scoped>\n",
       "    .dataframe tbody tr th:only-of-type {\n",
       "        vertical-align: middle;\n",
       "    }\n",
       "\n",
       "    .dataframe tbody tr th {\n",
       "        vertical-align: top;\n",
       "    }\n",
       "\n",
       "    .dataframe thead th {\n",
       "        text-align: right;\n",
       "    }\n",
       "</style>\n",
       "<table border=\"1\" class=\"dataframe\">\n",
       "  <thead>\n",
       "    <tr style=\"text-align: right;\">\n",
       "      <th></th>\n",
       "      <th>title</th>\n",
       "      <th>comment</th>\n",
       "      <th>bias</th>\n",
       "      <th>hate</th>\n",
       "      <th>label</th>\n",
       "    </tr>\n",
       "  </thead>\n",
       "  <tbody>\n",
       "    <tr>\n",
       "      <th>7086</th>\n",
       "      <td>박민영 드레스 하이힐 꽃다발 전력질주 김비서가 왜 그럴까</td>\n",
       "      <td>정말 현대의학의 힘은 대단하다는걸 느끼게해줌..</td>\n",
       "      <td>none</td>\n",
       "      <td>none</td>\n",
       "      <td>0</td>\n",
       "    </tr>\n",
       "    <tr>\n",
       "      <th>5945</th>\n",
       "      <td>신동미 악성종양 고백 응원에 두렵고 떨렸다 정성 가득한 말에 힘 얻어</td>\n",
       "      <td>신동미 전부터 연기 잘한다고 생각했는데 왜그레 풍상씨에서 호소력 있는 연기 정말 좋...</td>\n",
       "      <td>none</td>\n",
       "      <td>none</td>\n",
       "      <td>0</td>\n",
       "    </tr>\n",
       "    <tr>\n",
       "      <th>1483</th>\n",
       "      <td>킬빌 산이 I 몰카 문구 논란 직접 입장 밝힐까</td>\n",
       "      <td>산이는 피해자 아닌가??누가 엿먹으라고 띄운것 같은데매갈???</td>\n",
       "      <td>gender</td>\n",
       "      <td>hate</td>\n",
       "      <td>5</td>\n",
       "    </tr>\n",
       "    <tr>\n",
       "      <th>3773</th>\n",
       "      <td>크레용팝 금미 2월 23일 결혼 예비신랑은 동갑내기 사업가</td>\n",
       "      <td>와 이쁘다 가을스튜디오네</td>\n",
       "      <td>none</td>\n",
       "      <td>none</td>\n",
       "      <td>0</td>\n",
       "    </tr>\n",
       "    <tr>\n",
       "      <th>8103</th>\n",
       "      <td>마이크로닷 산체스 부모 오늘 귀국 공항서 체포될듯</td>\n",
       "      <td>그래 죗값 치루면된다. 그리고 다시 방송에서 보자!</td>\n",
       "      <td>none</td>\n",
       "      <td>none</td>\n",
       "      <td>0</td>\n",
       "    </tr>\n",
       "    <tr>\n",
       "      <th>...</th>\n",
       "      <td>...</td>\n",
       "      <td>...</td>\n",
       "      <td>...</td>\n",
       "      <td>...</td>\n",
       "      <td>...</td>\n",
       "    </tr>\n",
       "    <tr>\n",
       "      <th>5734</th>\n",
       "      <td>한예슬 측 지방종 수술 중 의료사고 당해 현재 치료중</td>\n",
       "      <td>이런글에 악플좀 달지마라. 진짜 얼마나 속상하겠냐. 악플달꺼면 글쓰지마..저런 실력...</td>\n",
       "      <td>none</td>\n",
       "      <td>none</td>\n",
       "      <td>0</td>\n",
       "    </tr>\n",
       "    <tr>\n",
       "      <th>5191</th>\n",
       "      <td>방탄소년단 측 정국 열애설 사실 아냐 허위 사실에 법적 대응할 것</td>\n",
       "      <td>지인들 다 있는 자리에서 포옹한번 한거가지고 연애를 한다 어쩐다...게다가 cctv...</td>\n",
       "      <td>none</td>\n",
       "      <td>none</td>\n",
       "      <td>0</td>\n",
       "    </tr>\n",
       "    <tr>\n",
       "      <th>5390</th>\n",
       "      <td>이승기X심은경 궁합 1만 돌파 로맨스 잔혹사 끊었다.</td>\n",
       "      <td>마지막에 이승기 죽습니다</td>\n",
       "      <td>none</td>\n",
       "      <td>none</td>\n",
       "      <td>0</td>\n",
       "    </tr>\n",
       "    <tr>\n",
       "      <th>860</th>\n",
       "      <td>9kg 인증 몸무게 공개 실검 1위 찍은 녀연예인</td>\n",
       "      <td>166에 57.4 다이어트 필요없지만건강위해더뺄거야다들 더마르게봄</td>\n",
       "      <td>none</td>\n",
       "      <td>none</td>\n",
       "      <td>0</td>\n",
       "    </tr>\n",
       "    <tr>\n",
       "      <th>7270</th>\n",
       "      <td>재밌는 사진 연인 NO 이엘X김재욱 열애설로 번진 사진유출 해프닝</td>\n",
       "      <td>좀 부추기는 거 같네....젊은 애들이 연애하는데 안돼?</td>\n",
       "      <td>none</td>\n",
       "      <td>none</td>\n",
       "      <td>0</td>\n",
       "    </tr>\n",
       "  </tbody>\n",
       "</table>\n",
       "<p>7530 rows × 5 columns</p>\n",
       "</div>"
      ],
      "text/plain": [
       "                                       title  \\\n",
       "7086         박민영 드레스 하이힐 꽃다발 전력질주 김비서가 왜 그럴까   \n",
       "5945  신동미 악성종양 고백 응원에 두렵고 떨렸다 정성 가득한 말에 힘 얻어   \n",
       "1483              킬빌 산이 I 몰카 문구 논란 직접 입장 밝힐까   \n",
       "3773        크레용팝 금미 2월 23일 결혼 예비신랑은 동갑내기 사업가   \n",
       "8103             마이크로닷 산체스 부모 오늘 귀국 공항서 체포될듯   \n",
       "...                                      ...   \n",
       "5734           한예슬 측 지방종 수술 중 의료사고 당해 현재 치료중   \n",
       "5191    방탄소년단 측 정국 열애설 사실 아냐 허위 사실에 법적 대응할 것   \n",
       "5390           이승기X심은경 궁합 1만 돌파 로맨스 잔혹사 끊었다.   \n",
       "860              9kg 인증 몸무게 공개 실검 1위 찍은 녀연예인   \n",
       "7270    재밌는 사진 연인 NO 이엘X김재욱 열애설로 번진 사진유출 해프닝   \n",
       "\n",
       "                                                comment    bias  hate  label  \n",
       "7086                         정말 현대의학의 힘은 대단하다는걸 느끼게해줌..    none  none      0  \n",
       "5945  신동미 전부터 연기 잘한다고 생각했는데 왜그레 풍상씨에서 호소력 있는 연기 정말 좋...    none  none      0  \n",
       "1483                 산이는 피해자 아닌가??누가 엿먹으라고 띄운것 같은데매갈???  gender  hate      5  \n",
       "3773                                      와 이쁘다 가을스튜디오네    none  none      0  \n",
       "8103                       그래 죗값 치루면된다. 그리고 다시 방송에서 보자!    none  none      0  \n",
       "...                                                 ...     ...   ...    ...  \n",
       "5734  이런글에 악플좀 달지마라. 진짜 얼마나 속상하겠냐. 악플달꺼면 글쓰지마..저런 실력...    none  none      0  \n",
       "5191  지인들 다 있는 자리에서 포옹한번 한거가지고 연애를 한다 어쩐다...게다가 cctv...    none  none      0  \n",
       "5390                                      마지막에 이승기 죽습니다    none  none      0  \n",
       "860                166에 57.4 다이어트 필요없지만건강위해더뺄거야다들 더마르게봄    none  none      0  \n",
       "7270                    좀 부추기는 거 같네....젊은 애들이 연애하는데 안돼?    none  none      0  \n",
       "\n",
       "[7530 rows x 5 columns]"
      ]
     },
     "execution_count": 31,
     "metadata": {},
     "output_type": "execute_result"
    }
   ],
   "source": [
    "# 추가 데이터 없음\n",
    "train_data = pd.concat([train_data.iloc[:,0:4], train_data.iloc[:,-1]], axis=1)\n",
    "# train_data = pd.concat([train_data, pororo, papago, google], axis=0, ignore_index=True)\n",
    "train_data"
   ]
  },
  {
   "cell_type": "code",
   "execution_count": 32,
   "id": "e6fb9525-861d-48ba-b495-828b8a08b9c1",
   "metadata": {
    "colab": {
     "base_uri": "https://localhost:8080/"
    },
    "executionInfo": {
     "elapsed": 306,
     "status": "ok",
     "timestamp": 1646180299990,
     "user": {
      "displayName": "김대영",
      "photoUrl": "https://lh3.googleusercontent.com/a/default-user=s64",
      "userId": "13005697931416995907"
     },
     "user_tz": -540
    },
    "id": "e6fb9525-861d-48ba-b495-828b8a08b9c1",
    "outputId": "2cc2b1ce-9902-4b45-dfb0-7f7ab0a32bf6"
   },
   "outputs": [
    {
     "name": "stdout",
     "output_type": "stream",
     "text": [
      "Train dataset:  7530\n",
      "Validation dataset:  837\n"
     ]
    }
   ],
   "source": [
    "train_dataset = CustomDataset(train_data, TOKENIZER, args.max_seq_len, 'train')\n",
    "val_dataset = CustomDataset(val_data, TOKENIZER, args.max_seq_len, 'validation')\n",
    "\n",
    "print(\"Train dataset: \", len(train_dataset))\n",
    "print(\"Validation dataset: \", len(val_dataset))"
   ]
  },
  {
   "cell_type": "markdown",
   "id": "ed493727-edd8-43ba-924f-195837306952",
   "metadata": {
    "id": "ed493727-edd8-43ba-924f-195837306952"
   },
   "source": [
    "## 4. 분류 모델 학습을 위한 세팅"
   ]
  },
  {
   "cell_type": "markdown",
   "id": "81c0817a-8b51-4d22-9f31-eb8bd22640cb",
   "metadata": {
    "id": "81c0817a-8b51-4d22-9f31-eb8bd22640cb"
   },
   "source": [
    "### 4-1. 아키텍쳐 설정"
   ]
  },
  {
   "cell_type": "markdown",
   "id": "5a250764-25aa-43e4-a383-f464dc54bc25",
   "metadata": {
    "id": "5a250764-25aa-43e4-a383-f464dc54bc25"
   },
   "source": [
    "\n",
    "\n",
    "\n",
    "- [PretrainedConfig](https://huggingface.co/docs/transformers/v4.16.2/en/main_classes/configuration#transformers.PretrainedConfig.from_pretrained)\n",
    "-[KcELECTRA 사전학습 모델](https://github.com/Beomi/KcELECTRA)"
   ]
  },
  {
   "cell_type": "code",
   "execution_count": 33,
   "id": "554c0acd-d158-4d36-bfd1-abb47fb618f8",
   "metadata": {
    "colab": {
     "base_uri": "https://localhost:8080/",
     "height": 1000,
     "referenced_widgets": [
      "307453a4f71649999fdf7dd5b461bad0",
      "3bd1c61c22f64ff1a289beb94f8d21bf",
      "2aa2509b63e3424ebf7ac390e1e9f5b6",
      "1b519af57dbf4db8b5ef73ec640cb09d",
      "c58a4f1eecfd499e80256e7acfa474c6",
      "861f786565ab447780e358ebeaa2e200",
      "5c7b9d9238684217a9bfb69ec7c00311",
      "d12a3012de19422db21ddaa4d2c23926",
      "1d528cff3a2b49e38c2e6a99e5e678b0",
      "dacd40943b88496e983264d141bc707e",
      "2574eac8fde142338b53eac44b9afb6f"
     ]
    },
    "executionInfo": {
     "elapsed": 15466,
     "status": "ok",
     "timestamp": 1646180318740,
     "user": {
      "displayName": "김대영",
      "photoUrl": "https://lh3.googleusercontent.com/a/default-user=s64",
      "userId": "13005697931416995907"
     },
     "user_tz": -540
    },
    "id": "554c0acd-d158-4d36-bfd1-abb47fb618f8",
    "outputId": "5a93377b-c95c-4684-d3d4-3b8815160f85",
    "tags": []
   },
   "outputs": [
    {
     "data": {
      "application/vnd.jupyter.widget-view+json": {
       "model_id": "37f1b96ea9174825ba345515881c49be",
       "version_major": 2,
       "version_minor": 0
      },
      "text/plain": [
       "HBox(children=(HTML(value='Downloading'), FloatProgress(value=0.0, max=438218004.0), HTML(value='')))"
      ]
     },
     "metadata": {},
     "output_type": "display_data"
    },
    {
     "name": "stdout",
     "output_type": "stream",
     "text": [
      "\n",
      "BertForSequenceClassification(\n",
      "  (bert): BertModel(\n",
      "    (embeddings): BertEmbeddings(\n",
      "      (word_embeddings): Embedding(30000, 768, padding_idx=0)\n",
      "      (position_embeddings): Embedding(300, 768)\n",
      "      (token_type_embeddings): Embedding(2, 768)\n",
      "      (LayerNorm): LayerNorm((768,), eps=1e-12, elementwise_affine=True)\n",
      "      (dropout): Dropout(p=0.1, inplace=False)\n",
      "    )\n",
      "    (encoder): BertEncoder(\n",
      "      (layer): ModuleList(\n",
      "        (0): BertLayer(\n",
      "          (attention): BertAttention(\n",
      "            (self): BertSelfAttention(\n",
      "              (query): Linear(in_features=768, out_features=768, bias=True)\n",
      "              (key): Linear(in_features=768, out_features=768, bias=True)\n",
      "              (value): Linear(in_features=768, out_features=768, bias=True)\n",
      "              (dropout): Dropout(p=0.1, inplace=False)\n",
      "            )\n",
      "            (output): BertSelfOutput(\n",
      "              (dense): Linear(in_features=768, out_features=768, bias=True)\n",
      "              (LayerNorm): LayerNorm((768,), eps=1e-12, elementwise_affine=True)\n",
      "              (dropout): Dropout(p=0.1, inplace=False)\n",
      "            )\n",
      "          )\n",
      "          (intermediate): BertIntermediate(\n",
      "            (dense): Linear(in_features=768, out_features=3072, bias=True)\n",
      "          )\n",
      "          (output): BertOutput(\n",
      "            (dense): Linear(in_features=3072, out_features=768, bias=True)\n",
      "            (LayerNorm): LayerNorm((768,), eps=1e-12, elementwise_affine=True)\n",
      "            (dropout): Dropout(p=0.1, inplace=False)\n",
      "          )\n",
      "        )\n",
      "        (1): BertLayer(\n",
      "          (attention): BertAttention(\n",
      "            (self): BertSelfAttention(\n",
      "              (query): Linear(in_features=768, out_features=768, bias=True)\n",
      "              (key): Linear(in_features=768, out_features=768, bias=True)\n",
      "              (value): Linear(in_features=768, out_features=768, bias=True)\n",
      "              (dropout): Dropout(p=0.1, inplace=False)\n",
      "            )\n",
      "            (output): BertSelfOutput(\n",
      "              (dense): Linear(in_features=768, out_features=768, bias=True)\n",
      "              (LayerNorm): LayerNorm((768,), eps=1e-12, elementwise_affine=True)\n",
      "              (dropout): Dropout(p=0.1, inplace=False)\n",
      "            )\n",
      "          )\n",
      "          (intermediate): BertIntermediate(\n",
      "            (dense): Linear(in_features=768, out_features=3072, bias=True)\n",
      "          )\n",
      "          (output): BertOutput(\n",
      "            (dense): Linear(in_features=3072, out_features=768, bias=True)\n",
      "            (LayerNorm): LayerNorm((768,), eps=1e-12, elementwise_affine=True)\n",
      "            (dropout): Dropout(p=0.1, inplace=False)\n",
      "          )\n",
      "        )\n",
      "        (2): BertLayer(\n",
      "          (attention): BertAttention(\n",
      "            (self): BertSelfAttention(\n",
      "              (query): Linear(in_features=768, out_features=768, bias=True)\n",
      "              (key): Linear(in_features=768, out_features=768, bias=True)\n",
      "              (value): Linear(in_features=768, out_features=768, bias=True)\n",
      "              (dropout): Dropout(p=0.1, inplace=False)\n",
      "            )\n",
      "            (output): BertSelfOutput(\n",
      "              (dense): Linear(in_features=768, out_features=768, bias=True)\n",
      "              (LayerNorm): LayerNorm((768,), eps=1e-12, elementwise_affine=True)\n",
      "              (dropout): Dropout(p=0.1, inplace=False)\n",
      "            )\n",
      "          )\n",
      "          (intermediate): BertIntermediate(\n",
      "            (dense): Linear(in_features=768, out_features=3072, bias=True)\n",
      "          )\n",
      "          (output): BertOutput(\n",
      "            (dense): Linear(in_features=3072, out_features=768, bias=True)\n",
      "            (LayerNorm): LayerNorm((768,), eps=1e-12, elementwise_affine=True)\n",
      "            (dropout): Dropout(p=0.1, inplace=False)\n",
      "          )\n",
      "        )\n",
      "        (3): BertLayer(\n",
      "          (attention): BertAttention(\n",
      "            (self): BertSelfAttention(\n",
      "              (query): Linear(in_features=768, out_features=768, bias=True)\n",
      "              (key): Linear(in_features=768, out_features=768, bias=True)\n",
      "              (value): Linear(in_features=768, out_features=768, bias=True)\n",
      "              (dropout): Dropout(p=0.1, inplace=False)\n",
      "            )\n",
      "            (output): BertSelfOutput(\n",
      "              (dense): Linear(in_features=768, out_features=768, bias=True)\n",
      "              (LayerNorm): LayerNorm((768,), eps=1e-12, elementwise_affine=True)\n",
      "              (dropout): Dropout(p=0.1, inplace=False)\n",
      "            )\n",
      "          )\n",
      "          (intermediate): BertIntermediate(\n",
      "            (dense): Linear(in_features=768, out_features=3072, bias=True)\n",
      "          )\n",
      "          (output): BertOutput(\n",
      "            (dense): Linear(in_features=3072, out_features=768, bias=True)\n",
      "            (LayerNorm): LayerNorm((768,), eps=1e-12, elementwise_affine=True)\n",
      "            (dropout): Dropout(p=0.1, inplace=False)\n",
      "          )\n",
      "        )\n",
      "        (4): BertLayer(\n",
      "          (attention): BertAttention(\n",
      "            (self): BertSelfAttention(\n",
      "              (query): Linear(in_features=768, out_features=768, bias=True)\n",
      "              (key): Linear(in_features=768, out_features=768, bias=True)\n",
      "              (value): Linear(in_features=768, out_features=768, bias=True)\n",
      "              (dropout): Dropout(p=0.1, inplace=False)\n",
      "            )\n",
      "            (output): BertSelfOutput(\n",
      "              (dense): Linear(in_features=768, out_features=768, bias=True)\n",
      "              (LayerNorm): LayerNorm((768,), eps=1e-12, elementwise_affine=True)\n",
      "              (dropout): Dropout(p=0.1, inplace=False)\n",
      "            )\n",
      "          )\n",
      "          (intermediate): BertIntermediate(\n",
      "            (dense): Linear(in_features=768, out_features=3072, bias=True)\n",
      "          )\n",
      "          (output): BertOutput(\n",
      "            (dense): Linear(in_features=3072, out_features=768, bias=True)\n",
      "            (LayerNorm): LayerNorm((768,), eps=1e-12, elementwise_affine=True)\n",
      "            (dropout): Dropout(p=0.1, inplace=False)\n",
      "          )\n",
      "        )\n",
      "        (5): BertLayer(\n",
      "          (attention): BertAttention(\n",
      "            (self): BertSelfAttention(\n",
      "              (query): Linear(in_features=768, out_features=768, bias=True)\n",
      "              (key): Linear(in_features=768, out_features=768, bias=True)\n",
      "              (value): Linear(in_features=768, out_features=768, bias=True)\n",
      "              (dropout): Dropout(p=0.1, inplace=False)\n",
      "            )\n",
      "            (output): BertSelfOutput(\n",
      "              (dense): Linear(in_features=768, out_features=768, bias=True)\n",
      "              (LayerNorm): LayerNorm((768,), eps=1e-12, elementwise_affine=True)\n",
      "              (dropout): Dropout(p=0.1, inplace=False)\n",
      "            )\n",
      "          )\n",
      "          (intermediate): BertIntermediate(\n",
      "            (dense): Linear(in_features=768, out_features=3072, bias=True)\n",
      "          )\n",
      "          (output): BertOutput(\n",
      "            (dense): Linear(in_features=3072, out_features=768, bias=True)\n",
      "            (LayerNorm): LayerNorm((768,), eps=1e-12, elementwise_affine=True)\n",
      "            (dropout): Dropout(p=0.1, inplace=False)\n",
      "          )\n",
      "        )\n",
      "        (6): BertLayer(\n",
      "          (attention): BertAttention(\n",
      "            (self): BertSelfAttention(\n",
      "              (query): Linear(in_features=768, out_features=768, bias=True)\n",
      "              (key): Linear(in_features=768, out_features=768, bias=True)\n",
      "              (value): Linear(in_features=768, out_features=768, bias=True)\n",
      "              (dropout): Dropout(p=0.1, inplace=False)\n",
      "            )\n",
      "            (output): BertSelfOutput(\n",
      "              (dense): Linear(in_features=768, out_features=768, bias=True)\n",
      "              (LayerNorm): LayerNorm((768,), eps=1e-12, elementwise_affine=True)\n",
      "              (dropout): Dropout(p=0.1, inplace=False)\n",
      "            )\n",
      "          )\n",
      "          (intermediate): BertIntermediate(\n",
      "            (dense): Linear(in_features=768, out_features=3072, bias=True)\n",
      "          )\n",
      "          (output): BertOutput(\n",
      "            (dense): Linear(in_features=3072, out_features=768, bias=True)\n",
      "            (LayerNorm): LayerNorm((768,), eps=1e-12, elementwise_affine=True)\n",
      "            (dropout): Dropout(p=0.1, inplace=False)\n",
      "          )\n",
      "        )\n",
      "        (7): BertLayer(\n",
      "          (attention): BertAttention(\n",
      "            (self): BertSelfAttention(\n",
      "              (query): Linear(in_features=768, out_features=768, bias=True)\n",
      "              (key): Linear(in_features=768, out_features=768, bias=True)\n",
      "              (value): Linear(in_features=768, out_features=768, bias=True)\n",
      "              (dropout): Dropout(p=0.1, inplace=False)\n",
      "            )\n",
      "            (output): BertSelfOutput(\n",
      "              (dense): Linear(in_features=768, out_features=768, bias=True)\n",
      "              (LayerNorm): LayerNorm((768,), eps=1e-12, elementwise_affine=True)\n",
      "              (dropout): Dropout(p=0.1, inplace=False)\n",
      "            )\n",
      "          )\n",
      "          (intermediate): BertIntermediate(\n",
      "            (dense): Linear(in_features=768, out_features=3072, bias=True)\n",
      "          )\n",
      "          (output): BertOutput(\n",
      "            (dense): Linear(in_features=3072, out_features=768, bias=True)\n",
      "            (LayerNorm): LayerNorm((768,), eps=1e-12, elementwise_affine=True)\n",
      "            (dropout): Dropout(p=0.1, inplace=False)\n",
      "          )\n",
      "        )\n",
      "        (8): BertLayer(\n",
      "          (attention): BertAttention(\n",
      "            (self): BertSelfAttention(\n",
      "              (query): Linear(in_features=768, out_features=768, bias=True)\n",
      "              (key): Linear(in_features=768, out_features=768, bias=True)\n",
      "              (value): Linear(in_features=768, out_features=768, bias=True)\n",
      "              (dropout): Dropout(p=0.1, inplace=False)\n",
      "            )\n",
      "            (output): BertSelfOutput(\n",
      "              (dense): Linear(in_features=768, out_features=768, bias=True)\n",
      "              (LayerNorm): LayerNorm((768,), eps=1e-12, elementwise_affine=True)\n",
      "              (dropout): Dropout(p=0.1, inplace=False)\n",
      "            )\n",
      "          )\n",
      "          (intermediate): BertIntermediate(\n",
      "            (dense): Linear(in_features=768, out_features=3072, bias=True)\n",
      "          )\n",
      "          (output): BertOutput(\n",
      "            (dense): Linear(in_features=3072, out_features=768, bias=True)\n",
      "            (LayerNorm): LayerNorm((768,), eps=1e-12, elementwise_affine=True)\n",
      "            (dropout): Dropout(p=0.1, inplace=False)\n",
      "          )\n",
      "        )\n",
      "        (9): BertLayer(\n",
      "          (attention): BertAttention(\n",
      "            (self): BertSelfAttention(\n",
      "              (query): Linear(in_features=768, out_features=768, bias=True)\n",
      "              (key): Linear(in_features=768, out_features=768, bias=True)\n",
      "              (value): Linear(in_features=768, out_features=768, bias=True)\n",
      "              (dropout): Dropout(p=0.1, inplace=False)\n",
      "            )\n",
      "            (output): BertSelfOutput(\n",
      "              (dense): Linear(in_features=768, out_features=768, bias=True)\n",
      "              (LayerNorm): LayerNorm((768,), eps=1e-12, elementwise_affine=True)\n",
      "              (dropout): Dropout(p=0.1, inplace=False)\n",
      "            )\n",
      "          )\n",
      "          (intermediate): BertIntermediate(\n",
      "            (dense): Linear(in_features=768, out_features=3072, bias=True)\n",
      "          )\n",
      "          (output): BertOutput(\n",
      "            (dense): Linear(in_features=3072, out_features=768, bias=True)\n",
      "            (LayerNorm): LayerNorm((768,), eps=1e-12, elementwise_affine=True)\n",
      "            (dropout): Dropout(p=0.1, inplace=False)\n",
      "          )\n",
      "        )\n",
      "        (10): BertLayer(\n",
      "          (attention): BertAttention(\n",
      "            (self): BertSelfAttention(\n",
      "              (query): Linear(in_features=768, out_features=768, bias=True)\n",
      "              (key): Linear(in_features=768, out_features=768, bias=True)\n",
      "              (value): Linear(in_features=768, out_features=768, bias=True)\n",
      "              (dropout): Dropout(p=0.1, inplace=False)\n",
      "            )\n",
      "            (output): BertSelfOutput(\n",
      "              (dense): Linear(in_features=768, out_features=768, bias=True)\n",
      "              (LayerNorm): LayerNorm((768,), eps=1e-12, elementwise_affine=True)\n",
      "              (dropout): Dropout(p=0.1, inplace=False)\n",
      "            )\n",
      "          )\n",
      "          (intermediate): BertIntermediate(\n",
      "            (dense): Linear(in_features=768, out_features=3072, bias=True)\n",
      "          )\n",
      "          (output): BertOutput(\n",
      "            (dense): Linear(in_features=3072, out_features=768, bias=True)\n",
      "            (LayerNorm): LayerNorm((768,), eps=1e-12, elementwise_affine=True)\n",
      "            (dropout): Dropout(p=0.1, inplace=False)\n",
      "          )\n",
      "        )\n",
      "        (11): BertLayer(\n",
      "          (attention): BertAttention(\n",
      "            (self): BertSelfAttention(\n",
      "              (query): Linear(in_features=768, out_features=768, bias=True)\n",
      "              (key): Linear(in_features=768, out_features=768, bias=True)\n",
      "              (value): Linear(in_features=768, out_features=768, bias=True)\n",
      "              (dropout): Dropout(p=0.1, inplace=False)\n",
      "            )\n",
      "            (output): BertSelfOutput(\n",
      "              (dense): Linear(in_features=768, out_features=768, bias=True)\n",
      "              (LayerNorm): LayerNorm((768,), eps=1e-12, elementwise_affine=True)\n",
      "              (dropout): Dropout(p=0.1, inplace=False)\n",
      "            )\n",
      "          )\n",
      "          (intermediate): BertIntermediate(\n",
      "            (dense): Linear(in_features=768, out_features=3072, bias=True)\n",
      "          )\n",
      "          (output): BertOutput(\n",
      "            (dense): Linear(in_features=3072, out_features=768, bias=True)\n",
      "            (LayerNorm): LayerNorm((768,), eps=1e-12, elementwise_affine=True)\n",
      "            (dropout): Dropout(p=0.1, inplace=False)\n",
      "          )\n",
      "        )\n",
      "      )\n",
      "    )\n",
      "    (pooler): BertPooler(\n",
      "      (dense): Linear(in_features=768, out_features=768, bias=True)\n",
      "      (activation): Tanh()\n",
      "    )\n",
      "  )\n",
      "  (dropout): Dropout(p=0.1, inplace=False)\n",
      "  (classifier): Linear(in_features=768, out_features=6, bias=True)\n",
      ")\n"
     ]
    }
   ],
   "source": [
    "from transformers import logging\n",
    "logging.set_verbosity_error()\n",
    "\n",
    "# config.json 에 입력된 architecture 에 따라 베이스 모델 설정\n",
    "BASE_MODELS = {\n",
    "    \"BertForSequenceClassification\": BertForSequenceClassification,\n",
    "    \"AutoModel\": AutoModel,\n",
    "    \"ElectraForSequenceClassification\": ElectraForSequenceClassification,\n",
    "    \"AlbertForSequenceClassification\": AlbertForSequenceClassification,\n",
    "\n",
    "}\n",
    "\n",
    "\n",
    "myModel = BASE_MODELS[args.architecture].from_pretrained(args.pretrained_model, \n",
    "                                                         num_labels = args.num_classes, \n",
    "                                                         output_attentions = False, # Whether the model returns attentions weights.\n",
    "                                                         output_hidden_states = True # Whether the model returns all hidden-states.\n",
    "                                                        )\n",
    "if DEBUG==True:\n",
    "    # 모델 구조 확인\n",
    "    print(myModel)"
   ]
  },
  {
   "cell_type": "code",
   "execution_count": 34,
   "id": "c5f90f3c-51f6-4b44-a426-a0b36ccfa852",
   "metadata": {
    "id": "c5f90f3c-51f6-4b44-a426-a0b36ccfa852",
    "tags": []
   },
   "outputs": [],
   "source": [
    "# !pip install git+https://git@github.com/SKTBrain/KoBERT.git@master"
   ]
  },
  {
   "cell_type": "markdown",
   "id": "c022a093-130f-40ac-b8e5-8decc5c63a6d",
   "metadata": {
    "id": "c022a093-130f-40ac-b8e5-8decc5c63a6d"
   },
   "source": [
    "### 4-2. 모델 설정"
   ]
  },
  {
   "cell_type": "markdown",
   "id": "69d37b1b-d491-4d3c-8551-980f78a78337",
   "metadata": {
    "id": "69d37b1b-d491-4d3c-8551-980f78a78337"
   },
   "source": [
    "\n",
    "- BertForSequenceClassifier (line 1232부터 참고) [source code](https://github.com/huggingface/transformers/blob/a39dfe4fb122c11be98a563fb8ca43b322e01036/src/transformers/modeling_bert.py#L1284-L1287)\n",
    "\n",
    "- ElectraForSequenceClassifier [source code](https://huggingface.co/transformers/v3.0.2/_modules/transformers/modeling_electra.html#ElectraForSequenceClassification)\n",
    "\n",
    "- SequenceClassier output 형태 : tuple(torch.FloatTensor)\n",
    "    - loss (torch.FloatTensor of shape (1,), optional, returned when label is provided):\n",
    "    Classification (or regression if config.num_labels==1) loss.\n",
    "\n",
    "   - logits (torch.FloatTensor of shape (batch_size, config.num_labels)):\n",
    "    Classification (or regression if config.num_labels==1) scores (before SoftMax).\n",
    "\n",
    "    - hidden_states (tuple(torch.FloatTensor), optional, returned when output_hidden_states=True is passed or when config.output_hidden_states=True):\n",
    "    Tuple of torch.FloatTensor (one for the output of the embeddings + one for the output of each layer) of shape (batch_size, sequence_length, hidden_size).\n",
    "\n",
    "    - Hidden-states of the model at the output of each layer plus the initial embedding outputs.\n",
    "\n",
    "    - attentions (tuple(torch.FloatTensor), optional, returned when output_attentions=True is passed or when config.output_attentions=True):\n",
    "Tuple of torch.FloatTensor (one for each layer) of shape (batch_size, num_heads, sequence_length, sequence_length).\n",
    "\n",
    "    Attentions weights after the attention softmax, used to compute the weighted average in the self-attention heads.\n",
    "    \n",
    "    \n",
    "- v2 에서 수정 및 추가 된 부분 많음\n",
    "\n"
   ]
  },
  {
   "cell_type": "code",
   "execution_count": 35,
   "id": "1685ce12-7238-4e2a-a20d-11969b568807",
   "metadata": {
    "executionInfo": {
     "elapsed": 325,
     "status": "ok",
     "timestamp": 1646180396871,
     "user": {
      "displayName": "김대영",
      "photoUrl": "https://lh3.googleusercontent.com/a/default-user=s64",
      "userId": "13005697931416995907"
     },
     "user_tz": -540
    },
    "id": "1685ce12-7238-4e2a-a20d-11969b568807"
   },
   "outputs": [],
   "source": [
    "### v2 에서 일부 수정됨\n",
    "class myClassifier(nn.Module):\n",
    "    def __init__(self, model, hidden_size = 768, num_classes=args.num_classes, selected_layers=False, params=None):\n",
    "        super(myClassifier, self).__init__()\n",
    "        self.model = model\n",
    "        self.softmax = nn.Softmax(dim=1) \n",
    "        self.selected_layers = selected_layers\n",
    "        \n",
    "        # 사실 dr rate은 model config 에서 hidden_dropout_prob로 가져와야 하는데 bert에선 0.1이 쓰였음\n",
    "        self.dropout = nn.Dropout(0.1)\n",
    "\n",
    "\n",
    "    def forward(self, token_ids, attention_mask, segment_ids):      \n",
    "        outputs = self.model(input_ids = token_ids, \n",
    "                             token_type_ids = segment_ids.long(), \n",
    "                             attention_mask = attention_mask.float().to(token_ids.device))\n",
    "        \n",
    "        # hidden state에서 마지막 4개 레이어를 뽑아 합쳐 새로운 pooled output 을 만드는 시도\n",
    "        if self.selected_layers == True:\n",
    "            hidden_states = outputs.hidden_states\n",
    "            pooled_output = torch.cat(tuple([hidden_states[i] for i in [-4, -3, -2, -1]]), dim=-1)\n",
    "            # print(\"concatenated output shape: \", pooled_output.shape)\n",
    "            ## dim(batch_size, max_seq_len, hidden_dim) 에서 가운데를 0이라 지정함으로, [cls] 토큰의 임베딩을 가져온다. \n",
    "            ## (text classification 구조 참고)\n",
    "            pooled_output = pooled_output[:, 0, :]\n",
    "            # print(pooled_output)\n",
    "\n",
    "            pooled_output = self.dropout(pooled_output)\n",
    "\n",
    "            ## 3개의 레이어를 합치므로 classifier의 차원은 (hidden_dim, 6)이다\n",
    "            classifier = nn.Linear(pooled_output.shape[1], args.num_classes).to(token_ids.device)\n",
    "            logits = classifier(pooled_output)\n",
    "        \n",
    "        else:\n",
    "            logits=outputs.logits\n",
    "        \n",
    "    \n",
    "        # 각 클래스별 확률\n",
    "        prob= self.softmax(logits)\n",
    "        # print(prob)\n",
    "        # logits2 = outputs.logits\n",
    "        # print(self.softmax(logits2))\n",
    "\n",
    "\n",
    "        return logits, prob\n",
    "        \n",
    "# 마지막 4 hidden layers concat 하는 방법을 쓰신다면 True로 변경        \n",
    "model = myClassifier(myModel, selected_layers=False)\n",
    "\n",
    "# if DEBUG ==True :\n",
    "#     print(model)"
   ]
  },
  {
   "cell_type": "code",
   "execution_count": null,
   "id": "cf359650-bc3c-4a9d-b486-e25496932285",
   "metadata": {
    "executionInfo": {
     "elapsed": 409,
     "status": "ok",
     "timestamp": 1646180400784,
     "user": {
      "displayName": "김대영",
      "photoUrl": "https://lh3.googleusercontent.com/a/default-user=s64",
      "userId": "13005697931416995907"
     },
     "user_tz": -540
    },
    "id": "cf359650-bc3c-4a9d-b486-e25496932285"
   },
   "outputs": [],
   "source": []
  },
  {
   "cell_type": "markdown",
   "id": "99386a8c-7795-454c-9a32-eaf447c6fc4c",
   "metadata": {
    "id": "99386a8c-7795-454c-9a32-eaf447c6fc4c"
   },
   "source": [
    "### 4-3. 모델 구성 확인"
   ]
  },
  {
   "cell_type": "code",
   "execution_count": 36,
   "id": "e3b6bc6f-1df3-46fb-a607-5de3e3cef571",
   "metadata": {
    "colab": {
     "base_uri": "https://localhost:8080/"
    },
    "executionInfo": {
     "elapsed": 3,
     "status": "ok",
     "timestamp": 1646180402309,
     "user": {
      "displayName": "김대영",
      "photoUrl": "https://lh3.googleusercontent.com/a/default-user=s64",
      "userId": "13005697931416995907"
     },
     "user_tz": -540
    },
    "id": "e3b6bc6f-1df3-46fb-a607-5de3e3cef571",
    "outputId": "45d2d647-8595-49ca-c0b4-90b624adcb29"
   },
   "outputs": [
    {
     "name": "stdout",
     "output_type": "stream",
     "text": [
      "The BERT model has 201 different named parameters.\n",
      "\n",
      "==== Embedding Layer ====\n",
      "\n",
      "model.bert.embeddings.word_embeddings.weight            (30000, 768)\n",
      "model.bert.embeddings.position_embeddings.weight          (300, 768)\n",
      "model.bert.embeddings.token_type_embeddings.weight          (2, 768)\n",
      "model.bert.embeddings.LayerNorm.weight                        (768,)\n",
      "model.bert.embeddings.LayerNorm.bias                          (768,)\n",
      "\n",
      "==== First Transformer ====\n",
      "\n",
      "model.bert.encoder.layer.0.attention.self.query.weight    (768, 768)\n",
      "model.bert.encoder.layer.0.attention.self.query.bias          (768,)\n",
      "model.bert.encoder.layer.0.attention.self.key.weight      (768, 768)\n",
      "model.bert.encoder.layer.0.attention.self.key.bias            (768,)\n",
      "model.bert.encoder.layer.0.attention.self.value.weight    (768, 768)\n",
      "model.bert.encoder.layer.0.attention.self.value.bias          (768,)\n",
      "model.bert.encoder.layer.0.attention.output.dense.weight   (768, 768)\n",
      "model.bert.encoder.layer.0.attention.output.dense.bias        (768,)\n",
      "model.bert.encoder.layer.0.attention.output.LayerNorm.weight       (768,)\n",
      "model.bert.encoder.layer.0.attention.output.LayerNorm.bias       (768,)\n",
      "model.bert.encoder.layer.0.intermediate.dense.weight     (3072, 768)\n",
      "model.bert.encoder.layer.0.intermediate.dense.bias           (3072,)\n",
      "model.bert.encoder.layer.0.output.dense.weight           (768, 3072)\n",
      "model.bert.encoder.layer.0.output.dense.bias                  (768,)\n",
      "model.bert.encoder.layer.0.output.LayerNorm.weight            (768,)\n",
      "model.bert.encoder.layer.0.output.LayerNorm.bias              (768,)\n",
      "\n",
      "==== Output Layer ====\n",
      "\n",
      "model.bert.pooler.dense.weight                            (768, 768)\n",
      "model.bert.pooler.dense.bias                                  (768,)\n",
      "model.classifier.weight                                     (6, 768)\n",
      "model.classifier.bias                                           (6,)\n"
     ]
    }
   ],
   "source": [
    "if DEBUG==True:\n",
    "    params = list(model.named_parameters())\n",
    "\n",
    "    print('The BERT model has {:} different named parameters.\\n'.format(len(params)))\n",
    "\n",
    "    print('==== Embedding Layer ====\\n')\n",
    "\n",
    "    for p in params[0:5]:\n",
    "        print(\"{:<55} {:>12}\".format(p[0], str(tuple(p[1].size()))))\n",
    "\n",
    "    print('\\n==== First Transformer ====\\n')\n",
    "\n",
    "    for p in params[5:21]:\n",
    "        print(\"{:<55} {:>12}\".format(p[0], str(tuple(p[1].size()))))\n",
    "\n",
    "    print('\\n==== Output Layer ====\\n')\n",
    "\n",
    "    for p in params[-4:]:\n",
    "        print(\"{:<55} {:>12}\".format(p[0], str(tuple(p[1].size()))))"
   ]
  },
  {
   "cell_type": "markdown",
   "id": "96c441a1-2ce3-46b2-b52d-c0cce7f76873",
   "metadata": {
    "id": "96c441a1-2ce3-46b2-b52d-c0cce7f76873"
   },
   "source": [
    "## 5. 학습 진행"
   ]
  },
  {
   "cell_type": "markdown",
   "id": "d4643714-c372-463a-8f7e-2955b2d4376a",
   "metadata": {
    "id": "d4643714-c372-463a-8f7e-2955b2d4376a"
   },
   "source": [
    "### 5-0. Early Stopper 함수 정의\n",
    "\n",
    "- v2에서 코드 일부 삭제"
   ]
  },
  {
   "cell_type": "code",
   "execution_count": 37,
   "id": "c205350d-ce58-42e7-9558-2b405f142ff4",
   "metadata": {
    "executionInfo": {
     "elapsed": 297,
     "status": "ok",
     "timestamp": 1646180405058,
     "user": {
      "displayName": "김대영",
      "photoUrl": "https://lh3.googleusercontent.com/a/default-user=s64",
      "userId": "13005697931416995907"
     },
     "user_tz": -540
    },
    "id": "c205350d-ce58-42e7-9558-2b405f142ff4"
   },
   "outputs": [],
   "source": [
    "class LossEarlyStopper():\n",
    "    \"\"\"Early stopper\n",
    "\n",
    "        patience (int): loss가 줄어들지 않아도 학습할 epoch 수\n",
    "        patience_counter (int): loss 가 줄어들지 않을 때 마다 1씩 증가\n",
    "        min_loss (float): 최소 loss\n",
    "        stop (bool): True 일 때 학습 중단\n",
    "\n",
    "    \"\"\"\n",
    "\n",
    "    def __init__(self, patience: int)-> None:\n",
    "        \"\"\" 초기화\n",
    "\n",
    "        Args:\n",
    "            patience (int): loss가 줄어들지 않아도 학습할 epoch 수\n",
    "            weight_path (str): weight 저장경로\n",
    "            verbose (bool): 로그 출력 여부, True 일 때 로그 출력\n",
    "        \"\"\"\n",
    "        self.patience = patience\n",
    "        self.patience_counter = 0\n",
    "        self.min_loss = np.Inf\n",
    "        self.stop = False\n",
    "\n",
    "    def check_early_stopping(self, loss: float)-> None:\n",
    "        # 첫 에폭\n",
    "        if self.min_loss == np.Inf:\n",
    "            self.min_loss = loss\n",
    "           \n",
    "        # loss가 줄지 않는다면 -> patience_counter 1 증가\n",
    "        elif loss > self.min_loss:\n",
    "            self.patience_counter += 1\n",
    "            msg = f\"Early stopping counter {self.patience_counter}/{self.patience}\"\n",
    "\n",
    "            # patience 만큼 loss가 줄지 않았다면 학습을 중단합니다.\n",
    "            if self.patience_counter == self.patience:\n",
    "                self.stop = True\n",
    "            print(msg)\n",
    "        # loss가 줄어듬 -> min_loss 갱신, patience_counter 초기화\n",
    "        elif loss <= self.min_loss:\n",
    "            self.patience_counter = 0\n",
    "            ### v2 에서 수정됨\n",
    "            ### self.save_model = True -> 삭제 (사용하지 않음)\n",
    "            msg = f\"Validation loss decreased {self.min_loss} -> {loss}\"\n",
    "            self.min_loss = loss\n",
    "\n",
    "            print(msg)"
   ]
  },
  {
   "cell_type": "markdown",
   "id": "27d11163-6def-448a-9095-19231e9efe64",
   "metadata": {
    "id": "27d11163-6def-448a-9095-19231e9efe64"
   },
   "source": [
    "### 5-1. Epoch 별 학습 및 검증"
   ]
  },
  {
   "cell_type": "markdown",
   "id": "c06ed2a1-c2e3-43cb-9967-05d85b8546ee",
   "metadata": {
    "id": "c06ed2a1-c2e3-43cb-9967-05d85b8546ee"
   },
   "source": [
    "- [Transformers optimization documentation](https://huggingface.co/docs/transformers/main_classes/optimizer_schedules)\n",
    "- [스케줄러 documentation](https://huggingface.co/docs/transformers/main_classes/optimizer_schedules#schedules)\n",
    "- Adam optimizer의 epsilon 파라미터 eps = 1e-8 는 \"계산 중 0으로 나눔을 방지 하기 위한 아주 작은 숫자 \" 입니다. ([출처](https://machinelearningmastery.com/adam-optimization-algorithm-for-deep-learning/))\n",
    "- 스케줄러 파라미터\n",
    "    - `warmup_ratio` : \n",
    "      - 학습이 진행되면서 학습률을 그 상황에 맞게 가변적으로 적당하게 변경되게 하기 위해 Scheduler를 사용합니다.\n",
    "      - 처음 학습률(Learning rate)를 warm up하기 위한 비율을 설정하는 warmup_ratio을 설정합니다.\n",
    "  "
   ]
  },
  {
   "cell_type": "code",
   "execution_count": 38,
   "id": "KYZQBFajNa4f",
   "metadata": {
    "colab": {
     "base_uri": "https://localhost:8080/"
    },
    "executionInfo": {
     "elapsed": 6,
     "status": "ok",
     "timestamp": 1646180408849,
     "user": {
      "displayName": "김대영",
      "photoUrl": "https://lh3.googleusercontent.com/a/default-user=s64",
      "userId": "13005697931416995907"
     },
     "user_tz": -540
    },
    "id": "KYZQBFajNa4f",
    "outputId": "c31f5fe4-9d41-4f90-a5a5-a68e71c8c8a0"
   },
   "outputs": [
    {
     "data": {
      "text/plain": [
       "261.46875"
      ]
     },
     "execution_count": 38,
     "metadata": {},
     "output_type": "execute_result"
    }
   ],
   "source": [
    "8367 / 32"
   ]
  },
  {
   "cell_type": "code",
   "execution_count": null,
   "id": "d151484e-978d-4bf3-b7b3-fe2c5ba5eda5",
   "metadata": {
    "colab": {
     "base_uri": "https://localhost:8080/"
    },
    "executionInfo": {
     "elapsed": 3007062,
     "status": "ok",
     "timestamp": 1646183416216,
     "user": {
      "displayName": "김대영",
      "photoUrl": "https://lh3.googleusercontent.com/a/default-user=s64",
      "userId": "13005697931416995907"
     },
     "user_tz": -540
    },
    "id": "d151484e-978d-4bf3-b7b3-fe2c5ba5eda5",
    "outputId": "78ad09a6-ae86-40bd-cabe-5723bc3ece62",
    "tags": []
   },
   "outputs": [
    {
     "name": "stdout",
     "output_type": "stream",
     "text": [
      "config file loaded.\n",
      "beomi/kcbert-base\n",
      "RUN :  \n",
      "batch size :  32\n",
      "The first batch looks like ..\n",
      " {'input_ids': tensor([[[    2,   303,  4203,  ...,     0,     0,     0]],\n",
      "\n",
      "        [[    2, 11282,  5107,  ...,     0,     0,     0]],\n",
      "\n",
      "        [[    2,  3354,  4391,  ...,     0,     0,     0]],\n",
      "\n",
      "        ...,\n",
      "\n",
      "        [[    2,   303,  4218,  ...,     0,     0,     0]],\n",
      "\n",
      "        [[    2, 10090,  1505,  ...,     0,     0,     0]],\n",
      "\n",
      "        [[    2,  3352,  4038,  ...,     0,     0,     0]]]), 'attention_mask': tensor([[[1, 1, 1,  ..., 0, 0, 0]],\n",
      "\n",
      "        [[1, 1, 1,  ..., 0, 0, 0]],\n",
      "\n",
      "        [[1, 1, 1,  ..., 0, 0, 0]],\n",
      "\n",
      "        ...,\n",
      "\n",
      "        [[1, 1, 1,  ..., 0, 0, 0]],\n",
      "\n",
      "        [[1, 1, 1,  ..., 0, 0, 0]],\n",
      "\n",
      "        [[1, 1, 1,  ..., 0, 0, 0]]]), 'token_type_ids': tensor([[[0, 0, 0,  ..., 0, 0, 0]],\n",
      "\n",
      "        [[0, 0, 0,  ..., 0, 0, 0]],\n",
      "\n",
      "        [[0, 0, 0,  ..., 0, 0, 0]],\n",
      "\n",
      "        ...,\n",
      "\n",
      "        [[0, 0, 0,  ..., 0, 0, 0]],\n",
      "\n",
      "        [[0, 0, 0,  ..., 0, 0, 0]],\n",
      "\n",
      "        [[0, 0, 0,  ..., 0, 0, 0]]])}\n"
     ]
    },
    {
     "name": "stderr",
     "output_type": "stream",
     "text": [
      "100% 236/236 [02:42<00:00,  1.45it/s]\n"
     ]
    },
    {
     "name": "stdout",
     "output_type": "stream",
     "text": [
      "Epoch: 1                 | Train Loss:  1.769                 | Train Accuracy:  7.347                 | Val Loss:  0.054                 | Val Accuracy:  0.256\n"
     ]
    },
    {
     "name": "stderr",
     "output_type": "stream",
     "text": [
      "/opt/conda/lib/python3.8/site-packages/torch/optim/lr_scheduler.py:200: UserWarning: Please also save or load the state of the optimzer when saving or loading the scheduler.\n",
      "  warnings.warn(SAVE_STATE_WARNING, UserWarning)\n",
      "100% 236/236 [02:43<00:00,  1.45it/s]\n"
     ]
    },
    {
     "name": "stdout",
     "output_type": "stream",
     "text": [
      "Epoch: 2                 | Train Loss:  1.577                 | Train Accuracy:  10.949                 | Val Loss:  0.048                 | Val Accuracy:  0.405\n",
      "Validation loss decreased 0.05431738577720797 -> 0.047565635956886135\n"
     ]
    },
    {
     "name": "stderr",
     "output_type": "stream",
     "text": [
      "100% 236/236 [02:42<00:00,  1.45it/s]\n"
     ]
    },
    {
     "name": "stdout",
     "output_type": "stream",
     "text": [
      "Epoch: 3                 | Train Loss:  1.430                 | Train Accuracy:  13.072                 | Val Loss:  0.044                 | Val Accuracy:  0.427\n",
      "Validation loss decreased 0.047565635956886135 -> 0.04419029115063885\n"
     ]
    },
    {
     "name": "stderr",
     "output_type": "stream",
     "text": [
      "100% 236/236 [02:42<00:00,  1.45it/s]\n"
     ]
    },
    {
     "name": "stdout",
     "output_type": "stream",
     "text": [
      "Epoch: 4                 | Train Loss:  1.340                 | Train Accuracy:  13.852                 | Val Loss:  0.041                 | Val Accuracy:  0.456\n",
      "Validation loss decreased 0.04419029115063885 -> 0.04097419920218318\n"
     ]
    },
    {
     "name": "stderr",
     "output_type": "stream",
     "text": [
      "100% 236/236 [02:42<00:00,  1.46it/s]\n"
     ]
    },
    {
     "name": "stdout",
     "output_type": "stream",
     "text": [
      "Epoch: 5                 | Train Loss:  1.210                 | Train Accuracy:  16.407                 | Val Loss:  0.036                 | Val Accuracy:  0.554\n",
      "Validation loss decreased 0.04097419920218318 -> 0.0356225698581021\n"
     ]
    },
    {
     "name": "stderr",
     "output_type": "stream",
     "text": [
      "100% 236/236 [02:41<00:00,  1.46it/s]\n"
     ]
    },
    {
     "name": "stdout",
     "output_type": "stream",
     "text": [
      "Epoch: 6                 | Train Loss:  1.060                 | Train Accuracy:  19.000                 | Val Loss:  0.032                 | Val Accuracy:  0.603\n",
      "Validation loss decreased 0.0356225698581021 -> 0.032370530967928884\n"
     ]
    },
    {
     "name": "stderr",
     "output_type": "stream",
     "text": [
      "100% 236/236 [02:42<00:00,  1.46it/s]\n"
     ]
    },
    {
     "name": "stdout",
     "output_type": "stream",
     "text": [
      "Epoch: 7                 | Train Loss:  0.962                 | Train Accuracy:  20.496                 | Val Loss:  0.031                 | Val Accuracy:  0.618\n",
      "Validation loss decreased 0.032370530967928884 -> 0.030798967522674706\n"
     ]
    },
    {
     "name": "stderr",
     "output_type": "stream",
     "text": [
      "100% 236/236 [02:42<00:00,  1.45it/s]\n"
     ]
    },
    {
     "name": "stdout",
     "output_type": "stream",
     "text": [
      "Epoch: 8                 | Train Loss:  0.891                 | Train Accuracy:  21.339                 | Val Loss:  0.030                 | Val Accuracy:  0.634\n",
      "Validation loss decreased 0.030798967522674706 -> 0.03004301213876321\n"
     ]
    },
    {
     "name": "stderr",
     "output_type": "stream",
     "text": [
      "100% 236/236 [02:42<00:00,  1.45it/s]\n"
     ]
    },
    {
     "name": "stdout",
     "output_type": "stream",
     "text": [
      "Epoch: 9                 | Train Loss:  0.826                 | Train Accuracy:  22.335                 | Val Loss:  0.030                 | Val Accuracy:  0.626\n",
      "Validation loss decreased 0.03004301213876321 -> 0.02995589257995715\n"
     ]
    },
    {
     "name": "stderr",
     "output_type": "stream",
     "text": [
      "100% 236/236 [02:42<00:00,  1.45it/s]\n"
     ]
    },
    {
     "name": "stdout",
     "output_type": "stream",
     "text": [
      "Epoch: 10                 | Train Loss:  0.768                 | Train Accuracy:  23.246                 | Val Loss:  0.030                 | Val Accuracy:  0.634\n",
      "Validation loss decreased 0.02995589257995715 -> 0.029813825870500243\n"
     ]
    },
    {
     "name": "stderr",
     "output_type": "stream",
     "text": [
      "100% 236/236 [02:42<00:00,  1.46it/s]\n",
      "  0% 0/236 [00:00<?, ?it/s]"
     ]
    },
    {
     "name": "stdout",
     "output_type": "stream",
     "text": [
      "Epoch: 11                 | Train Loss:  0.710                 | Train Accuracy:  24.114                 | Val Loss:  0.030                 | Val Accuracy:  0.627\n",
      "Early stopping counter 1/10\n"
     ]
    },
    {
     "name": "stderr",
     "output_type": "stream",
     "text": [
      "100% 236/236 [02:42<00:00,  1.45it/s]\n",
      "  0% 0/236 [00:00<?, ?it/s]"
     ]
    },
    {
     "name": "stdout",
     "output_type": "stream",
     "text": [
      "Epoch: 12                 | Train Loss:  0.653                 | Train Accuracy:  24.903                 | Val Loss:  0.031                 | Val Accuracy:  0.622\n",
      "Early stopping counter 2/10\n"
     ]
    },
    {
     "name": "stderr",
     "output_type": "stream",
     "text": [
      " 21% 49/236 [00:33<02:08,  1.45it/s]"
     ]
    }
   ],
   "source": [
    "args = set_config(config_path)\n",
    "\n",
    "logging.set_verbosity_warning()\n",
    "\n",
    "# 재현을 위해 모든 곳의 시드 고정\n",
    "seed_val = args.seed\n",
    "random.seed(seed_val)\n",
    "np.random.seed(seed_val)\n",
    "torch.manual_seed(seed_val)\n",
    "torch.cuda.manual_seed_all(seed_val)\n",
    "\n",
    "\n",
    "\n",
    "def train(model, train_data, val_data, args, mode = 'train'):\n",
    "    \n",
    "    # args.run은 실험 이름 (어디까지나 팀원들간의 버전 관리 및 공유 편의를 위한 것으로, 자유롭게 수정 가능합니다.)\n",
    "    print(\"RUN : \", args.run)\n",
    "    shutil.copyfile(f'{PATH}config.json', os.path.join(args.config_dir, f\"config_{args.run}.json\"))\n",
    "\n",
    "    early_stopper = LossEarlyStopper(patience=args.patience)\n",
    "    \n",
    "    train_dataloader = torch.utils.data.DataLoader(train_data, batch_size=args.train_batch_size, shuffle=True)\n",
    "    val_dataloader = torch.utils.data.DataLoader(val_data, batch_size=args.train_batch_size)\n",
    "\n",
    "    step_limt = 236 # 기존 데이터는 236 step 만큼 한 에폭당 실행된다.\n",
    "\n",
    "\n",
    "    if DEBUG == True:\n",
    "        # 데이터로더가 성공적으로 로드 되었는지 확인\n",
    "        for idx, data in enumerate(train_dataloader):\n",
    "            if idx==0:\n",
    "                print(\"batch size : \", len(data[0]['input_ids']))\n",
    "                print(\"The first batch looks like ..\\n\", data[0])\n",
    "    \n",
    "    \n",
    "    criterion = nn.CrossEntropyLoss()\n",
    "    \n",
    "    total_steps = len(train_dataloader) * args.train_epochs\n",
    "\n",
    "    ### v2에서 수정됨 (Adam -> AdamW)\n",
    "    optimizer = AdamW(model.parameters(), lr=args.learning_rate, eps=args.adam_epsilon)\n",
    "    scheduler = get_linear_schedule_with_warmup(optimizer, num_warmup_steps=int(total_steps * args.warmup_proportion), \n",
    "                                                num_training_steps=total_steps)\n",
    "\n",
    "    \n",
    "    if use_cuda:\n",
    "        model = model.to(DEVICE)\n",
    "        criterion = criterion.to(DEVICE)\n",
    "        \n",
    "\n",
    "    tr_loss = 0.0\n",
    "    val_loss = 0.0\n",
    "    best_score = 0.0\n",
    "    best_loss =0.0\n",
    "      \n",
    "\n",
    "    for epoch_num in range(args.train_epochs):\n",
    "\n",
    "            total_acc_train = 0\n",
    "            total_loss_train = 0\n",
    "            \n",
    "            assert mode in ['train', 'val'], 'your mode should be either \\'train\\' or \\'val\\''\n",
    "            \n",
    "            if mode =='train':\n",
    "                step = 0\n",
    "                for train_input, train_label in tqdm(train_dataloader):  # 데이터가 늘어난 만큼 에폭당 스텝수가 늘어나기 때문에 여기서 스텝의 수를 제한다(어리스탑어의 기능을 일정하게 하기위해서)\n",
    "                    step += 1\n",
    "                    if step == (step_limt + 1): # 기존 데이터는 236 step 만큼 한 에폭당 실행된다. (32 베치 사이즈 기준)\n",
    "                        break\n",
    "\n",
    "                    mask = train_input['attention_mask'].to(DEVICE)\n",
    "                    input_id = train_input['input_ids'].squeeze(1).to(DEVICE)\n",
    "                    segment_ids = train_input['token_type_ids'].squeeze(1).to(DEVICE)\n",
    "                    train_label = train_label.long().to(DEVICE)  \n",
    "                    \n",
    "                    ### v2에 수정됨\n",
    "                    optimizer.zero_grad()\n",
    " \n",
    "                    output = model(input_id, mask, segment_ids)\n",
    "                    batch_loss = criterion(output[0].view(-1,6), train_label.view(-1))\n",
    "                    total_loss_train += batch_loss.item()\n",
    "\n",
    "                    acc = (output[0].argmax(dim=1) == train_label).sum().item()\n",
    "                    total_acc_train += acc\n",
    "                    \n",
    "                    ### v2에 수정됨\n",
    "                    optimizer.zero_grad()\n",
    "                    \n",
    "                    batch_loss.backward()\n",
    "                    optimizer.step()\n",
    "                    \n",
    "                    ### v2 에 수정됨\n",
    "                    scheduler.step()\n",
    "                    \n",
    "\n",
    "            total_acc_val = 0\n",
    "            total_loss_val = 0\n",
    "            \n",
    "            # validation을 위해 이걸 넣으면 이 evaluation 프로세스 중엔 dropout 레이어가 다르가 동작한다.\n",
    "            model.eval()\n",
    "            \n",
    "            with torch.no_grad():\n",
    "\n",
    "                for val_input, val_label in val_dataloader:\n",
    "\n",
    "                    mask = val_input['attention_mask'].to(DEVICE)\n",
    "                    input_id = val_input['input_ids'].squeeze(1).to(DEVICE)\n",
    "                    segment_ids = val_input['token_type_ids'].squeeze(1).to(DEVICE)\n",
    "                    val_label = val_label.long().to(DEVICE)\n",
    "\n",
    "                    output = model(input_id, mask, segment_ids)\n",
    "                    ### v2 에서 일부 수정 (output -> output[0]로 myClassifier 모델에 정의된대로 logits 가져옴)\n",
    "                    batch_loss = criterion(output[0].view(-1,6), val_label.view(-1))\n",
    "                    total_loss_val += batch_loss.item()\n",
    "                    \n",
    "                    ### v2 에서 일부 수정 (output -> output[0]로 myClassifier 모델에 정의된대로 logits 가져옴)\n",
    "                    acc = (output[0].argmax(dim=1) == val_label).sum().item()\n",
    "                    total_acc_val += acc\n",
    "            \n",
    "            \n",
    "            train_loss = total_loss_train / step_limt\n",
    "            train_accuracy = total_acc_train / step_limt\n",
    "            val_loss = total_loss_val / len(val_data)\n",
    "            val_accuracy = total_acc_val / len(val_data)\n",
    "            \n",
    "            # 한 Epoch 학습 후 학습/검증에 대해 loss와 평가지표 (여기서는 accuracy로 임의로 설정) 출력\n",
    "            print(\n",
    "                f'Epoch: {epoch_num + 1} \\\n",
    "                | Train Loss: {train_loss: .3f} \\\n",
    "                | Train Accuracy: {train_accuracy: .3f} \\\n",
    "                | Val Loss: {val_loss: .3f} \\\n",
    "                | Val Accuracy: {val_accuracy: .3f}')\n",
    "          \n",
    "            # early_stopping check\n",
    "            early_stopper.check_early_stopping(loss=val_loss)\n",
    "\n",
    "            if early_stopper.stop:\n",
    "                print('Early stopped, Best score : ', best_score)\n",
    "                break\n",
    "\n",
    "            ### v2 에 수정됨\n",
    "            ### loss와 accuracy가 꼭 correlate하진 않습니다.\n",
    "            ### \n",
    "            ### 원본 (필요하다면 다시 해제 후 사용)\n",
    "            # if val_accuracy > best_score : \n",
    "            if epoch_num == 0 or val_loss < best_loss :\n",
    "            # 모델이 개선됨 -> 검증 점수와 베스트 loss, weight 갱신\n",
    "                best_score = val_accuracy \n",
    "                \n",
    "                ### v2에서 추가\n",
    "                best_loss =val_loss\n",
    "                # 학습된 모델을 저장할 디렉토리 및 모델 이름 지정\n",
    "                SAVED_MODEL =  os.path.join(args.result_dir, f'best_{args.run}.pt')\n",
    "            \n",
    "                check_point = {\n",
    "                    'model': model.state_dict(),\n",
    "                    'optimizer': optimizer.state_dict(),\n",
    "                    'scheduler': scheduler.state_dict()\n",
    "                }\n",
    "                torch.save(check_point, SAVED_MODEL)  \n",
    "              \n",
    "            # print(\"scheduler : \", scheduler.state_dict())\n",
    "\n",
    "\n",
    "    print(\"train finished\")\n",
    "\n",
    "\n",
    "train(model, train_dataset, val_dataset, args, mode = 'train')"
   ]
  },
  {
   "cell_type": "markdown",
   "id": "6301514c-7d9e-4f37-9e8c-db85e3819b8b",
   "metadata": {
    "id": "6301514c-7d9e-4f37-9e8c-db85e3819b8b"
   },
   "source": [
    "## 6. Test dataset으로 추론 (Prediction)\n",
    "\n",
    "\n",
    "- v2 에서 수정된 부분\n",
    "    - output -> output[0]"
   ]
  },
  {
   "cell_type": "code",
   "execution_count": null,
   "id": "S0vJh6hvaJtV",
   "metadata": {
    "colab": {
     "base_uri": "https://localhost:8080/",
     "height": 50
    },
    "executionInfo": {
     "elapsed": 263,
     "status": "ok",
     "timestamp": 1646153769691,
     "user": {
      "displayName": "김대영",
      "photoUrl": "https://lh3.googleusercontent.com/a/default-user=s64",
      "userId": "13005697931416995907"
     },
     "user_tz": -540
    },
    "id": "S0vJh6hvaJtV",
    "outputId": "f76c3c17-48bf-44ca-ee2f-ca70be47d539"
   },
   "outputs": [],
   "source": [
    "test_df.loc[train_df['title'].isnull() == True]"
   ]
  },
  {
   "cell_type": "code",
   "execution_count": null,
   "id": "32696c34-b5e6-43b3-a1e7-ed8c2847baa9",
   "metadata": {
    "executionInfo": {
     "elapsed": 2505,
     "status": "ok",
     "timestamp": 1646183418710,
     "user": {
      "displayName": "김대영",
      "photoUrl": "https://lh3.googleusercontent.com/a/default-user=s64",
      "userId": "13005697931416995907"
     },
     "user_tz": -540
    },
    "id": "32696c34-b5e6-43b3-a1e7-ed8c2847baa9"
   },
   "outputs": [],
   "source": [
    "from torch.utils.data import DataLoader\n",
    "\n",
    "# 테스트 데이터셋 불러오기\n",
    "test_data = CustomDataset(test_df, tokenizer = TOKENIZER, max_len= args.max_seq_len, mode='test')\n",
    "\n",
    "def test(model, SAVED_MODEL, test_data, args, mode = 'test'):\n",
    "\n",
    "\n",
    "    test_dataloader = torch.utils.data.DataLoader(test_data, batch_size=args.eval_batch_size)\n",
    "\n",
    "\n",
    "    if use_cuda:\n",
    "\n",
    "        model = model.to(DEVICE)\n",
    "        # model.load_state_dict(torch.load(SAVED_MODEL)['model'])\n",
    "\n",
    "\n",
    "    model.eval()\n",
    "\n",
    "    pred = []\n",
    "\n",
    "    with torch.no_grad():\n",
    "        for test_input in test_dataloader:\n",
    "\n",
    "            mask = test_input['attention_mask'].to(DEVICE)\n",
    "            input_id = test_input['input_ids'].squeeze(1).to(DEVICE)\n",
    "            segment_ids = test_input['token_type_ids'].squeeze(1).to(DEVICE)\n",
    "\n",
    "            output = model(input_id, mask, segment_ids)\n",
    "\n",
    "            output = output[0].argmax(dim=1).cpu().tolist()\n",
    "\n",
    "            for label in output:\n",
    "                pred.append(label)\n",
    "                \n",
    "    return pred\n",
    "\n",
    "SAVED_MODEL =  os.path.join(args.result_dir, f'best_{args.run}.pt')\n",
    "\n",
    "pred = test(model, SAVED_MODEL, test_data, args)"
   ]
  },
  {
   "cell_type": "code",
   "execution_count": null,
   "id": "29432647-7a5d-4dda-99af-ad6f151fd2eb",
   "metadata": {
    "colab": {
     "base_uri": "https://localhost:8080/"
    },
    "executionInfo": {
     "elapsed": 9,
     "status": "ok",
     "timestamp": 1646183418710,
     "user": {
      "displayName": "김대영",
      "photoUrl": "https://lh3.googleusercontent.com/a/default-user=s64",
      "userId": "13005697931416995907"
     },
     "user_tz": -540
    },
    "id": "29432647-7a5d-4dda-99af-ad6f151fd2eb",
    "outputId": "4f095d52-2acc-40e6-ebe7-da83f3f04a36"
   },
   "outputs": [],
   "source": [
    "print(\"prediction completed for \", len(pred), \"comments\")\n"
   ]
  },
  {
   "cell_type": "markdown",
   "id": "fe8aaf8d-93c6-4998-b005-f32ec5986f46",
   "metadata": {
    "id": "fe8aaf8d-93c6-4998-b005-f32ec5986f46"
   },
   "source": [
    "### "
   ]
  },
  {
   "cell_type": "code",
   "execution_count": null,
   "id": "5ccc3c34-e3a8-4172-8b16-f1c2a5bb5a3e",
   "metadata": {
    "colab": {
     "base_uri": "https://localhost:8080/"
    },
    "executionInfo": {
     "elapsed": 7,
     "status": "ok",
     "timestamp": 1646183418710,
     "user": {
      "displayName": "김대영",
      "photoUrl": "https://lh3.googleusercontent.com/a/default-user=s64",
      "userId": "13005697931416995907"
     },
     "user_tz": -540
    },
    "id": "5ccc3c34-e3a8-4172-8b16-f1c2a5bb5a3e",
    "outputId": "7b3f74c8-a2f8-4fe7-b5ee-ecbbf24ab8b9"
   },
   "outputs": [],
   "source": [
    "# 0-5 사이의 라벨 값 별로 bias, hate로 디코딩 하기 위한 딕셔너리\n",
    "bias_dict = {0: 'none', 1: 'none', 2: 'others', 3:'others', 4:'gender', 5:'gender'}\n",
    "hate_dict = {0: 'none', 1: 'hate', 2: 'none', 3:'hate', 4:'none', 5:'hate'}\n",
    "\n",
    "# 인코딩 값으로 나온 타겟 변수를 디코딩\n",
    "pred_bias = ['' for i in range(len(pred))]\n",
    "pred_hate = ['' for i in range(len(pred))]\n",
    "\n",
    "for idx, label in enumerate(pred):\n",
    "    pred_bias[idx]=(str(bias_dict[label]))\n",
    "    pred_hate[idx]=(str(hate_dict[label]))\n",
    "print('decode Completed!')\n",
    "\n"
   ]
  },
  {
   "cell_type": "code",
   "execution_count": null,
   "id": "75e6cdb3-8245-468e-aaf0-4e6f328e98c9",
   "metadata": {
    "colab": {
     "base_uri": "https://localhost:8080/",
     "height": 423
    },
    "executionInfo": {
     "elapsed": 569,
     "status": "ok",
     "timestamp": 1646183419275,
     "user": {
      "displayName": "김대영",
      "photoUrl": "https://lh3.googleusercontent.com/a/default-user=s64",
      "userId": "13005697931416995907"
     },
     "user_tz": -540
    },
    "id": "75e6cdb3-8245-468e-aaf0-4e6f328e98c9",
    "outputId": "77b6f76c-6899-4dc2-c90f-c8dcab93fdfe"
   },
   "outputs": [],
   "source": [
    "submit = pd.read_csv(os.path.join(args.data_dir,'sample_submission.csv'))\n",
    "submit"
   ]
  },
  {
   "cell_type": "code",
   "execution_count": null,
   "id": "9265e1ac-0b0b-46eb-a892-307545f8fb33",
   "metadata": {
    "colab": {
     "base_uri": "https://localhost:8080/",
     "height": 423
    },
    "executionInfo": {
     "elapsed": 10,
     "status": "ok",
     "timestamp": 1646183419276,
     "user": {
      "displayName": "김대영",
      "photoUrl": "https://lh3.googleusercontent.com/a/default-user=s64",
      "userId": "13005697931416995907"
     },
     "user_tz": -540
    },
    "id": "9265e1ac-0b0b-46eb-a892-307545f8fb33",
    "outputId": "0717b705-5aaa-4b0b-8104-f7adc0b92a6c"
   },
   "outputs": [],
   "source": [
    "submit['bias'] = pred_bias\n",
    "submit['hate'] = pred_hate\n",
    "submit"
   ]
  },
  {
   "cell_type": "code",
   "execution_count": null,
   "id": "964b5159-8ffe-4cc2-833b-3c4b0c857022",
   "metadata": {
    "executionInfo": {
     "elapsed": 10,
     "status": "ok",
     "timestamp": 1646183419277,
     "user": {
      "displayName": "김대영",
      "photoUrl": "https://lh3.googleusercontent.com/a/default-user=s64",
      "userId": "13005697931416995907"
     },
     "user_tz": -540
    },
    "id": "964b5159-8ffe-4cc2-833b-3c4b0c857022"
   },
   "outputs": [],
   "source": [
    "submit.to_csv(os.path.join(args.result_dir, f\"submission_{args.run}.csv\"), index=False)"
   ]
  },
  {
   "cell_type": "code",
   "execution_count": null,
   "id": "e4a30767-7803-448a-950b-412b71088d07",
   "metadata": {
    "id": "e4a30767-7803-448a-950b-412b71088d07"
   },
   "outputs": [],
   "source": []
  },
  {
   "cell_type": "code",
   "execution_count": null,
   "id": "f89023af-867b-4d28-b30d-e465d0abe66a",
   "metadata": {
    "id": "f89023af-867b-4d28-b30d-e465d0abe66a"
   },
   "outputs": [],
   "source": []
  }
 ],
 "metadata": {
  "accelerator": "GPU",
  "colab": {
   "name": "nlp_baseline_v2.ipynb",
   "provenance": []
  },
  "kernelspec": {
   "display_name": "Python 3 (ipykernel)",
   "language": "python",
   "name": "python3"
  },
  "language_info": {
   "codemirror_mode": {
    "name": "ipython",
    "version": 3
   },
   "file_extension": ".py",
   "mimetype": "text/x-python",
   "name": "python",
   "nbconvert_exporter": "python",
   "pygments_lexer": "ipython3",
   "version": "3.8.5"
  },
  "widgets": {
   "application/vnd.jupyter.widget-state+json": {
    "09f3dd6e10c342a0857e58d9e4cc759c": {
     "model_module": "@jupyter-widgets/controls",
     "model_module_version": "1.5.0",
     "model_name": "HTMLModel",
     "state": {
      "_dom_classes": [],
      "_model_module": "@jupyter-widgets/controls",
      "_model_module_version": "1.5.0",
      "_model_name": "HTMLModel",
      "_view_count": null,
      "_view_module": "@jupyter-widgets/controls",
      "_view_module_version": "1.5.0",
      "_view_name": "HTMLView",
      "description": "",
      "description_tooltip": null,
      "layout": "IPY_MODEL_855df198e751496c923247e904fc1e21",
      "placeholder": "​",
      "style": "IPY_MODEL_f9a8946305e24a6995ffb5cba191b744",
      "value": " 257k/257k [00:00&lt;00:00, 907kB/s]"
     }
    },
    "1b519af57dbf4db8b5ef73ec640cb09d": {
     "model_module": "@jupyter-widgets/controls",
     "model_module_version": "1.5.0",
     "model_name": "FloatProgressModel",
     "state": {
      "_dom_classes": [],
      "_model_module": "@jupyter-widgets/controls",
      "_model_module_version": "1.5.0",
      "_model_name": "FloatProgressModel",
      "_view_count": null,
      "_view_module": "@jupyter-widgets/controls",
      "_view_module_version": "1.5.0",
      "_view_name": "ProgressView",
      "bar_style": "success",
      "description": "",
      "description_tooltip": null,
      "layout": "IPY_MODEL_1d528cff3a2b49e38c2e6a99e5e678b0",
      "max": 451741507,
      "min": 0,
      "orientation": "horizontal",
      "style": "IPY_MODEL_d12a3012de19422db21ddaa4d2c23926",
      "value": 451741507
     }
    },
    "1d528cff3a2b49e38c2e6a99e5e678b0": {
     "model_module": "@jupyter-widgets/base",
     "model_module_version": "1.2.0",
     "model_name": "LayoutModel",
     "state": {
      "_model_module": "@jupyter-widgets/base",
      "_model_module_version": "1.2.0",
      "_model_name": "LayoutModel",
      "_view_count": null,
      "_view_module": "@jupyter-widgets/base",
      "_view_module_version": "1.2.0",
      "_view_name": "LayoutView",
      "align_content": null,
      "align_items": null,
      "align_self": null,
      "border": null,
      "bottom": null,
      "display": null,
      "flex": null,
      "flex_flow": null,
      "grid_area": null,
      "grid_auto_columns": null,
      "grid_auto_flow": null,
      "grid_auto_rows": null,
      "grid_column": null,
      "grid_gap": null,
      "grid_row": null,
      "grid_template_areas": null,
      "grid_template_columns": null,
      "grid_template_rows": null,
      "height": null,
      "justify_content": null,
      "justify_items": null,
      "left": null,
      "margin": null,
      "max_height": null,
      "max_width": null,
      "min_height": null,
      "min_width": null,
      "object_fit": null,
      "object_position": null,
      "order": null,
      "overflow": null,
      "overflow_x": null,
      "overflow_y": null,
      "padding": null,
      "right": null,
      "top": null,
      "visibility": null,
      "width": null
     }
    },
    "2574eac8fde142338b53eac44b9afb6f": {
     "model_module": "@jupyter-widgets/base",
     "model_module_version": "1.2.0",
     "model_name": "LayoutModel",
     "state": {
      "_model_module": "@jupyter-widgets/base",
      "_model_module_version": "1.2.0",
      "_model_name": "LayoutModel",
      "_view_count": null,
      "_view_module": "@jupyter-widgets/base",
      "_view_module_version": "1.2.0",
      "_view_name": "LayoutView",
      "align_content": null,
      "align_items": null,
      "align_self": null,
      "border": null,
      "bottom": null,
      "display": null,
      "flex": null,
      "flex_flow": null,
      "grid_area": null,
      "grid_auto_columns": null,
      "grid_auto_flow": null,
      "grid_auto_rows": null,
      "grid_column": null,
      "grid_gap": null,
      "grid_row": null,
      "grid_template_areas": null,
      "grid_template_columns": null,
      "grid_template_rows": null,
      "height": null,
      "justify_content": null,
      "justify_items": null,
      "left": null,
      "margin": null,
      "max_height": null,
      "max_width": null,
      "min_height": null,
      "min_width": null,
      "object_fit": null,
      "object_position": null,
      "order": null,
      "overflow": null,
      "overflow_x": null,
      "overflow_y": null,
      "padding": null,
      "right": null,
      "top": null,
      "visibility": null,
      "width": null
     }
    },
    "2aa2509b63e3424ebf7ac390e1e9f5b6": {
     "model_module": "@jupyter-widgets/controls",
     "model_module_version": "1.5.0",
     "model_name": "HTMLModel",
     "state": {
      "_dom_classes": [],
      "_model_module": "@jupyter-widgets/controls",
      "_model_module_version": "1.5.0",
      "_model_name": "HTMLModel",
      "_view_count": null,
      "_view_module": "@jupyter-widgets/controls",
      "_view_module_version": "1.5.0",
      "_view_name": "HTMLView",
      "description": "",
      "description_tooltip": null,
      "layout": "IPY_MODEL_5c7b9d9238684217a9bfb69ec7c00311",
      "placeholder": "​",
      "style": "IPY_MODEL_861f786565ab447780e358ebeaa2e200",
      "value": "Downloading: 100%"
     }
    },
    "2e18a4fde90140a193ea573e022e73ce": {
     "model_module": "@jupyter-widgets/controls",
     "model_module_version": "1.5.0",
     "model_name": "DescriptionStyleModel",
     "state": {
      "_model_module": "@jupyter-widgets/controls",
      "_model_module_version": "1.5.0",
      "_model_name": "DescriptionStyleModel",
      "_view_count": null,
      "_view_module": "@jupyter-widgets/base",
      "_view_module_version": "1.2.0",
      "_view_name": "StyleView",
      "description_width": ""
     }
    },
    "307453a4f71649999fdf7dd5b461bad0": {
     "model_module": "@jupyter-widgets/controls",
     "model_module_version": "1.5.0",
     "model_name": "HBoxModel",
     "state": {
      "_dom_classes": [],
      "_model_module": "@jupyter-widgets/controls",
      "_model_module_version": "1.5.0",
      "_model_name": "HBoxModel",
      "_view_count": null,
      "_view_module": "@jupyter-widgets/controls",
      "_view_module_version": "1.5.0",
      "_view_name": "HBoxView",
      "box_style": "",
      "children": [
       "IPY_MODEL_2aa2509b63e3424ebf7ac390e1e9f5b6",
       "IPY_MODEL_1b519af57dbf4db8b5ef73ec640cb09d",
       "IPY_MODEL_c58a4f1eecfd499e80256e7acfa474c6"
      ],
      "layout": "IPY_MODEL_3bd1c61c22f64ff1a289beb94f8d21bf"
     }
    },
    "32a2fe444e314b2faf78025e63b58943": {
     "model_module": "@jupyter-widgets/controls",
     "model_module_version": "1.5.0",
     "model_name": "FloatProgressModel",
     "state": {
      "_dom_classes": [],
      "_model_module": "@jupyter-widgets/controls",
      "_model_module_version": "1.5.0",
      "_model_name": "FloatProgressModel",
      "_view_count": null,
      "_view_module": "@jupyter-widgets/controls",
      "_view_module_version": "1.5.0",
      "_view_name": "ProgressView",
      "bar_style": "success",
      "description": "",
      "description_tooltip": null,
      "layout": "IPY_MODEL_934f893245df438da3230b8c15d1c9d5",
      "max": 263326,
      "min": 0,
      "orientation": "horizontal",
      "style": "IPY_MODEL_fd4eff1558b24173970b963d59d20cfe",
      "value": 263326
     }
    },
    "33b6610c35bc45f1b987b5a5151efdbc": {
     "model_module": "@jupyter-widgets/base",
     "model_module_version": "1.2.0",
     "model_name": "LayoutModel",
     "state": {
      "_model_module": "@jupyter-widgets/base",
      "_model_module_version": "1.2.0",
      "_model_name": "LayoutModel",
      "_view_count": null,
      "_view_module": "@jupyter-widgets/base",
      "_view_module_version": "1.2.0",
      "_view_name": "LayoutView",
      "align_content": null,
      "align_items": null,
      "align_self": null,
      "border": null,
      "bottom": null,
      "display": null,
      "flex": null,
      "flex_flow": null,
      "grid_area": null,
      "grid_auto_columns": null,
      "grid_auto_flow": null,
      "grid_auto_rows": null,
      "grid_column": null,
      "grid_gap": null,
      "grid_row": null,
      "grid_template_areas": null,
      "grid_template_columns": null,
      "grid_template_rows": null,
      "height": null,
      "justify_content": null,
      "justify_items": null,
      "left": null,
      "margin": null,
      "max_height": null,
      "max_width": null,
      "min_height": null,
      "min_width": null,
      "object_fit": null,
      "object_position": null,
      "order": null,
      "overflow": null,
      "overflow_x": null,
      "overflow_y": null,
      "padding": null,
      "right": null,
      "top": null,
      "visibility": null,
      "width": null
     }
    },
    "3b11a62f300d43f7ae5a22d0dd6df6ae": {
     "model_module": "@jupyter-widgets/base",
     "model_module_version": "1.2.0",
     "model_name": "LayoutModel",
     "state": {
      "_model_module": "@jupyter-widgets/base",
      "_model_module_version": "1.2.0",
      "_model_name": "LayoutModel",
      "_view_count": null,
      "_view_module": "@jupyter-widgets/base",
      "_view_module_version": "1.2.0",
      "_view_name": "LayoutView",
      "align_content": null,
      "align_items": null,
      "align_self": null,
      "border": null,
      "bottom": null,
      "display": null,
      "flex": null,
      "flex_flow": null,
      "grid_area": null,
      "grid_auto_columns": null,
      "grid_auto_flow": null,
      "grid_auto_rows": null,
      "grid_column": null,
      "grid_gap": null,
      "grid_row": null,
      "grid_template_areas": null,
      "grid_template_columns": null,
      "grid_template_rows": null,
      "height": null,
      "justify_content": null,
      "justify_items": null,
      "left": null,
      "margin": null,
      "max_height": null,
      "max_width": null,
      "min_height": null,
      "min_width": null,
      "object_fit": null,
      "object_position": null,
      "order": null,
      "overflow": null,
      "overflow_x": null,
      "overflow_y": null,
      "padding": null,
      "right": null,
      "top": null,
      "visibility": null,
      "width": null
     }
    },
    "3bd1c61c22f64ff1a289beb94f8d21bf": {
     "model_module": "@jupyter-widgets/base",
     "model_module_version": "1.2.0",
     "model_name": "LayoutModel",
     "state": {
      "_model_module": "@jupyter-widgets/base",
      "_model_module_version": "1.2.0",
      "_model_name": "LayoutModel",
      "_view_count": null,
      "_view_module": "@jupyter-widgets/base",
      "_view_module_version": "1.2.0",
      "_view_name": "LayoutView",
      "align_content": null,
      "align_items": null,
      "align_self": null,
      "border": null,
      "bottom": null,
      "display": null,
      "flex": null,
      "flex_flow": null,
      "grid_area": null,
      "grid_auto_columns": null,
      "grid_auto_flow": null,
      "grid_auto_rows": null,
      "grid_column": null,
      "grid_gap": null,
      "grid_row": null,
      "grid_template_areas": null,
      "grid_template_columns": null,
      "grid_template_rows": null,
      "height": null,
      "justify_content": null,
      "justify_items": null,
      "left": null,
      "margin": null,
      "max_height": null,
      "max_width": null,
      "min_height": null,
      "min_width": null,
      "object_fit": null,
      "object_position": null,
      "order": null,
      "overflow": null,
      "overflow_x": null,
      "overflow_y": null,
      "padding": null,
      "right": null,
      "top": null,
      "visibility": null,
      "width": null
     }
    },
    "3df7a932a6324d8bb46cec8178da78ca": {
     "model_module": "@jupyter-widgets/base",
     "model_module_version": "1.2.0",
     "model_name": "LayoutModel",
     "state": {
      "_model_module": "@jupyter-widgets/base",
      "_model_module_version": "1.2.0",
      "_model_name": "LayoutModel",
      "_view_count": null,
      "_view_module": "@jupyter-widgets/base",
      "_view_module_version": "1.2.0",
      "_view_name": "LayoutView",
      "align_content": null,
      "align_items": null,
      "align_self": null,
      "border": null,
      "bottom": null,
      "display": null,
      "flex": null,
      "flex_flow": null,
      "grid_area": null,
      "grid_auto_columns": null,
      "grid_auto_flow": null,
      "grid_auto_rows": null,
      "grid_column": null,
      "grid_gap": null,
      "grid_row": null,
      "grid_template_areas": null,
      "grid_template_columns": null,
      "grid_template_rows": null,
      "height": null,
      "justify_content": null,
      "justify_items": null,
      "left": null,
      "margin": null,
      "max_height": null,
      "max_width": null,
      "min_height": null,
      "min_width": null,
      "object_fit": null,
      "object_position": null,
      "order": null,
      "overflow": null,
      "overflow_x": null,
      "overflow_y": null,
      "padding": null,
      "right": null,
      "top": null,
      "visibility": null,
      "width": null
     }
    },
    "4654cc91b5d142cd91762e5ad6f31226": {
     "model_module": "@jupyter-widgets/controls",
     "model_module_version": "1.5.0",
     "model_name": "DescriptionStyleModel",
     "state": {
      "_model_module": "@jupyter-widgets/controls",
      "_model_module_version": "1.5.0",
      "_model_name": "DescriptionStyleModel",
      "_view_count": null,
      "_view_module": "@jupyter-widgets/base",
      "_view_module_version": "1.2.0",
      "_view_name": "StyleView",
      "description_width": ""
     }
    },
    "4c7e2040895c4b78bfe77e7722bbf83d": {
     "model_module": "@jupyter-widgets/controls",
     "model_module_version": "1.5.0",
     "model_name": "HBoxModel",
     "state": {
      "_dom_classes": [],
      "_model_module": "@jupyter-widgets/controls",
      "_model_module_version": "1.5.0",
      "_model_name": "HBoxModel",
      "_view_count": null,
      "_view_module": "@jupyter-widgets/controls",
      "_view_module_version": "1.5.0",
      "_view_name": "HBoxView",
      "box_style": "",
      "children": [
       "IPY_MODEL_d7942514f0c44819b66a3c067d873657",
       "IPY_MODEL_32a2fe444e314b2faf78025e63b58943",
       "IPY_MODEL_09f3dd6e10c342a0857e58d9e4cc759c"
      ],
      "layout": "IPY_MODEL_bdd42b07f9a34526aafd40481e400ec3"
     }
    },
    "518c7d13a4044ab3a6b7f289b0cd73c1": {
     "model_module": "@jupyter-widgets/base",
     "model_module_version": "1.2.0",
     "model_name": "LayoutModel",
     "state": {
      "_model_module": "@jupyter-widgets/base",
      "_model_module_version": "1.2.0",
      "_model_name": "LayoutModel",
      "_view_count": null,
      "_view_module": "@jupyter-widgets/base",
      "_view_module_version": "1.2.0",
      "_view_name": "LayoutView",
      "align_content": null,
      "align_items": null,
      "align_self": null,
      "border": null,
      "bottom": null,
      "display": null,
      "flex": null,
      "flex_flow": null,
      "grid_area": null,
      "grid_auto_columns": null,
      "grid_auto_flow": null,
      "grid_auto_rows": null,
      "grid_column": null,
      "grid_gap": null,
      "grid_row": null,
      "grid_template_areas": null,
      "grid_template_columns": null,
      "grid_template_rows": null,
      "height": null,
      "justify_content": null,
      "justify_items": null,
      "left": null,
      "margin": null,
      "max_height": null,
      "max_width": null,
      "min_height": null,
      "min_width": null,
      "object_fit": null,
      "object_position": null,
      "order": null,
      "overflow": null,
      "overflow_x": null,
      "overflow_y": null,
      "padding": null,
      "right": null,
      "top": null,
      "visibility": null,
      "width": null
     }
    },
    "5776e6ee0faa49b8b92a4e2ded121a1b": {
     "model_module": "@jupyter-widgets/controls",
     "model_module_version": "1.5.0",
     "model_name": "HBoxModel",
     "state": {
      "_dom_classes": [],
      "_model_module": "@jupyter-widgets/controls",
      "_model_module_version": "1.5.0",
      "_model_name": "HBoxModel",
      "_view_count": null,
      "_view_module": "@jupyter-widgets/controls",
      "_view_module_version": "1.5.0",
      "_view_name": "HBoxView",
      "box_style": "",
      "children": [
       "IPY_MODEL_910f6d73e3284878a151771f4b115e05",
       "IPY_MODEL_bc8ed497da2c44d6925ced91b58df7fd",
       "IPY_MODEL_5c064f74bae740d3b24065e84febaf59"
      ],
      "layout": "IPY_MODEL_3b11a62f300d43f7ae5a22d0dd6df6ae"
     }
    },
    "5c064f74bae740d3b24065e84febaf59": {
     "model_module": "@jupyter-widgets/controls",
     "model_module_version": "1.5.0",
     "model_name": "HTMLModel",
     "state": {
      "_dom_classes": [],
      "_model_module": "@jupyter-widgets/controls",
      "_model_module_version": "1.5.0",
      "_model_name": "HTMLModel",
      "_view_count": null,
      "_view_module": "@jupyter-widgets/controls",
      "_view_module_version": "1.5.0",
      "_view_name": "HTMLView",
      "description": "",
      "description_tooltip": null,
      "layout": "IPY_MODEL_79e537633ce44eabb7e235e9c73eb3bc",
      "placeholder": "​",
      "style": "IPY_MODEL_2e18a4fde90140a193ea573e022e73ce",
      "value": " 61.0/61.0 [00:00&lt;00:00, 1.55kB/s]"
     }
    },
    "5c7b9d9238684217a9bfb69ec7c00311": {
     "model_module": "@jupyter-widgets/base",
     "model_module_version": "1.2.0",
     "model_name": "LayoutModel",
     "state": {
      "_model_module": "@jupyter-widgets/base",
      "_model_module_version": "1.2.0",
      "_model_name": "LayoutModel",
      "_view_count": null,
      "_view_module": "@jupyter-widgets/base",
      "_view_module_version": "1.2.0",
      "_view_name": "LayoutView",
      "align_content": null,
      "align_items": null,
      "align_self": null,
      "border": null,
      "bottom": null,
      "display": null,
      "flex": null,
      "flex_flow": null,
      "grid_area": null,
      "grid_auto_columns": null,
      "grid_auto_flow": null,
      "grid_auto_rows": null,
      "grid_column": null,
      "grid_gap": null,
      "grid_row": null,
      "grid_template_areas": null,
      "grid_template_columns": null,
      "grid_template_rows": null,
      "height": null,
      "justify_content": null,
      "justify_items": null,
      "left": null,
      "margin": null,
      "max_height": null,
      "max_width": null,
      "min_height": null,
      "min_width": null,
      "object_fit": null,
      "object_position": null,
      "order": null,
      "overflow": null,
      "overflow_x": null,
      "overflow_y": null,
      "padding": null,
      "right": null,
      "top": null,
      "visibility": null,
      "width": null
     }
    },
    "5c8b1b9f44d44bd2af41430239a431f6": {
     "model_module": "@jupyter-widgets/controls",
     "model_module_version": "1.5.0",
     "model_name": "ProgressStyleModel",
     "state": {
      "_model_module": "@jupyter-widgets/controls",
      "_model_module_version": "1.5.0",
      "_model_name": "ProgressStyleModel",
      "_view_count": null,
      "_view_module": "@jupyter-widgets/base",
      "_view_module_version": "1.2.0",
      "_view_name": "StyleView",
      "bar_color": null,
      "description_width": ""
     }
    },
    "6c6449e0f6914953b9dc45d08f42be95": {
     "model_module": "@jupyter-widgets/controls",
     "model_module_version": "1.5.0",
     "model_name": "DescriptionStyleModel",
     "state": {
      "_model_module": "@jupyter-widgets/controls",
      "_model_module_version": "1.5.0",
      "_model_name": "DescriptionStyleModel",
      "_view_count": null,
      "_view_module": "@jupyter-widgets/base",
      "_view_module_version": "1.2.0",
      "_view_name": "StyleView",
      "description_width": ""
     }
    },
    "79e537633ce44eabb7e235e9c73eb3bc": {
     "model_module": "@jupyter-widgets/base",
     "model_module_version": "1.2.0",
     "model_name": "LayoutModel",
     "state": {
      "_model_module": "@jupyter-widgets/base",
      "_model_module_version": "1.2.0",
      "_model_name": "LayoutModel",
      "_view_count": null,
      "_view_module": "@jupyter-widgets/base",
      "_view_module_version": "1.2.0",
      "_view_name": "LayoutView",
      "align_content": null,
      "align_items": null,
      "align_self": null,
      "border": null,
      "bottom": null,
      "display": null,
      "flex": null,
      "flex_flow": null,
      "grid_area": null,
      "grid_auto_columns": null,
      "grid_auto_flow": null,
      "grid_auto_rows": null,
      "grid_column": null,
      "grid_gap": null,
      "grid_row": null,
      "grid_template_areas": null,
      "grid_template_columns": null,
      "grid_template_rows": null,
      "height": null,
      "justify_content": null,
      "justify_items": null,
      "left": null,
      "margin": null,
      "max_height": null,
      "max_width": null,
      "min_height": null,
      "min_width": null,
      "object_fit": null,
      "object_position": null,
      "order": null,
      "overflow": null,
      "overflow_x": null,
      "overflow_y": null,
      "padding": null,
      "right": null,
      "top": null,
      "visibility": null,
      "width": null
     }
    },
    "855df198e751496c923247e904fc1e21": {
     "model_module": "@jupyter-widgets/base",
     "model_module_version": "1.2.0",
     "model_name": "LayoutModel",
     "state": {
      "_model_module": "@jupyter-widgets/base",
      "_model_module_version": "1.2.0",
      "_model_name": "LayoutModel",
      "_view_count": null,
      "_view_module": "@jupyter-widgets/base",
      "_view_module_version": "1.2.0",
      "_view_name": "LayoutView",
      "align_content": null,
      "align_items": null,
      "align_self": null,
      "border": null,
      "bottom": null,
      "display": null,
      "flex": null,
      "flex_flow": null,
      "grid_area": null,
      "grid_auto_columns": null,
      "grid_auto_flow": null,
      "grid_auto_rows": null,
      "grid_column": null,
      "grid_gap": null,
      "grid_row": null,
      "grid_template_areas": null,
      "grid_template_columns": null,
      "grid_template_rows": null,
      "height": null,
      "justify_content": null,
      "justify_items": null,
      "left": null,
      "margin": null,
      "max_height": null,
      "max_width": null,
      "min_height": null,
      "min_width": null,
      "object_fit": null,
      "object_position": null,
      "order": null,
      "overflow": null,
      "overflow_x": null,
      "overflow_y": null,
      "padding": null,
      "right": null,
      "top": null,
      "visibility": null,
      "width": null
     }
    },
    "861f786565ab447780e358ebeaa2e200": {
     "model_module": "@jupyter-widgets/controls",
     "model_module_version": "1.5.0",
     "model_name": "DescriptionStyleModel",
     "state": {
      "_model_module": "@jupyter-widgets/controls",
      "_model_module_version": "1.5.0",
      "_model_name": "DescriptionStyleModel",
      "_view_count": null,
      "_view_module": "@jupyter-widgets/base",
      "_view_module_version": "1.2.0",
      "_view_name": "StyleView",
      "description_width": ""
     }
    },
    "8ce780bd3eb04834b24d0260346d9a91": {
     "model_module": "@jupyter-widgets/controls",
     "model_module_version": "1.5.0",
     "model_name": "ProgressStyleModel",
     "state": {
      "_model_module": "@jupyter-widgets/controls",
      "_model_module_version": "1.5.0",
      "_model_name": "ProgressStyleModel",
      "_view_count": null,
      "_view_module": "@jupyter-widgets/base",
      "_view_module_version": "1.2.0",
      "_view_name": "StyleView",
      "bar_color": null,
      "description_width": ""
     }
    },
    "910f6d73e3284878a151771f4b115e05": {
     "model_module": "@jupyter-widgets/controls",
     "model_module_version": "1.5.0",
     "model_name": "HTMLModel",
     "state": {
      "_dom_classes": [],
      "_model_module": "@jupyter-widgets/controls",
      "_model_module_version": "1.5.0",
      "_model_name": "HTMLModel",
      "_view_count": null,
      "_view_module": "@jupyter-widgets/controls",
      "_view_module_version": "1.5.0",
      "_view_name": "HTMLView",
      "description": "",
      "description_tooltip": null,
      "layout": "IPY_MODEL_33b6610c35bc45f1b987b5a5151efdbc",
      "placeholder": "​",
      "style": "IPY_MODEL_4654cc91b5d142cd91762e5ad6f31226",
      "value": "Downloading: 100%"
     }
    },
    "934f893245df438da3230b8c15d1c9d5": {
     "model_module": "@jupyter-widgets/base",
     "model_module_version": "1.2.0",
     "model_name": "LayoutModel",
     "state": {
      "_model_module": "@jupyter-widgets/base",
      "_model_module_version": "1.2.0",
      "_model_name": "LayoutModel",
      "_view_count": null,
      "_view_module": "@jupyter-widgets/base",
      "_view_module_version": "1.2.0",
      "_view_name": "LayoutView",
      "align_content": null,
      "align_items": null,
      "align_self": null,
      "border": null,
      "bottom": null,
      "display": null,
      "flex": null,
      "flex_flow": null,
      "grid_area": null,
      "grid_auto_columns": null,
      "grid_auto_flow": null,
      "grid_auto_rows": null,
      "grid_column": null,
      "grid_gap": null,
      "grid_row": null,
      "grid_template_areas": null,
      "grid_template_columns": null,
      "grid_template_rows": null,
      "height": null,
      "justify_content": null,
      "justify_items": null,
      "left": null,
      "margin": null,
      "max_height": null,
      "max_width": null,
      "min_height": null,
      "min_width": null,
      "object_fit": null,
      "object_position": null,
      "order": null,
      "overflow": null,
      "overflow_x": null,
      "overflow_y": null,
      "padding": null,
      "right": null,
      "top": null,
      "visibility": null,
      "width": null
     }
    },
    "9be65a8217414d368c5202d14cccda02": {
     "model_module": "@jupyter-widgets/base",
     "model_module_version": "1.2.0",
     "model_name": "LayoutModel",
     "state": {
      "_model_module": "@jupyter-widgets/base",
      "_model_module_version": "1.2.0",
      "_model_name": "LayoutModel",
      "_view_count": null,
      "_view_module": "@jupyter-widgets/base",
      "_view_module_version": "1.2.0",
      "_view_name": "LayoutView",
      "align_content": null,
      "align_items": null,
      "align_self": null,
      "border": null,
      "bottom": null,
      "display": null,
      "flex": null,
      "flex_flow": null,
      "grid_area": null,
      "grid_auto_columns": null,
      "grid_auto_flow": null,
      "grid_auto_rows": null,
      "grid_column": null,
      "grid_gap": null,
      "grid_row": null,
      "grid_template_areas": null,
      "grid_template_columns": null,
      "grid_template_rows": null,
      "height": null,
      "justify_content": null,
      "justify_items": null,
      "left": null,
      "margin": null,
      "max_height": null,
      "max_width": null,
      "min_height": null,
      "min_width": null,
      "object_fit": null,
      "object_position": null,
      "order": null,
      "overflow": null,
      "overflow_x": null,
      "overflow_y": null,
      "padding": null,
      "right": null,
      "top": null,
      "visibility": null,
      "width": null
     }
    },
    "b446584afdec4fb0a240b42cf1ebb36e": {
     "model_module": "@jupyter-widgets/controls",
     "model_module_version": "1.5.0",
     "model_name": "DescriptionStyleModel",
     "state": {
      "_model_module": "@jupyter-widgets/controls",
      "_model_module_version": "1.5.0",
      "_model_name": "DescriptionStyleModel",
      "_view_count": null,
      "_view_module": "@jupyter-widgets/base",
      "_view_module_version": "1.2.0",
      "_view_name": "StyleView",
      "description_width": ""
     }
    },
    "bc6766fc45a24d0f864468d50c1ddba1": {
     "model_module": "@jupyter-widgets/controls",
     "model_module_version": "1.5.0",
     "model_name": "HTMLModel",
     "state": {
      "_dom_classes": [],
      "_model_module": "@jupyter-widgets/controls",
      "_model_module_version": "1.5.0",
      "_model_name": "HTMLModel",
      "_view_count": null,
      "_view_module": "@jupyter-widgets/controls",
      "_view_module_version": "1.5.0",
      "_view_name": "HTMLView",
      "description": "",
      "description_tooltip": null,
      "layout": "IPY_MODEL_e10c8bccdff7447095af8194fbca9289",
      "placeholder": "​",
      "style": "IPY_MODEL_6c6449e0f6914953b9dc45d08f42be95",
      "value": "Downloading: 100%"
     }
    },
    "bc8ed497da2c44d6925ced91b58df7fd": {
     "model_module": "@jupyter-widgets/controls",
     "model_module_version": "1.5.0",
     "model_name": "FloatProgressModel",
     "state": {
      "_dom_classes": [],
      "_model_module": "@jupyter-widgets/controls",
      "_model_module_version": "1.5.0",
      "_model_name": "FloatProgressModel",
      "_view_count": null,
      "_view_module": "@jupyter-widgets/controls",
      "_view_module_version": "1.5.0",
      "_view_name": "ProgressView",
      "bar_style": "success",
      "description": "",
      "description_tooltip": null,
      "layout": "IPY_MODEL_d220070612934911953fa5524f710f8a",
      "max": 61,
      "min": 0,
      "orientation": "horizontal",
      "style": "IPY_MODEL_8ce780bd3eb04834b24d0260346d9a91",
      "value": 61
     }
    },
    "bdd42b07f9a34526aafd40481e400ec3": {
     "model_module": "@jupyter-widgets/base",
     "model_module_version": "1.2.0",
     "model_name": "LayoutModel",
     "state": {
      "_model_module": "@jupyter-widgets/base",
      "_model_module_version": "1.2.0",
      "_model_name": "LayoutModel",
      "_view_count": null,
      "_view_module": "@jupyter-widgets/base",
      "_view_module_version": "1.2.0",
      "_view_name": "LayoutView",
      "align_content": null,
      "align_items": null,
      "align_self": null,
      "border": null,
      "bottom": null,
      "display": null,
      "flex": null,
      "flex_flow": null,
      "grid_area": null,
      "grid_auto_columns": null,
      "grid_auto_flow": null,
      "grid_auto_rows": null,
      "grid_column": null,
      "grid_gap": null,
      "grid_row": null,
      "grid_template_areas": null,
      "grid_template_columns": null,
      "grid_template_rows": null,
      "height": null,
      "justify_content": null,
      "justify_items": null,
      "left": null,
      "margin": null,
      "max_height": null,
      "max_width": null,
      "min_height": null,
      "min_width": null,
      "object_fit": null,
      "object_position": null,
      "order": null,
      "overflow": null,
      "overflow_x": null,
      "overflow_y": null,
      "padding": null,
      "right": null,
      "top": null,
      "visibility": null,
      "width": null
     }
    },
    "c214bc911e4d4809a8c18308943cf806": {
     "model_module": "@jupyter-widgets/controls",
     "model_module_version": "1.5.0",
     "model_name": "HTMLModel",
     "state": {
      "_dom_classes": [],
      "_model_module": "@jupyter-widgets/controls",
      "_model_module_version": "1.5.0",
      "_model_name": "HTMLModel",
      "_view_count": null,
      "_view_module": "@jupyter-widgets/controls",
      "_view_module_version": "1.5.0",
      "_view_name": "HTMLView",
      "description": "",
      "description_tooltip": null,
      "layout": "IPY_MODEL_3df7a932a6324d8bb46cec8178da78ca",
      "placeholder": "​",
      "style": "IPY_MODEL_b446584afdec4fb0a240b42cf1ebb36e",
      "value": " 467/467 [00:00&lt;00:00, 12.4kB/s]"
     }
    },
    "c58a4f1eecfd499e80256e7acfa474c6": {
     "model_module": "@jupyter-widgets/controls",
     "model_module_version": "1.5.0",
     "model_name": "HTMLModel",
     "state": {
      "_dom_classes": [],
      "_model_module": "@jupyter-widgets/controls",
      "_model_module_version": "1.5.0",
      "_model_name": "HTMLModel",
      "_view_count": null,
      "_view_module": "@jupyter-widgets/controls",
      "_view_module_version": "1.5.0",
      "_view_name": "HTMLView",
      "description": "",
      "description_tooltip": null,
      "layout": "IPY_MODEL_2574eac8fde142338b53eac44b9afb6f",
      "placeholder": "​",
      "style": "IPY_MODEL_dacd40943b88496e983264d141bc707e",
      "value": " 431M/431M [00:12&lt;00:00, 38.4MB/s]"
     }
    },
    "d12a3012de19422db21ddaa4d2c23926": {
     "model_module": "@jupyter-widgets/controls",
     "model_module_version": "1.5.0",
     "model_name": "ProgressStyleModel",
     "state": {
      "_model_module": "@jupyter-widgets/controls",
      "_model_module_version": "1.5.0",
      "_model_name": "ProgressStyleModel",
      "_view_count": null,
      "_view_module": "@jupyter-widgets/base",
      "_view_module_version": "1.2.0",
      "_view_name": "StyleView",
      "bar_color": null,
      "description_width": ""
     }
    },
    "d1ede88780d74657ba1b3a4904990507": {
     "model_module": "@jupyter-widgets/base",
     "model_module_version": "1.2.0",
     "model_name": "LayoutModel",
     "state": {
      "_model_module": "@jupyter-widgets/base",
      "_model_module_version": "1.2.0",
      "_model_name": "LayoutModel",
      "_view_count": null,
      "_view_module": "@jupyter-widgets/base",
      "_view_module_version": "1.2.0",
      "_view_name": "LayoutView",
      "align_content": null,
      "align_items": null,
      "align_self": null,
      "border": null,
      "bottom": null,
      "display": null,
      "flex": null,
      "flex_flow": null,
      "grid_area": null,
      "grid_auto_columns": null,
      "grid_auto_flow": null,
      "grid_auto_rows": null,
      "grid_column": null,
      "grid_gap": null,
      "grid_row": null,
      "grid_template_areas": null,
      "grid_template_columns": null,
      "grid_template_rows": null,
      "height": null,
      "justify_content": null,
      "justify_items": null,
      "left": null,
      "margin": null,
      "max_height": null,
      "max_width": null,
      "min_height": null,
      "min_width": null,
      "object_fit": null,
      "object_position": null,
      "order": null,
      "overflow": null,
      "overflow_x": null,
      "overflow_y": null,
      "padding": null,
      "right": null,
      "top": null,
      "visibility": null,
      "width": null
     }
    },
    "d220070612934911953fa5524f710f8a": {
     "model_module": "@jupyter-widgets/base",
     "model_module_version": "1.2.0",
     "model_name": "LayoutModel",
     "state": {
      "_model_module": "@jupyter-widgets/base",
      "_model_module_version": "1.2.0",
      "_model_name": "LayoutModel",
      "_view_count": null,
      "_view_module": "@jupyter-widgets/base",
      "_view_module_version": "1.2.0",
      "_view_name": "LayoutView",
      "align_content": null,
      "align_items": null,
      "align_self": null,
      "border": null,
      "bottom": null,
      "display": null,
      "flex": null,
      "flex_flow": null,
      "grid_area": null,
      "grid_auto_columns": null,
      "grid_auto_flow": null,
      "grid_auto_rows": null,
      "grid_column": null,
      "grid_gap": null,
      "grid_row": null,
      "grid_template_areas": null,
      "grid_template_columns": null,
      "grid_template_rows": null,
      "height": null,
      "justify_content": null,
      "justify_items": null,
      "left": null,
      "margin": null,
      "max_height": null,
      "max_width": null,
      "min_height": null,
      "min_width": null,
      "object_fit": null,
      "object_position": null,
      "order": null,
      "overflow": null,
      "overflow_x": null,
      "overflow_y": null,
      "padding": null,
      "right": null,
      "top": null,
      "visibility": null,
      "width": null
     }
    },
    "d3ef943b78d34384b6a16dc280a4ab8d": {
     "model_module": "@jupyter-widgets/controls",
     "model_module_version": "1.5.0",
     "model_name": "DescriptionStyleModel",
     "state": {
      "_model_module": "@jupyter-widgets/controls",
      "_model_module_version": "1.5.0",
      "_model_name": "DescriptionStyleModel",
      "_view_count": null,
      "_view_module": "@jupyter-widgets/base",
      "_view_module_version": "1.2.0",
      "_view_name": "StyleView",
      "description_width": ""
     }
    },
    "d7942514f0c44819b66a3c067d873657": {
     "model_module": "@jupyter-widgets/controls",
     "model_module_version": "1.5.0",
     "model_name": "HTMLModel",
     "state": {
      "_dom_classes": [],
      "_model_module": "@jupyter-widgets/controls",
      "_model_module_version": "1.5.0",
      "_model_name": "HTMLModel",
      "_view_count": null,
      "_view_module": "@jupyter-widgets/controls",
      "_view_module_version": "1.5.0",
      "_view_name": "HTMLView",
      "description": "",
      "description_tooltip": null,
      "layout": "IPY_MODEL_9be65a8217414d368c5202d14cccda02",
      "placeholder": "​",
      "style": "IPY_MODEL_d3ef943b78d34384b6a16dc280a4ab8d",
      "value": "Downloading: 100%"
     }
    },
    "dacd40943b88496e983264d141bc707e": {
     "model_module": "@jupyter-widgets/controls",
     "model_module_version": "1.5.0",
     "model_name": "DescriptionStyleModel",
     "state": {
      "_model_module": "@jupyter-widgets/controls",
      "_model_module_version": "1.5.0",
      "_model_name": "DescriptionStyleModel",
      "_view_count": null,
      "_view_module": "@jupyter-widgets/base",
      "_view_module_version": "1.2.0",
      "_view_name": "StyleView",
      "description_width": ""
     }
    },
    "e10c8bccdff7447095af8194fbca9289": {
     "model_module": "@jupyter-widgets/base",
     "model_module_version": "1.2.0",
     "model_name": "LayoutModel",
     "state": {
      "_model_module": "@jupyter-widgets/base",
      "_model_module_version": "1.2.0",
      "_model_name": "LayoutModel",
      "_view_count": null,
      "_view_module": "@jupyter-widgets/base",
      "_view_module_version": "1.2.0",
      "_view_name": "LayoutView",
      "align_content": null,
      "align_items": null,
      "align_self": null,
      "border": null,
      "bottom": null,
      "display": null,
      "flex": null,
      "flex_flow": null,
      "grid_area": null,
      "grid_auto_columns": null,
      "grid_auto_flow": null,
      "grid_auto_rows": null,
      "grid_column": null,
      "grid_gap": null,
      "grid_row": null,
      "grid_template_areas": null,
      "grid_template_columns": null,
      "grid_template_rows": null,
      "height": null,
      "justify_content": null,
      "justify_items": null,
      "left": null,
      "margin": null,
      "max_height": null,
      "max_width": null,
      "min_height": null,
      "min_width": null,
      "object_fit": null,
      "object_position": null,
      "order": null,
      "overflow": null,
      "overflow_x": null,
      "overflow_y": null,
      "padding": null,
      "right": null,
      "top": null,
      "visibility": null,
      "width": null
     }
    },
    "ec7fbdf4b0e74b2cadc268714da2eda1": {
     "model_module": "@jupyter-widgets/controls",
     "model_module_version": "1.5.0",
     "model_name": "HBoxModel",
     "state": {
      "_dom_classes": [],
      "_model_module": "@jupyter-widgets/controls",
      "_model_module_version": "1.5.0",
      "_model_name": "HBoxModel",
      "_view_count": null,
      "_view_module": "@jupyter-widgets/controls",
      "_view_module_version": "1.5.0",
      "_view_name": "HBoxView",
      "box_style": "",
      "children": [
       "IPY_MODEL_bc6766fc45a24d0f864468d50c1ddba1",
       "IPY_MODEL_ee25ead2249842458946f6b55eb62c11",
       "IPY_MODEL_c214bc911e4d4809a8c18308943cf806"
      ],
      "layout": "IPY_MODEL_518c7d13a4044ab3a6b7f289b0cd73c1"
     }
    },
    "ee25ead2249842458946f6b55eb62c11": {
     "model_module": "@jupyter-widgets/controls",
     "model_module_version": "1.5.0",
     "model_name": "FloatProgressModel",
     "state": {
      "_dom_classes": [],
      "_model_module": "@jupyter-widgets/controls",
      "_model_module_version": "1.5.0",
      "_model_name": "FloatProgressModel",
      "_view_count": null,
      "_view_module": "@jupyter-widgets/controls",
      "_view_module_version": "1.5.0",
      "_view_name": "ProgressView",
      "bar_style": "success",
      "description": "",
      "description_tooltip": null,
      "layout": "IPY_MODEL_d1ede88780d74657ba1b3a4904990507",
      "max": 467,
      "min": 0,
      "orientation": "horizontal",
      "style": "IPY_MODEL_5c8b1b9f44d44bd2af41430239a431f6",
      "value": 467
     }
    },
    "f9a8946305e24a6995ffb5cba191b744": {
     "model_module": "@jupyter-widgets/controls",
     "model_module_version": "1.5.0",
     "model_name": "DescriptionStyleModel",
     "state": {
      "_model_module": "@jupyter-widgets/controls",
      "_model_module_version": "1.5.0",
      "_model_name": "DescriptionStyleModel",
      "_view_count": null,
      "_view_module": "@jupyter-widgets/base",
      "_view_module_version": "1.2.0",
      "_view_name": "StyleView",
      "description_width": ""
     }
    },
    "fd4eff1558b24173970b963d59d20cfe": {
     "model_module": "@jupyter-widgets/controls",
     "model_module_version": "1.5.0",
     "model_name": "ProgressStyleModel",
     "state": {
      "_model_module": "@jupyter-widgets/controls",
      "_model_module_version": "1.5.0",
      "_model_name": "ProgressStyleModel",
      "_view_count": null,
      "_view_module": "@jupyter-widgets/base",
      "_view_module_version": "1.2.0",
      "_view_name": "StyleView",
      "bar_color": null,
      "description_width": ""
     }
    }
   }
  }
 },
 "nbformat": 4,
 "nbformat_minor": 5
}
